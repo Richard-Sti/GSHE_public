{
 "cells": [
  {
   "cell_type": "code",
   "execution_count": 2,
   "id": "727c005a",
   "metadata": {
    "ExecuteTime": {
     "end_time": "2022-04-15T14:19:28.477947Z",
     "start_time": "2022-04-15T14:19:27.402047Z"
    }
   },
   "outputs": [],
   "source": [
    "import sympy as sp\n",
    "from sympy.parsing.mathematica import mathematica\n",
    "import pyperclip\n",
    "\n",
    "# Default mathemathica required translations\n",
    "TRANSLATIONS = {'Csc[x]': '1 / sin(x)',\n",
    "                'Cot[x]': '1 / tan(x)'}\n",
    "\n",
    "\n",
    "def parse_mathematica_vector(fpath, additional_translations=None, subs=None):\n",
    "    r\"\"\"\n",
    "    Parses a vector expression from Mathematica and translates it to sp.\n",
    "    The vector must look like :math:`\\left\\{x_0, x_1, \\ldots\\right)}`, i.e.\n",
    "    be wrapped in curly brackets and separated with ', '. Note the space\n",
    "    following the comma.\n",
    "\n",
    "    See documentation for more details on how to export from Mathematica.\n",
    "\n",
    "\n",
    "    Arguments\n",
    "    ---------\n",
    "    fpath: str\n",
    "        Filepath to the saved '.txt' mathematica expression.\n",
    "    additional_translations: dict\n",
    "        Dictionary of translations of Mathematica functions to sp. For\n",
    "        example: `{'Csc[x]': '1 / sin(x)'}`. Used for functions which are not\n",
    "        natively supported in sp.\n",
    "    subs: dict\n",
    "        Dictionary of symbolic substitutions into the final expression, can\n",
    "        look like `{'alpha': alpha}`, where `alpha` is a\n",
    "        `:py:class:sp.Symbol` type.\n",
    "\n",
    "    Returns\n",
    "    -------\n",
    "    vector: sp.Matrix\n",
    "        The translated symbolic vector.\n",
    "    \"\"\"\n",
    "    if additional_translations is None:\n",
    "        additional_translations = TRANSLATIONS\n",
    "    vector = []\n",
    "    with open(fpath, \"r\") as file:\n",
    "        for i, line in enumerate(file):\n",
    "            expr = line\n",
    "            if i > 0:\n",
    "                raise ValueError(\"Unexpected input (more than 1 line).\")\n",
    "        # Mathematica vector is split like this\n",
    "        # The brackets denote the first and last position.\n",
    "        for i, sym in enumerate(expr.split(', ')):\n",
    "            if sym.startswith('{'):\n",
    "                sym = sym[1:]\n",
    "            if sym.endswith('}'):\n",
    "                sym = sym[:-1]\n",
    "            vector.append(mathematica(sym, additional_translations))\n",
    "\n",
    "    vector = sp.Matrix(vector)\n",
    "\n",
    "    if subs is not None:\n",
    "        if not isinstance(subs, list):\n",
    "            subs = [subs]\n",
    "        for sub in subs:\n",
    "            vector = vector.subs(sub)\n",
    "    return vector\n",
    "\n",
    "\n",
    "def sympy_to_julia(expr):\n",
    "    julia_code = sp.printing.julia_code(expr)\n",
    "    julia_code = julia_code.replace('.*', '*')\n",
    "    julia_code = julia_code.replace('./', '/')\n",
    "    julia_code = julia_code.replace('.+', '+')\n",
    "    julia_code = julia_code.replace('.-', '-')\n",
    "    julia_code = julia_code.replace('.^', '^')\n",
    "    \n",
    "    \n",
    "    julia_code = julia_code.replace('GWR', 'x[2]')\n",
    "    julia_code = julia_code.replace('GWTHETA', 'x[3]')\n",
    "    julia_code = julia_code.replace('HXPR', 'x[5]')\n",
    "    julia_code = julia_code.replace('HXPTHETA', 'x[6]')\n",
    "    julia_code = julia_code.replace('HXPPHI', 'x[6]')\n",
    "    julia_code = julia_code.replace('ZYA', 'p[1]')\n",
    "    julia_code = julia_code.replace('ZYEPS', 'p[2]')\n",
    "    julia_code = julia_code.replace('ZYS', 'p[3]')\n",
    "\n",
    "    return julia_code"
   ]
  },
  {
   "cell_type": "code",
   "execution_count": 3,
   "id": "0bb79bf3",
   "metadata": {
    "ExecuteTime": {
     "end_time": "2022-04-15T15:42:57.688820Z",
     "start_time": "2022-04-15T15:42:43.794158Z"
    }
   },
   "outputs": [],
   "source": [
    "x_vector = sp.symbols('t r θ ϕ')\n",
    "# We want to rename some variables\n",
    "subs = {'p{}'.format(i): sp.Symbol('p_{}'.format(p)) for i, p in enumerate(x_vector)}\n",
    "TRIG_SUBS = {sp.cos(x_vector[2]): 'c_θ',\n",
    "             sp.sin(x_vector[2]): 's_θ',\n",
    "             sp.cos(2*x_vector[2]): 'c_2θ',\n",
    "             sp.sin(2*x_vector[2]): 's_2θ',\n",
    "             sp.tan(x_vector[2]): 't_θ',\n",
    "             sp.tan(2*x_vector[2]): 't_2θ'}\n",
    "\n",
    "\n",
    "vector_subs = {'r': 'GWR',\n",
    "               'θ': 'GWTHETA',\n",
    "               'p_r': 'HXPR',\n",
    "               'p_θ': 'HXPTHETA',\n",
    "               'p_ϕ': 'HXPPHI',\n",
    "               'a': 'ZYA',\n",
    "               '}': 'ZYEPS',\n",
    "               's': 'ZYS'}\n",
    "\n",
    "subs.update(TRIG_SUBS)\n",
    "\n",
    "subs.update({'Z1': 'Robs',\n",
    "             'Z2': 'θobs',\n",
    "             'v3': 'v3',\n",
    "             'dv3': 'dv3',\n",
    "             'Y1': 'Rsrc',\n",
    "             'Y2': 'θsrc'})\n",
    "\n",
    "odes = parse_mathematica_vector(\"/Users/richard/Projects/birefringence/mathematica_export/Kerr_EQS.txt\",\n",
    "                                subs=[subs])\n",
    "geodesic_odes = parse_mathematica_vector(\"/Users/richard/Projects/birefringence/mathematica_export/Kerr_EQSgeodesic.txt\",\n",
    "                                subs=[subs])\n",
    "pi0 = parse_mathematica_vector(\"/Users/richard/Projects/birefringence/mathematica_export/Kerr_pinitial.txt\",\n",
    "                               subs=[subs])[1:]\n",
    "pi0 = sp.Matrix(pi0)\n",
    "p0 = parse_mathematica_vector(\"/Users/richard/Projects/birefringence/mathematica_export/Kerr_pt0EQ.txt\",\n",
    "                              subs=[subs])[0]\n",
    "\n",
    "v3 = parse_mathematica_vector(\"/Users/richard/Projects/birefringence/mathematica_export/Kerr_v0.txt\",\n",
    "                              subs=[subs])[0]\n",
    "\n",
    "dv3dr = parse_mathematica_vector(\"/Users/richard/Projects/birefringence/mathematica_export/Kerr_v1.txt\",\n",
    "                              subs=[subs])[0]\n",
    "\n",
    "static_observer_proper_time = parse_mathematica_vector(\"/Users/richard/Projects/birefringence/mathematica_export/Kerr_stat_obs_propertime.txt\",\n",
    "                                                       subs=[subs])[0]\n",
    "\n",
    "pi0_shadow = parse_mathematica_vector(\"/Users/richard/Projects/birefringence/mathematica_export/Kerr_pinitial_shadow.txt\",\n",
    "                               subs=[subs])[1:]\n",
    "pi0_shadowpos = parse_mathematica_vector(\"/Users/richard/Projects/birefringence/mathematica_export/Kerr_pinitial_shadowPos.txt\",\n",
    "                               subs=[subs])[1:]"
   ]
  },
  {
   "cell_type": "code",
   "execution_count": 5,
   "id": "1febe632",
   "metadata": {
    "ExecuteTime": {
     "end_time": "2022-04-15T15:51:29.640176Z",
     "start_time": "2022-04-15T15:51:29.192512Z"
    }
   },
   "outputs": [
    {
     "name": "stdout",
     "output_type": "stream",
     "text": [
      "Any[sqrt(-(a^2*c_θ^2 + r^2)*(k2^2 + k3^3 - 1)/(a^2 + r*(r - 2))), k2*sqrt(a^2*c_θ^2 + r^2), s_θ*(a*k3*s_θ*v3*sqrt(a^2 + r*(r - 2)) + a*s_θ*sqrt(a^2 + r*(r - 2)) + (a^2 + r^2)*(k3 + v3))/sqrt(-(v3^2 - 1)*(a^2*c_θ^2 + r^2))]\n"
     ]
    }
   ],
   "source": [
    "expr = sympy_to_julia(pi0_shadowpos)\n",
    "print(expr)\n",
    "pyperclip.copy(expr)"
   ]
  },
  {
   "cell_type": "code",
   "execution_count": null,
   "id": "55cb8aca",
   "metadata": {},
   "outputs": [],
   "source": []
  }
 ],
 "metadata": {
  "kernelspec": {
   "display_name": "Python 3 (ipykernel)",
   "language": "python",
   "name": "python3"
  },
  "language_info": {
   "codemirror_mode": {
    "name": "ipython",
    "version": 3
   },
   "file_extension": ".py",
   "mimetype": "text/x-python",
   "name": "python",
   "nbconvert_exporter": "python",
   "pygments_lexer": "ipython3",
   "version": "3.9.6"
  }
 },
 "nbformat": 4,
 "nbformat_minor": 5
}
