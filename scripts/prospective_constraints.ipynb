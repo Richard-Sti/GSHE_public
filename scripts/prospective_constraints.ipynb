{
 "cells": [
  {
   "cell_type": "code",
   "execution_count": 17,
   "id": "f86303fe",
   "metadata": {},
   "outputs": [],
   "source": [
    "import pandas as pd\n",
    "import numpy as np\n",
    "import matplotlib.pyplot as plt\n",
    "\n",
    "%matplotlib inline\n",
    "\n",
    "import sys\n",
    "sys.path.insert(0,'../GSHEWaveform/')\n",
    "sys.path.insert(0,'../')\n",
    "\n",
    "import forecast as fc\n",
    "\n",
    "from importlib import reload\n",
    "\n",
    "plt.style.use(\"../plot_style.txt\")"
   ]
  },
  {
   "cell_type": "code",
   "execution_count": 18,
   "id": "0559c2b9",
   "metadata": {},
   "outputs": [
    {
     "data": {
      "text/plain": [
       "('100.0000', '0', '1.20', '0.001', '0.12\\\\cdot 10^{-7}')"
      ]
     },
     "execution_count": 18,
     "metadata": {},
     "output_type": "execute_result"
    }
   ],
   "source": [
    "def latex_exp(x, exp_min = (0,0),ndec=2):\n",
    "    if x == 0:\n",
    "        return '%g'%x\n",
    "    expon = np.log10(x)\n",
    "    expon = np.floor(expon) if expon>0 else np.ceil(expon)\n",
    "    if expon>=exp_min[0] and expon<=exp_min[1]:\n",
    "        ndec = max(ndec,exp_min[1] if expon>0 else -exp_min[0])\n",
    "#         print('*',x)\n",
    "        form = '%.'+('%i'%ndec)+'f'\n",
    "#         print(form)\n",
    "#         form = '%.'+form+'g'\n",
    "        return form%x\n",
    "    mant = x/10**expon\n",
    "    if mant ==1:\n",
    "#         print('.',x)\n",
    "        return '10^{%i}'%(expon)\n",
    "    else:\n",
    "        form = '%.'+('%i'%ndec)+'f'\n",
    "        return (form+'\\cdot 10^{%i}')%(mant,expon)\n",
    "\n",
    "latex_exp(1e2,exp_min=(-2,4)), latex_exp(0), latex_exp(1.2), latex_exp(1e-3,exp_min=(-3,4)),latex_exp(1.2345e-8)"
   ]
  },
  {
   "cell_type": "markdown",
   "id": "a8f231b5",
   "metadata": {
    "jp-MarkdownHeadingCollapsed": true
   },
   "source": [
    "## GW catalogue & SNR"
   ]
  },
  {
   "cell_type": "code",
   "execution_count": 19,
   "id": "9a9c2526",
   "metadata": {},
   "outputs": [
    {
     "ename": "FileNotFoundError",
     "evalue": "[Errno 2] No such file or directory: '/home/miguel/code/notebooks/gw_data/GWTC.csv'",
     "output_type": "error",
     "traceback": [
      "\u001b[0;31m---------------------------------------------------------------------------\u001b[0m",
      "\u001b[0;31mFileNotFoundError\u001b[0m                         Traceback (most recent call last)",
      "Cell \u001b[0;32mIn[19], line 1\u001b[0m\n\u001b[0;32m----> 1\u001b[0m gwtc\u001b[38;5;241m=\u001b[39m\u001b[43mpd\u001b[49m\u001b[38;5;241;43m.\u001b[39;49m\u001b[43mread_csv\u001b[49m\u001b[43m(\u001b[49m\u001b[38;5;124;43m'\u001b[39;49m\u001b[38;5;124;43m/home/miguel/code/notebooks/gw_data/GWTC.csv\u001b[39;49m\u001b[38;5;124;43m'\u001b[39;49m\u001b[43m)\u001b[49m\n",
      "File \u001b[0;32m~/.local/lib/python3.10/site-packages/pandas/io/parsers/readers.py:1024\u001b[0m, in \u001b[0;36mread_csv\u001b[0;34m(filepath_or_buffer, sep, delimiter, header, names, index_col, usecols, dtype, engine, converters, true_values, false_values, skipinitialspace, skiprows, skipfooter, nrows, na_values, keep_default_na, na_filter, verbose, skip_blank_lines, parse_dates, infer_datetime_format, keep_date_col, date_parser, date_format, dayfirst, cache_dates, iterator, chunksize, compression, thousands, decimal, lineterminator, quotechar, quoting, doublequote, escapechar, comment, encoding, encoding_errors, dialect, on_bad_lines, delim_whitespace, low_memory, memory_map, float_precision, storage_options, dtype_backend)\u001b[0m\n\u001b[1;32m   1011\u001b[0m kwds_defaults \u001b[38;5;241m=\u001b[39m _refine_defaults_read(\n\u001b[1;32m   1012\u001b[0m     dialect,\n\u001b[1;32m   1013\u001b[0m     delimiter,\n\u001b[0;32m   (...)\u001b[0m\n\u001b[1;32m   1020\u001b[0m     dtype_backend\u001b[38;5;241m=\u001b[39mdtype_backend,\n\u001b[1;32m   1021\u001b[0m )\n\u001b[1;32m   1022\u001b[0m kwds\u001b[38;5;241m.\u001b[39mupdate(kwds_defaults)\n\u001b[0;32m-> 1024\u001b[0m \u001b[38;5;28;01mreturn\u001b[39;00m \u001b[43m_read\u001b[49m\u001b[43m(\u001b[49m\u001b[43mfilepath_or_buffer\u001b[49m\u001b[43m,\u001b[49m\u001b[43m \u001b[49m\u001b[43mkwds\u001b[49m\u001b[43m)\u001b[49m\n",
      "File \u001b[0;32m~/.local/lib/python3.10/site-packages/pandas/io/parsers/readers.py:618\u001b[0m, in \u001b[0;36m_read\u001b[0;34m(filepath_or_buffer, kwds)\u001b[0m\n\u001b[1;32m    615\u001b[0m _validate_names(kwds\u001b[38;5;241m.\u001b[39mget(\u001b[38;5;124m\"\u001b[39m\u001b[38;5;124mnames\u001b[39m\u001b[38;5;124m\"\u001b[39m, \u001b[38;5;28;01mNone\u001b[39;00m))\n\u001b[1;32m    617\u001b[0m \u001b[38;5;66;03m# Create the parser.\u001b[39;00m\n\u001b[0;32m--> 618\u001b[0m parser \u001b[38;5;241m=\u001b[39m \u001b[43mTextFileReader\u001b[49m\u001b[43m(\u001b[49m\u001b[43mfilepath_or_buffer\u001b[49m\u001b[43m,\u001b[49m\u001b[43m \u001b[49m\u001b[38;5;241;43m*\u001b[39;49m\u001b[38;5;241;43m*\u001b[39;49m\u001b[43mkwds\u001b[49m\u001b[43m)\u001b[49m\n\u001b[1;32m    620\u001b[0m \u001b[38;5;28;01mif\u001b[39;00m chunksize \u001b[38;5;129;01mor\u001b[39;00m iterator:\n\u001b[1;32m    621\u001b[0m     \u001b[38;5;28;01mreturn\u001b[39;00m parser\n",
      "File \u001b[0;32m~/.local/lib/python3.10/site-packages/pandas/io/parsers/readers.py:1618\u001b[0m, in \u001b[0;36mTextFileReader.__init__\u001b[0;34m(self, f, engine, **kwds)\u001b[0m\n\u001b[1;32m   1615\u001b[0m     \u001b[38;5;28mself\u001b[39m\u001b[38;5;241m.\u001b[39moptions[\u001b[38;5;124m\"\u001b[39m\u001b[38;5;124mhas_index_names\u001b[39m\u001b[38;5;124m\"\u001b[39m] \u001b[38;5;241m=\u001b[39m kwds[\u001b[38;5;124m\"\u001b[39m\u001b[38;5;124mhas_index_names\u001b[39m\u001b[38;5;124m\"\u001b[39m]\n\u001b[1;32m   1617\u001b[0m \u001b[38;5;28mself\u001b[39m\u001b[38;5;241m.\u001b[39mhandles: IOHandles \u001b[38;5;241m|\u001b[39m \u001b[38;5;28;01mNone\u001b[39;00m \u001b[38;5;241m=\u001b[39m \u001b[38;5;28;01mNone\u001b[39;00m\n\u001b[0;32m-> 1618\u001b[0m \u001b[38;5;28mself\u001b[39m\u001b[38;5;241m.\u001b[39m_engine \u001b[38;5;241m=\u001b[39m \u001b[38;5;28;43mself\u001b[39;49m\u001b[38;5;241;43m.\u001b[39;49m\u001b[43m_make_engine\u001b[49m\u001b[43m(\u001b[49m\u001b[43mf\u001b[49m\u001b[43m,\u001b[49m\u001b[43m \u001b[49m\u001b[38;5;28;43mself\u001b[39;49m\u001b[38;5;241;43m.\u001b[39;49m\u001b[43mengine\u001b[49m\u001b[43m)\u001b[49m\n",
      "File \u001b[0;32m~/.local/lib/python3.10/site-packages/pandas/io/parsers/readers.py:1878\u001b[0m, in \u001b[0;36mTextFileReader._make_engine\u001b[0;34m(self, f, engine)\u001b[0m\n\u001b[1;32m   1876\u001b[0m     \u001b[38;5;28;01mif\u001b[39;00m \u001b[38;5;124m\"\u001b[39m\u001b[38;5;124mb\u001b[39m\u001b[38;5;124m\"\u001b[39m \u001b[38;5;129;01mnot\u001b[39;00m \u001b[38;5;129;01min\u001b[39;00m mode:\n\u001b[1;32m   1877\u001b[0m         mode \u001b[38;5;241m+\u001b[39m\u001b[38;5;241m=\u001b[39m \u001b[38;5;124m\"\u001b[39m\u001b[38;5;124mb\u001b[39m\u001b[38;5;124m\"\u001b[39m\n\u001b[0;32m-> 1878\u001b[0m \u001b[38;5;28mself\u001b[39m\u001b[38;5;241m.\u001b[39mhandles \u001b[38;5;241m=\u001b[39m \u001b[43mget_handle\u001b[49m\u001b[43m(\u001b[49m\n\u001b[1;32m   1879\u001b[0m \u001b[43m    \u001b[49m\u001b[43mf\u001b[49m\u001b[43m,\u001b[49m\n\u001b[1;32m   1880\u001b[0m \u001b[43m    \u001b[49m\u001b[43mmode\u001b[49m\u001b[43m,\u001b[49m\n\u001b[1;32m   1881\u001b[0m \u001b[43m    \u001b[49m\u001b[43mencoding\u001b[49m\u001b[38;5;241;43m=\u001b[39;49m\u001b[38;5;28;43mself\u001b[39;49m\u001b[38;5;241;43m.\u001b[39;49m\u001b[43moptions\u001b[49m\u001b[38;5;241;43m.\u001b[39;49m\u001b[43mget\u001b[49m\u001b[43m(\u001b[49m\u001b[38;5;124;43m\"\u001b[39;49m\u001b[38;5;124;43mencoding\u001b[39;49m\u001b[38;5;124;43m\"\u001b[39;49m\u001b[43m,\u001b[49m\u001b[43m \u001b[49m\u001b[38;5;28;43;01mNone\u001b[39;49;00m\u001b[43m)\u001b[49m\u001b[43m,\u001b[49m\n\u001b[1;32m   1882\u001b[0m \u001b[43m    \u001b[49m\u001b[43mcompression\u001b[49m\u001b[38;5;241;43m=\u001b[39;49m\u001b[38;5;28;43mself\u001b[39;49m\u001b[38;5;241;43m.\u001b[39;49m\u001b[43moptions\u001b[49m\u001b[38;5;241;43m.\u001b[39;49m\u001b[43mget\u001b[49m\u001b[43m(\u001b[49m\u001b[38;5;124;43m\"\u001b[39;49m\u001b[38;5;124;43mcompression\u001b[39;49m\u001b[38;5;124;43m\"\u001b[39;49m\u001b[43m,\u001b[49m\u001b[43m \u001b[49m\u001b[38;5;28;43;01mNone\u001b[39;49;00m\u001b[43m)\u001b[49m\u001b[43m,\u001b[49m\n\u001b[1;32m   1883\u001b[0m \u001b[43m    \u001b[49m\u001b[43mmemory_map\u001b[49m\u001b[38;5;241;43m=\u001b[39;49m\u001b[38;5;28;43mself\u001b[39;49m\u001b[38;5;241;43m.\u001b[39;49m\u001b[43moptions\u001b[49m\u001b[38;5;241;43m.\u001b[39;49m\u001b[43mget\u001b[49m\u001b[43m(\u001b[49m\u001b[38;5;124;43m\"\u001b[39;49m\u001b[38;5;124;43mmemory_map\u001b[39;49m\u001b[38;5;124;43m\"\u001b[39;49m\u001b[43m,\u001b[49m\u001b[43m \u001b[49m\u001b[38;5;28;43;01mFalse\u001b[39;49;00m\u001b[43m)\u001b[49m\u001b[43m,\u001b[49m\n\u001b[1;32m   1884\u001b[0m \u001b[43m    \u001b[49m\u001b[43mis_text\u001b[49m\u001b[38;5;241;43m=\u001b[39;49m\u001b[43mis_text\u001b[49m\u001b[43m,\u001b[49m\n\u001b[1;32m   1885\u001b[0m \u001b[43m    \u001b[49m\u001b[43merrors\u001b[49m\u001b[38;5;241;43m=\u001b[39;49m\u001b[38;5;28;43mself\u001b[39;49m\u001b[38;5;241;43m.\u001b[39;49m\u001b[43moptions\u001b[49m\u001b[38;5;241;43m.\u001b[39;49m\u001b[43mget\u001b[49m\u001b[43m(\u001b[49m\u001b[38;5;124;43m\"\u001b[39;49m\u001b[38;5;124;43mencoding_errors\u001b[39;49m\u001b[38;5;124;43m\"\u001b[39;49m\u001b[43m,\u001b[49m\u001b[43m \u001b[49m\u001b[38;5;124;43m\"\u001b[39;49m\u001b[38;5;124;43mstrict\u001b[39;49m\u001b[38;5;124;43m\"\u001b[39;49m\u001b[43m)\u001b[49m\u001b[43m,\u001b[49m\n\u001b[1;32m   1886\u001b[0m \u001b[43m    \u001b[49m\u001b[43mstorage_options\u001b[49m\u001b[38;5;241;43m=\u001b[39;49m\u001b[38;5;28;43mself\u001b[39;49m\u001b[38;5;241;43m.\u001b[39;49m\u001b[43moptions\u001b[49m\u001b[38;5;241;43m.\u001b[39;49m\u001b[43mget\u001b[49m\u001b[43m(\u001b[49m\u001b[38;5;124;43m\"\u001b[39;49m\u001b[38;5;124;43mstorage_options\u001b[39;49m\u001b[38;5;124;43m\"\u001b[39;49m\u001b[43m,\u001b[49m\u001b[43m \u001b[49m\u001b[38;5;28;43;01mNone\u001b[39;49;00m\u001b[43m)\u001b[49m\u001b[43m,\u001b[49m\n\u001b[1;32m   1887\u001b[0m \u001b[43m\u001b[49m\u001b[43m)\u001b[49m\n\u001b[1;32m   1888\u001b[0m \u001b[38;5;28;01massert\u001b[39;00m \u001b[38;5;28mself\u001b[39m\u001b[38;5;241m.\u001b[39mhandles \u001b[38;5;129;01mis\u001b[39;00m \u001b[38;5;129;01mnot\u001b[39;00m \u001b[38;5;28;01mNone\u001b[39;00m\n\u001b[1;32m   1889\u001b[0m f \u001b[38;5;241m=\u001b[39m \u001b[38;5;28mself\u001b[39m\u001b[38;5;241m.\u001b[39mhandles\u001b[38;5;241m.\u001b[39mhandle\n",
      "File \u001b[0;32m~/.local/lib/python3.10/site-packages/pandas/io/common.py:873\u001b[0m, in \u001b[0;36mget_handle\u001b[0;34m(path_or_buf, mode, encoding, compression, memory_map, is_text, errors, storage_options)\u001b[0m\n\u001b[1;32m    868\u001b[0m \u001b[38;5;28;01melif\u001b[39;00m \u001b[38;5;28misinstance\u001b[39m(handle, \u001b[38;5;28mstr\u001b[39m):\n\u001b[1;32m    869\u001b[0m     \u001b[38;5;66;03m# Check whether the filename is to be opened in binary mode.\u001b[39;00m\n\u001b[1;32m    870\u001b[0m     \u001b[38;5;66;03m# Binary mode does not support 'encoding' and 'newline'.\u001b[39;00m\n\u001b[1;32m    871\u001b[0m     \u001b[38;5;28;01mif\u001b[39;00m ioargs\u001b[38;5;241m.\u001b[39mencoding \u001b[38;5;129;01mand\u001b[39;00m \u001b[38;5;124m\"\u001b[39m\u001b[38;5;124mb\u001b[39m\u001b[38;5;124m\"\u001b[39m \u001b[38;5;129;01mnot\u001b[39;00m \u001b[38;5;129;01min\u001b[39;00m ioargs\u001b[38;5;241m.\u001b[39mmode:\n\u001b[1;32m    872\u001b[0m         \u001b[38;5;66;03m# Encoding\u001b[39;00m\n\u001b[0;32m--> 873\u001b[0m         handle \u001b[38;5;241m=\u001b[39m \u001b[38;5;28;43mopen\u001b[39;49m\u001b[43m(\u001b[49m\n\u001b[1;32m    874\u001b[0m \u001b[43m            \u001b[49m\u001b[43mhandle\u001b[49m\u001b[43m,\u001b[49m\n\u001b[1;32m    875\u001b[0m \u001b[43m            \u001b[49m\u001b[43mioargs\u001b[49m\u001b[38;5;241;43m.\u001b[39;49m\u001b[43mmode\u001b[49m\u001b[43m,\u001b[49m\n\u001b[1;32m    876\u001b[0m \u001b[43m            \u001b[49m\u001b[43mencoding\u001b[49m\u001b[38;5;241;43m=\u001b[39;49m\u001b[43mioargs\u001b[49m\u001b[38;5;241;43m.\u001b[39;49m\u001b[43mencoding\u001b[49m\u001b[43m,\u001b[49m\n\u001b[1;32m    877\u001b[0m \u001b[43m            \u001b[49m\u001b[43merrors\u001b[49m\u001b[38;5;241;43m=\u001b[39;49m\u001b[43merrors\u001b[49m\u001b[43m,\u001b[49m\n\u001b[1;32m    878\u001b[0m \u001b[43m            \u001b[49m\u001b[43mnewline\u001b[49m\u001b[38;5;241;43m=\u001b[39;49m\u001b[38;5;124;43m\"\u001b[39;49m\u001b[38;5;124;43m\"\u001b[39;49m\u001b[43m,\u001b[49m\n\u001b[1;32m    879\u001b[0m \u001b[43m        \u001b[49m\u001b[43m)\u001b[49m\n\u001b[1;32m    880\u001b[0m     \u001b[38;5;28;01melse\u001b[39;00m:\n\u001b[1;32m    881\u001b[0m         \u001b[38;5;66;03m# Binary mode\u001b[39;00m\n\u001b[1;32m    882\u001b[0m         handle \u001b[38;5;241m=\u001b[39m \u001b[38;5;28mopen\u001b[39m(handle, ioargs\u001b[38;5;241m.\u001b[39mmode)\n",
      "\u001b[0;31mFileNotFoundError\u001b[0m: [Errno 2] No such file or directory: '/home/miguel/code/notebooks/gw_data/GWTC.csv'"
     ]
    }
   ],
   "source": [
    "gwtc=pd.read_csv('/home/miguel/code/notebooks/gw_data/GWTC.csv')"
   ]
  },
  {
   "cell_type": "code",
   "execution_count": 20,
   "id": "ffdae6f3",
   "metadata": {},
   "outputs": [],
   "source": [
    "# print(gwtc)"
   ]
  },
  {
   "cell_type": "code",
   "execution_count": 6,
   "id": "6e5d83bb",
   "metadata": {},
   "outputs": [
    {
     "ename": "NameError",
     "evalue": "name 'gwtc' is not defined",
     "output_type": "error",
     "traceback": [
      "\u001b[0;31m---------------------------------------------------------------------------\u001b[0m",
      "\u001b[0;31mNameError\u001b[0m                                 Traceback (most recent call last)",
      "Cell \u001b[0;32mIn[6], line 2\u001b[0m\n\u001b[1;32m      1\u001b[0m \u001b[38;5;66;03m#look at the SNR distribution\u001b[39;00m\n\u001b[0;32m----> 2\u001b[0m plt\u001b[38;5;241m.\u001b[39mhist(\u001b[43mgwtc\u001b[49m[\u001b[38;5;124m'\u001b[39m\u001b[38;5;124mnetwork_matched_filter_snr\u001b[39m\u001b[38;5;124m'\u001b[39m],\u001b[38;5;241m20\u001b[39m)\n",
      "\u001b[0;31mNameError\u001b[0m: name 'gwtc' is not defined"
     ]
    }
   ],
   "source": [
    "#look at the SNR distribution\n",
    "plt.hist(gwtc['network_matched_filter_snr'],20)"
   ]
  },
  {
   "cell_type": "code",
   "execution_count": 7,
   "id": "75dfe812",
   "metadata": {},
   "outputs": [
    {
     "ename": "NameError",
     "evalue": "name 'gwtc' is not defined",
     "output_type": "error",
     "traceback": [
      "\u001b[0;31m---------------------------------------------------------------------------\u001b[0m",
      "\u001b[0;31mNameError\u001b[0m                                 Traceback (most recent call last)",
      "Cell \u001b[0;32mIn[7], line 1\u001b[0m\n\u001b[0;32m----> 1\u001b[0m plt\u001b[38;5;241m.\u001b[39mhist(\u001b[43mgwtc\u001b[49m[\u001b[38;5;124m'\u001b[39m\u001b[38;5;124mmass_1_source\u001b[39m\u001b[38;5;124m'\u001b[39m])\n",
      "\u001b[0;31mNameError\u001b[0m: name 'gwtc' is not defined"
     ]
    }
   ],
   "source": [
    "plt.hist(gwtc['mass_1_source'])"
   ]
  },
  {
   "cell_type": "code",
   "execution_count": 8,
   "id": "bdb26b81",
   "metadata": {},
   "outputs": [
    {
     "ename": "NameError",
     "evalue": "name 'gwtc' is not defined",
     "output_type": "error",
     "traceback": [
      "\u001b[0;31m---------------------------------------------------------------------------\u001b[0m",
      "\u001b[0;31mNameError\u001b[0m                                 Traceback (most recent call last)",
      "Cell \u001b[0;32mIn[8], line 1\u001b[0m\n\u001b[0;32m----> 1\u001b[0m plt\u001b[38;5;241m.\u001b[39mscatter(\u001b[43mgwtc\u001b[49m[\u001b[38;5;124m'\u001b[39m\u001b[38;5;124mmass_1_source\u001b[39m\u001b[38;5;124m'\u001b[39m],gwtc[\u001b[38;5;124m'\u001b[39m\u001b[38;5;124mnetwork_matched_filter_snr\u001b[39m\u001b[38;5;124m'\u001b[39m],s\u001b[38;5;241m=\u001b[39mgwtc[\u001b[38;5;124m'\u001b[39m\u001b[38;5;124mmass_1_source\u001b[39m\u001b[38;5;124m'\u001b[39m]\u001b[38;5;241m/\u001b[39mgwtc[\u001b[38;5;124m'\u001b[39m\u001b[38;5;124mmass_2_source\u001b[39m\u001b[38;5;124m'\u001b[39m])\n",
      "\u001b[0;31mNameError\u001b[0m: name 'gwtc' is not defined"
     ]
    }
   ],
   "source": [
    "plt.scatter(gwtc['mass_1_source'],gwtc['network_matched_filter_snr'],s=gwtc['mass_1_source']/gwtc['mass_2_source'])"
   ]
  },
  {
   "cell_type": "code",
   "execution_count": 7,
   "id": "e7f5ec38",
   "metadata": {},
   "outputs": [
    {
     "data": {
      "text/plain": [
       "(35.25, 35.05177777777778)"
      ]
     },
     "execution_count": 7,
     "metadata": {},
     "output_type": "execute_result"
    }
   ],
   "source": [
    "dat = (gwtc['mass_1_source'][np.isfinite(gwtc['mass_1_source'])])\n",
    "np.median(dat), np.mean(dat)"
   ]
  },
  {
   "cell_type": "markdown",
   "id": "c24c62b0",
   "metadata": {},
   "source": [
    "## Import $\\Upsilon_{\\rm obs}(\\beta_{\\rm min},\\mu_{\\rm min})$"
   ]
  },
  {
   "cell_type": "code",
   "execution_count": 23,
   "id": "46f6e6fa",
   "metadata": {},
   "outputs": [],
   "source": [
    "#Load the data (computed in )\n",
    "\n",
    "case = '5'\n",
    "\n",
    "data_dict = np.load(\"../data/Ups_obs_mu_min_%s.npy\"%case, allow_pickle=True).item()\n",
    "betalims = data_dict[\"betalims\"]\n",
    "mu_min_arr = data_dict[\"mu_min_arr\"]\n",
    "ups_obs_arr = data_dict[\"ups_obs_arr\"]"
   ]
  },
  {
   "cell_type": "code",
   "execution_count": 24,
   "id": "7c07c639",
   "metadata": {},
   "outputs": [
    {
     "name": "stderr",
     "output_type": "stream",
     "text": [
      "/tmp/ipykernel_354144/1966168098.py:15: MatplotlibDeprecationWarning: The get_cmap function was deprecated in Matplotlib 3.7 and will be removed two minor releases later. Use ``matplotlib.colormaps[name]`` or ``matplotlib.colormaps.get_cmap(obj)`` instead.\n",
      "  cmap = plt.cm.get_cmap('viridis')\n"
     ]
    },
    {
     "name": "stdout",
     "output_type": "stream",
     "text": [
      "23 24 25 26 27 28 29 30 31 32 33 34 35 36 37 38 39 40 41 42 43 44 45 46 47 48 49 50 51 52 53 54 55 56 57 58 59 60 61 62 63 64 65 66 67 68 69 70 71 72 73 74 75 76 77 78 79 "
     ]
    },
    {
     "data": {
      "image/png": "[encoded data removed]",
      "text/plain": [
       "<Figure size 345x258 with 2 Axes>"
      ]
     },
     "metadata": {},
     "output_type": "display_data"
    }
   ],
   "source": [
    "import matplotlib.colors as colors\n",
    "\n",
    "ups_obs_arr = np.array(ups_obs_arr)\n",
    "\n",
    "# ups_obs_arr = ups_obs_arr[ups_obs_arr>1e-3]\n",
    "\n",
    "fig, ax = plt.subplots()\n",
    "lines = []\n",
    "\n",
    "indices = np.argwhere(mu_min_arr>1e-3).flatten()\n",
    "mu_min_this = mu_min_arr[indices]\n",
    "\n",
    "mu_min_norm = colors.LogNorm(vmin=min(mu_min_this), vmax=max(mu_min_this))\n",
    "cbar = fig.colorbar(plt.cm.ScalarMappable(norm=mu_min_norm, cmap='viridis'), ax=ax)\n",
    "cmap = plt.cm.get_cmap('viridis')\n",
    "\n",
    "for i in indices: #, \n",
    "    print(i,end=' ')\n",
    "# for i,  mu_min in enumerate(mu_min_this):\n",
    "#     print(i,end=' ')\n",
    "    mu_min = mu_min_arr[i]\n",
    "    line, = ax.loglog(betalims, ups_obs_arr[i, :], c=cmap(mu_min_norm(mu_min)))\n",
    "    lines.append(line)\n",
    "\n",
    "cbar.set_label(r'$\\mu_{\\rm min}$')\n",
    "\n",
    "\n",
    "\n",
    "ax.set_ylabel(r\"$\\Upsilon_{\\rm obs}(\\beta_{\\rm min},\\mu_{\\rm min})$\")\n",
    "ax.set_xlabel(r\"$\\beta_{\\rm min}$\")\n",
    "\n",
    "ax.grid(alpha=0.3)\n",
    "ax.set_ylim(1e-6,)\n",
    "plt.show()\n",
    "\n",
    "fig.tight_layout()\n",
    "if True:\n",
    "    fig.savefig(\"../plots/ups_obs_magnif_%s.pdf\"%case, dpi=450)"
   ]
  },
  {
   "cell_type": "code",
   "execution_count": 25,
   "id": "10455e37",
   "metadata": {},
   "outputs": [
    {
     "ename": "FileNotFoundError",
     "evalue": "[Errno 2] No such file or directory: '../data/Ups_obs_mu_min_500_all.npy'",
     "output_type": "error",
     "traceback": [
      "\u001b[0;31m---------------------------------------------------------------------------\u001b[0m",
      "\u001b[0;31mFileNotFoundError\u001b[0m                         Traceback (most recent call last)",
      "Cell \u001b[0;32mIn[25], line 4\u001b[0m\n\u001b[1;32m      1\u001b[0m reload(fc)\n\u001b[1;32m      3\u001b[0m case \u001b[38;5;241m=\u001b[39m \u001b[38;5;124m'\u001b[39m\u001b[38;5;124m500_all\u001b[39m\u001b[38;5;124m'\u001b[39m\n\u001b[0;32m----> 4\u001b[0m \u001b[43mfc\u001b[49m\u001b[38;5;241;43m.\u001b[39;49m\u001b[43mload_data\u001b[49m\u001b[43m(\u001b[49m\u001b[38;5;124;43m'\u001b[39;49m\u001b[38;5;124;43mUps_obs_mu_min_\u001b[39;49m\u001b[38;5;132;43;01m%s\u001b[39;49;00m\u001b[38;5;124;43m.npy\u001b[39;49m\u001b[38;5;124;43m'\u001b[39;49m\u001b[38;5;241;43m%\u001b[39;49m\u001b[43mcase\u001b[49m\u001b[43m)\u001b[49m\n\u001b[1;32m      6\u001b[0m \u001b[38;5;66;03m#fill an array\u001b[39;00m\n\u001b[1;32m      7\u001b[0m dups_obs_dmu \u001b[38;5;241m=\u001b[39m fc\u001b[38;5;241m.\u001b[39mcompute_d_ups_obs_dmu(fc\u001b[38;5;241m.\u001b[39mups_obs_arr,fc\u001b[38;5;241m.\u001b[39mmu_min_arr)\n",
      "File \u001b[0;32m~/code/GSHE/scripts/../GSHEWaveform/forecast.py:51\u001b[0m, in \u001b[0;36mload_data\u001b[0;34m(file)\u001b[0m\n\u001b[1;32m     49\u001b[0m \u001b[38;5;28;01mdef\u001b[39;00m \u001b[38;5;21mload_data\u001b[39m(file):\n\u001b[1;32m     50\u001b[0m     \u001b[38;5;28;01mglobal\u001b[39;00m data_dict, betalims, mu_min_arr, ups_obs_arr, dups_obs_dmu\n\u001b[0;32m---> 51\u001b[0m     data_dict \u001b[38;5;241m=\u001b[39m \u001b[43mnp\u001b[49m\u001b[38;5;241;43m.\u001b[39;49m\u001b[43mload\u001b[49m\u001b[43m(\u001b[49m\u001b[38;5;124;43m\"\u001b[39;49m\u001b[38;5;124;43m../data/\u001b[39;49m\u001b[38;5;132;43;01m%s\u001b[39;49;00m\u001b[38;5;124;43m\"\u001b[39;49m\u001b[38;5;241;43m%\u001b[39;49m\u001b[43mfile\u001b[49m\u001b[43m,\u001b[49m\u001b[43m \u001b[49m\u001b[43mallow_pickle\u001b[49m\u001b[38;5;241;43m=\u001b[39;49m\u001b[38;5;28;43;01mTrue\u001b[39;49;00m\u001b[43m)\u001b[49m\u001b[38;5;241m.\u001b[39mitem()\n\u001b[1;32m     52\u001b[0m     betalims \u001b[38;5;241m=\u001b[39m data_dict[\u001b[38;5;124m\"\u001b[39m\u001b[38;5;124mbetalims\u001b[39m\u001b[38;5;124m\"\u001b[39m]\n\u001b[1;32m     53\u001b[0m     mu_min_arr \u001b[38;5;241m=\u001b[39m data_dict[\u001b[38;5;124m\"\u001b[39m\u001b[38;5;124mmu_min_arr\u001b[39m\u001b[38;5;124m\"\u001b[39m]\n",
      "File \u001b[0;32m~/.local/lib/python3.10/site-packages/numpy/lib/npyio.py:427\u001b[0m, in \u001b[0;36mload\u001b[0;34m(file, mmap_mode, allow_pickle, fix_imports, encoding, max_header_size)\u001b[0m\n\u001b[1;32m    425\u001b[0m     own_fid \u001b[38;5;241m=\u001b[39m \u001b[38;5;28;01mFalse\u001b[39;00m\n\u001b[1;32m    426\u001b[0m \u001b[38;5;28;01melse\u001b[39;00m:\n\u001b[0;32m--> 427\u001b[0m     fid \u001b[38;5;241m=\u001b[39m stack\u001b[38;5;241m.\u001b[39menter_context(\u001b[38;5;28;43mopen\u001b[39;49m\u001b[43m(\u001b[49m\u001b[43mos_fspath\u001b[49m\u001b[43m(\u001b[49m\u001b[43mfile\u001b[49m\u001b[43m)\u001b[49m\u001b[43m,\u001b[49m\u001b[43m \u001b[49m\u001b[38;5;124;43m\"\u001b[39;49m\u001b[38;5;124;43mrb\u001b[39;49m\u001b[38;5;124;43m\"\u001b[39;49m\u001b[43m)\u001b[49m)\n\u001b[1;32m    428\u001b[0m     own_fid \u001b[38;5;241m=\u001b[39m \u001b[38;5;28;01mTrue\u001b[39;00m\n\u001b[1;32m    430\u001b[0m \u001b[38;5;66;03m# Code to distinguish from NumPy binary files and pickles.\u001b[39;00m\n",
      "\u001b[0;31mFileNotFoundError\u001b[0m: [Errno 2] No such file or directory: '../data/Ups_obs_mu_min_500_all.npy'"
     ]
    }
   ],
   "source": [
    "reload(fc)\n",
    "\n",
    "case = '500_all'\n",
    "fc.load_data('Ups_obs_mu_min_%s.npy'%case)\n",
    "\n",
    "#fill an array\n",
    "dups_obs_dmu = fc.compute_d_ups_obs_dmu(fc.ups_obs_arr,fc.mu_min_arr)\n",
    "\n",
    "fig, ax = plt.subplots()\n",
    "lines = []\n",
    "\n",
    "mu_min_norm = colors.LogNorm(vmin=min(mu_min_arr), vmax=max(mu_min_arr))\n",
    "cbar = fig.colorbar(plt.cm.ScalarMappable(norm=mu_min_norm, cmap='viridis'), ax=ax)\n",
    "cmap = plt.cm.get_cmap('viridis')\n",
    "\n",
    "for i in range(0,len(mu_min_arr)-1):\n",
    "\n",
    "    mu_min = mu_min_arr[i]\n",
    "    line, = ax.loglog(betalims, np.abs(dups_obs_dmu[i,:]), c=cmap(mu_min_norm(mu_min)))\n",
    "    lines.append(line)\n",
    "\n",
    "cbar.set_label(r'$\\mu_{\\rm min}$')\n",
    "\n",
    "ax.set_ylabel(r\"$|\\frac{d}{d\\mu} \\Upsilon_{\\rm obs}(\\beta_{\\rm min},\\mu_{\\rm min})|$\")\n",
    "ax.set_xlabel(r\"$\\beta_{\\rm min}$\")"
   ]
  },
  {
   "cell_type": "code",
   "execution_count": 11,
   "id": "23f390a4",
   "metadata": {},
   "outputs": [
    {
     "ename": "FileNotFoundError",
     "evalue": "[Errno 2] No such file or directory: '../data/Ups_obs_mu_min_5.npy'",
     "output_type": "error",
     "traceback": [
      "\u001b[0;31m---------------------------------------------------------------------------\u001b[0m",
      "\u001b[0;31mFileNotFoundError\u001b[0m                         Traceback (most recent call last)",
      "Cell \u001b[0;32mIn[11], line 1\u001b[0m\n\u001b[0;32m----> 1\u001b[0m \u001b[43mfc\u001b[49m\u001b[38;5;241;43m.\u001b[39;49m\u001b[43mload_data\u001b[49m\u001b[43m(\u001b[49m\u001b[38;5;124;43m'\u001b[39;49m\u001b[38;5;124;43mUps_obs_mu_min_\u001b[39;49m\u001b[38;5;132;43;01m%s\u001b[39;49;00m\u001b[38;5;124;43m.npy\u001b[39;49m\u001b[38;5;124;43m'\u001b[39;49m\u001b[38;5;241;43m%\u001b[39;49m\u001b[43mcase\u001b[49m\u001b[43m)\u001b[49m\n",
      "File \u001b[0;32m~/code/GSHE/scripts/../GSHEWaveform/forecast.py:51\u001b[0m, in \u001b[0;36mload_data\u001b[0;34m(file)\u001b[0m\n\u001b[1;32m     49\u001b[0m \u001b[38;5;28;01mdef\u001b[39;00m \u001b[38;5;21mload_data\u001b[39m(file):\n\u001b[1;32m     50\u001b[0m     \u001b[38;5;28;01mglobal\u001b[39;00m data_dict, betalims, mu_min_arr, ups_obs_arr, dups_obs_dmu\n\u001b[0;32m---> 51\u001b[0m     data_dict \u001b[38;5;241m=\u001b[39m \u001b[43mnp\u001b[49m\u001b[38;5;241;43m.\u001b[39;49m\u001b[43mload\u001b[49m\u001b[43m(\u001b[49m\u001b[38;5;124;43m\"\u001b[39;49m\u001b[38;5;124;43m../data/\u001b[39;49m\u001b[38;5;132;43;01m%s\u001b[39;49;00m\u001b[38;5;124;43m\"\u001b[39;49m\u001b[38;5;241;43m%\u001b[39;49m\u001b[43mfile\u001b[49m\u001b[43m,\u001b[49m\u001b[43m \u001b[49m\u001b[43mallow_pickle\u001b[49m\u001b[38;5;241;43m=\u001b[39;49m\u001b[38;5;28;43;01mTrue\u001b[39;49;00m\u001b[43m)\u001b[49m\u001b[38;5;241m.\u001b[39mitem()\n\u001b[1;32m     52\u001b[0m     betalims \u001b[38;5;241m=\u001b[39m data_dict[\u001b[38;5;124m\"\u001b[39m\u001b[38;5;124mbetalims\u001b[39m\u001b[38;5;124m\"\u001b[39m]\n\u001b[1;32m     53\u001b[0m     mu_min_arr \u001b[38;5;241m=\u001b[39m data_dict[\u001b[38;5;124m\"\u001b[39m\u001b[38;5;124mmu_min_arr\u001b[39m\u001b[38;5;124m\"\u001b[39m]\n",
      "File \u001b[0;32m~/.local/lib/python3.10/site-packages/numpy/lib/npyio.py:427\u001b[0m, in \u001b[0;36mload\u001b[0;34m(file, mmap_mode, allow_pickle, fix_imports, encoding, max_header_size)\u001b[0m\n\u001b[1;32m    425\u001b[0m     own_fid \u001b[38;5;241m=\u001b[39m \u001b[38;5;28;01mFalse\u001b[39;00m\n\u001b[1;32m    426\u001b[0m \u001b[38;5;28;01melse\u001b[39;00m:\n\u001b[0;32m--> 427\u001b[0m     fid \u001b[38;5;241m=\u001b[39m stack\u001b[38;5;241m.\u001b[39menter_context(\u001b[38;5;28;43mopen\u001b[39;49m\u001b[43m(\u001b[49m\u001b[43mos_fspath\u001b[49m\u001b[43m(\u001b[49m\u001b[43mfile\u001b[49m\u001b[43m)\u001b[49m\u001b[43m,\u001b[49m\u001b[43m \u001b[49m\u001b[38;5;124;43m\"\u001b[39;49m\u001b[38;5;124;43mrb\u001b[39;49m\u001b[38;5;124;43m\"\u001b[39;49m\u001b[43m)\u001b[49m)\n\u001b[1;32m    428\u001b[0m     own_fid \u001b[38;5;241m=\u001b[39m \u001b[38;5;28;01mTrue\u001b[39;00m\n\u001b[1;32m    430\u001b[0m \u001b[38;5;66;03m# Code to distinguish from NumPy binary files and pickles.\u001b[39;00m\n",
      "\u001b[0;31mFileNotFoundError\u001b[0m: [Errno 2] No such file or directory: '../data/Ups_obs_mu_min_5.npy'"
     ]
    }
   ],
   "source": [
    "fc.load_data('Ups_obs_mu_min_%s.npy'%case)"
   ]
  },
  {
   "cell_type": "markdown",
   "id": "44c0e6f2",
   "metadata": {},
   "source": [
    "Generalizing the previous expression we have the following detection probability\n",
    "\n",
    "$$p_i = f(M,r_{\\rm src}) \\int d\\mu \\mu^{3/2} \\frac{d\\Upsilon_{\\rm Obs}}{d\\mu}(\\beta^i_{\\rm ex}(M),r_{\\rm src},\\mu) = \\frac{3}{2}f(M,r_{\\rm src}) \\int d\\mu \\mu^{1/2} \\Upsilon_{\\rm Obs}(\\beta^i_{\\rm ex}(M),r_{\\rm src},\\mu)$$\n",
    "\n",
    "Notes:\n",
    "* $\\mu^{3/2}$ is a volume prior: very demagnified events are detectable, but they'd have to be very close to us (at observed SNR)\n",
    "* the second expression follows by partial integration, so we can work with $\\Upsilon_{\\rm Obs}$\n",
    "* we're allowing for arbitrary many loops (this can be reduced)\n",
    "* we're considering the images individually\n",
    "\n",
    "Going forward:\n",
    "* figure out scaling with $r_{\\rm src}$\n",
    "* given $r_{\\rm src},M$, interpolate on $\\beta(M), r_{\\rm src}$ for all the available $\\mu$'s. Then do the magnification integral through array"
   ]
  },
  {
   "cell_type": "code",
   "execution_count": 26,
   "id": "63cb0651",
   "metadata": {},
   "outputs": [
    {
     "data": {
      "text/plain": [
       "<matplotlib.legend.Legend at 0x7523b617b280>"
      ]
     },
     "execution_count": 26,
     "metadata": {},
     "output_type": "execute_result"
    },
    {
     "data": {
      "image/png": "[encoded data removed]",
      "text/plain": [
       "<Figure size 345x258 with 1 Axes>"
      ]
     },
     "metadata": {},
     "output_type": "display_data"
    }
   ],
   "source": [
    "x = np.linspace(0,1,10)\n",
    "plt.plot(x,x,label='full')\n",
    "plt.plot(x,1-np.exp(-x),label='Poisson')\n",
    "plt.title('Poisson approximation is conservative')\n",
    "plt.xlabel(r'$\\tilde \\Upsilon_{\\rm obs}$')\n",
    "plt.ylabel(r'$P$')\n",
    "plt.legend()"
   ]
  },
  {
   "cell_type": "markdown",
   "id": "850df590",
   "metadata": {
    "heading_collapsed": true
   },
   "source": [
    "## Mismatch\n",
    "\n",
    "We will use a simple criterion for detectability when $\\mathcal{M}\\cdot {\\rm SNR}^2>1$ to estimate the number of detectable signals.\n",
    "\n",
    "If we use our scaling as $\\beta^2$ (for small $\\beta$) then we can obtain the limit $\\beta< \\frac{\\beta_0}{ \\sqrt{\\mathcal{M_0}} {\\rm SNR}}$"
   ]
  },
  {
   "cell_type": "code",
   "execution_count": 27,
   "id": "963d3916",
   "metadata": {
    "hidden": true
   },
   "outputs": [
    {
     "ename": "AttributeError",
     "evalue": "module 'forecast' has no attribute 'psd_ligo'",
     "output_type": "error",
     "traceback": [
      "\u001b[0;31m---------------------------------------------------------------------------\u001b[0m",
      "\u001b[0;31mAttributeError\u001b[0m                            Traceback (most recent call last)",
      "Cell \u001b[0;32mIn[27], line 6\u001b[0m\n\u001b[1;32m      4\u001b[0m \u001b[38;5;28;01mfor\u001b[39;00m i,q \u001b[38;5;129;01min\u001b[39;00m \u001b[38;5;28menumerate\u001b[39m([\u001b[38;5;241m1\u001b[39m,\u001b[38;5;241m0.5\u001b[39m,\u001b[38;5;241m0.1\u001b[39m]):\n\u001b[1;32m      5\u001b[0m     Mbbh \u001b[38;5;241m=\u001b[39m np\u001b[38;5;241m.\u001b[39mgeomspace(m_min\u001b[38;5;241m*\u001b[39m(\u001b[38;5;241m1\u001b[39m\u001b[38;5;241m+\u001b[39m\u001b[38;5;241m1\u001b[39m\u001b[38;5;241m/\u001b[39mq),\u001b[38;5;241m100\u001b[39m,\u001b[38;5;241m10\u001b[39m)\n\u001b[0;32m----> 6\u001b[0m     dat \u001b[38;5;241m=\u001b[39m [fc\u001b[38;5;241m.\u001b[39mmismatch_gshe(M,q\u001b[38;5;241m=\u001b[39mq,fmin\u001b[38;5;241m=\u001b[39m\u001b[38;5;241m10\u001b[39m,bt_fid\u001b[38;5;241m=\u001b[39mbt_fid,z\u001b[38;5;241m=\u001b[39mzS,psd_fun\u001b[38;5;241m=\u001b[39mfc\u001b[38;5;241m.\u001b[39mpsd_ligo) \u001b[38;5;28;01mfor\u001b[39;00m M \u001b[38;5;129;01min\u001b[39;00m Mbbh]\n\u001b[1;32m      7\u001b[0m     dat \u001b[38;5;241m=\u001b[39m np\u001b[38;5;241m.\u001b[39marray(dat)\n\u001b[1;32m      8\u001b[0m     plt\u001b[38;5;241m.\u001b[39msemilogy(Mbbh,dat[:,\u001b[38;5;241m0\u001b[39m]\u001b[38;5;241m*\u001b[39mdat[:,\u001b[38;5;241m1\u001b[39m]\u001b[38;5;241m*\u001b[39m\u001b[38;5;241m*\u001b[39m\u001b[38;5;241m2\u001b[39m,\u001b[38;5;124m'\u001b[39m\u001b[38;5;124m--\u001b[39m\u001b[38;5;124m'\u001b[39m,c\u001b[38;5;241m=\u001b[39m\u001b[38;5;124m'\u001b[39m\u001b[38;5;124mC\u001b[39m\u001b[38;5;132;01m%i\u001b[39;00m\u001b[38;5;124m'\u001b[39m\u001b[38;5;241m%\u001b[39mi)\n",
      "Cell \u001b[0;32mIn[27], line 6\u001b[0m, in \u001b[0;36m<listcomp>\u001b[0;34m(.0)\u001b[0m\n\u001b[1;32m      4\u001b[0m \u001b[38;5;28;01mfor\u001b[39;00m i,q \u001b[38;5;129;01min\u001b[39;00m \u001b[38;5;28menumerate\u001b[39m([\u001b[38;5;241m1\u001b[39m,\u001b[38;5;241m0.5\u001b[39m,\u001b[38;5;241m0.1\u001b[39m]):\n\u001b[1;32m      5\u001b[0m     Mbbh \u001b[38;5;241m=\u001b[39m np\u001b[38;5;241m.\u001b[39mgeomspace(m_min\u001b[38;5;241m*\u001b[39m(\u001b[38;5;241m1\u001b[39m\u001b[38;5;241m+\u001b[39m\u001b[38;5;241m1\u001b[39m\u001b[38;5;241m/\u001b[39mq),\u001b[38;5;241m100\u001b[39m,\u001b[38;5;241m10\u001b[39m)\n\u001b[0;32m----> 6\u001b[0m     dat \u001b[38;5;241m=\u001b[39m [fc\u001b[38;5;241m.\u001b[39mmismatch_gshe(M,q\u001b[38;5;241m=\u001b[39mq,fmin\u001b[38;5;241m=\u001b[39m\u001b[38;5;241m10\u001b[39m,bt_fid\u001b[38;5;241m=\u001b[39mbt_fid,z\u001b[38;5;241m=\u001b[39mzS,psd_fun\u001b[38;5;241m=\u001b[39m\u001b[43mfc\u001b[49m\u001b[38;5;241;43m.\u001b[39;49m\u001b[43mpsd_ligo\u001b[49m) \u001b[38;5;28;01mfor\u001b[39;00m M \u001b[38;5;129;01min\u001b[39;00m Mbbh]\n\u001b[1;32m      7\u001b[0m     dat \u001b[38;5;241m=\u001b[39m np\u001b[38;5;241m.\u001b[39marray(dat)\n\u001b[1;32m      8\u001b[0m     plt\u001b[38;5;241m.\u001b[39msemilogy(Mbbh,dat[:,\u001b[38;5;241m0\u001b[39m]\u001b[38;5;241m*\u001b[39mdat[:,\u001b[38;5;241m1\u001b[39m]\u001b[38;5;241m*\u001b[39m\u001b[38;5;241m*\u001b[39m\u001b[38;5;241m2\u001b[39m,\u001b[38;5;124m'\u001b[39m\u001b[38;5;124m--\u001b[39m\u001b[38;5;124m'\u001b[39m,c\u001b[38;5;241m=\u001b[39m\u001b[38;5;124m'\u001b[39m\u001b[38;5;124mC\u001b[39m\u001b[38;5;132;01m%i\u001b[39;00m\u001b[38;5;124m'\u001b[39m\u001b[38;5;241m%\u001b[39mi)\n",
      "\u001b[0;31mAttributeError\u001b[0m: module 'forecast' has no attribute 'psd_ligo'"
     ]
    }
   ],
   "source": [
    "m_min = 1.3\n",
    "bt_fid = 0.1\n",
    "zS = 0.3\n",
    "for i,q in enumerate([1,0.5,0.1]):\n",
    "    Mbbh = np.geomspace(m_min*(1+1/q),100,10)\n",
    "    dat = [fc.mismatch_gshe(M,q=q,fmin=10,bt_fid=bt_fid,z=zS,psd_fun=fc.psd_ligo) for M in Mbbh]\n",
    "    dat = np.array(dat)\n",
    "    plt.semilogy(Mbbh,dat[:,0]*dat[:,1]**2,'--',c='C%i'%i)\n",
    "    plt.plot(Mbbh,dat[:,0],':',c='C%i'%i)\n",
    "    plt.plot(Mbbh,bt_fid/np.sqrt(dat[:,0])/dat[:,1],'-',label='$q=%g$'%q,c='C%i'%i)\n",
    "    \n",
    "plt.plot([],'k-',label=r'$\\beta$ excluded')\n",
    "plt.plot([],'k--',label=r'$\\mathcal{M}\\cdot{\\rm SNR}^2$')\n",
    "plt.plot([],'k:',label=r'$\\mathcal{M}$')\n",
    "    \n",
    "plt.legend(ncol=2,loc=(0.45,0.2))\n",
    "plt.xlabel(r\"$M_{\\rm bbh}$\")\n",
    "plt.title(r\"aLIGO $M=10^4M_\\odot, z_S=%g,\\beta_0 =%g,f_{\\rm min}=10$Hz\"%(zS,bt_fid))\n",
    "plt.grid(alpha=0.3)"
   ]
  },
  {
   "cell_type": "code",
   "execution_count": null,
   "id": "a5844752",
   "metadata": {
    "hidden": true
   },
   "outputs": [],
   "source": [
    "m_min = 1.3\n",
    "bt_fid = 0.1\n",
    "zS = 0.3\n",
    "for i,q in enumerate([1,0.5,0.1]):\n",
    "    Mbbh = np.geomspace(m_min*(1+1/q),100,10)\n",
    "    dat = [fc.mismatch_gshe(M,q=q,fmin=10,bt_fid=bt_fid,z=zS,psd_fun=fc.psd_et) for M in Mbbh]\n",
    "    dat = np.array(dat)\n",
    "    plt.semilogy(Mbbh,dat[:,0]*dat[:,1]**2,'--',c='C%i'%i)\n",
    "    plt.plot(Mbbh,dat[:,0],':',c='C%i'%i)\n",
    "    plt.plot(Mbbh,bt_fid/np.sqrt(dat[:,0])/dat[:,1],'-',label='$q=%g$'%q,c='C%i'%i)\n",
    "    \n",
    "plt.plot([],'k-',label=r'$\\beta$ excluded')\n",
    "plt.plot([],'k--',label=r'$\\mathcal{M}\\cdot{\\rm SNR}^2$')\n",
    "plt.plot([],'k:',label=r'$\\mathcal{M}$')\n",
    "    \n",
    "plt.legend(ncol=2,loc=(0.45,0.4))\n",
    "plt.xlabel(r\"$M_{\\rm bbh}$\")\n",
    "plt.title(r\"ET $M=10^4M_\\odot, z_S=%g,\\beta_0 =%g,f_{\\rm min}=10$Hz\"%(zS,bt_fid))\n",
    "plt.grid(alpha=0.3)"
   ]
  },
  {
   "cell_type": "markdown",
   "id": "f7bab453",
   "metadata": {
    "heading_collapsed": true
   },
   "source": [
    "## Number of sources"
   ]
  },
  {
   "cell_type": "markdown",
   "id": "fc007b08",
   "metadata": {
    "hidden": true
   },
   "source": [
    "Using https://github.com/hsinyuc/distancetool\n",
    "\n",
    "Output--\n",
    "Range (Mpc);\n",
    "Redshift at which the detector can detect 50% of the uniformly distributed sources;\n",
    "Redshift at which the detector can detect 10% of the uniformly distributed sources;\n",
    "Redshift of the horizon;\n",
    "Constant comoving time volume (Gpc^3);\n",
    "Redshift within which 50% of the detected sources lie;\n",
    "Redshift within which 90% of the detected sources lie;\n",
    "Redshift within which 50% of the detected sources lie, the source distribution follows a star formation rate;\n",
    "Redshift within which 90% of the detected sources lie, the source distribution follows a star formation rate;\n",
    "Average redshift of the detected sources;\n",
    "Average redshift of the detected sources, the source distribution follows a star formation rate.\n",
    "\n",
    "\n",
    "\n",
    "The quantity is the comoving time volume. However, it is more convenient to include a function x(D) that accounts for the fraction of detected events at distance D"
   ]
  },
  {
   "cell_type": "code",
   "execution_count": 28,
   "id": "67d46475",
   "metadata": {
    "hidden": true
   },
   "outputs": [
    {
     "data": {
      "image/png": "[encoded data removed]",
      "text/plain": [
       "<Figure size 345x258 with 1 Axes>"
      ]
     },
     "metadata": {},
     "output_type": "display_data"
    }
   ],
   "source": [
    "reload(fc)\n",
    "for f in [fc.aligo_file,fc.CE1_file,fc.CE2_file]:\n",
    "    d = np.genfromtxt(f)\n",
    "    plt.loglog(d[:,0],d[:,1])"
   ]
  },
  {
   "cell_type": "code",
   "execution_count": 29,
   "id": "e187442b",
   "metadata": {
    "hidden": true
   },
   "outputs": [
    {
     "ename": "NameError",
     "evalue": "name 'out' is not defined",
     "output_type": "error",
     "traceback": [
      "\u001b[0;31m---------------------------------------------------------------------------\u001b[0m",
      "\u001b[0;31mNameError\u001b[0m                                 Traceback (most recent call last)",
      "Cell \u001b[0;32mIn[29], line 1\u001b[0m\n\u001b[0;32m----> 1\u001b[0m plt\u001b[38;5;241m.\u001b[39mplot(\u001b[43mout\u001b[49m[\u001b[38;5;124m'\u001b[39m\u001b[38;5;124mz_array\u001b[39m\u001b[38;5;124m'\u001b[39m],out[\u001b[38;5;124m'\u001b[39m\u001b[38;5;124mcompensate_det_frac_array\u001b[39m\u001b[38;5;124m'\u001b[39m],label\u001b[38;5;241m=\u001b[39m\u001b[38;5;124m'\u001b[39m\u001b[38;5;124mdet fraction\u001b[39m\u001b[38;5;124m'\u001b[39m)\n\u001b[1;32m      2\u001b[0m plt\u001b[38;5;241m.\u001b[39msemilogy(out[\u001b[38;5;124m'\u001b[39m\u001b[38;5;124mz_array\u001b[39m\u001b[38;5;124m'\u001b[39m],out[\u001b[38;5;124m'\u001b[39m\u001b[38;5;124munit_volume_arrayMpc3\u001b[39m\u001b[38;5;124m'\u001b[39m]\u001b[38;5;241m/\u001b[39m\u001b[38;5;241m1e9\u001b[39m,label\u001b[38;5;241m=\u001b[39m\u001b[38;5;124m'\u001b[39m\u001b[38;5;124md volume [1/Gpc]\u001b[39m\u001b[38;5;124m'\u001b[39m)\n\u001b[1;32m      3\u001b[0m plt\u001b[38;5;241m.\u001b[39mgrid(alpha\u001b[38;5;241m=\u001b[39m\u001b[38;5;241m0.3\u001b[39m)\n",
      "\u001b[0;31mNameError\u001b[0m: name 'out' is not defined"
     ]
    }
   ],
   "source": [
    "plt.plot(out['z_array'],out['compensate_det_frac_array'],label='det fraction')\n",
    "plt.semilogy(out['z_array'],out['unit_volume_arrayMpc3']/1e9,label='d volume [1/Gpc]')\n",
    "plt.grid(alpha=0.3)\n",
    "plt.ylim(1e-4,)\n",
    "plt.xlabel('z')\n",
    "plt.legend()"
   ]
  },
  {
   "cell_type": "code",
   "execution_count": 30,
   "id": "0c3841af",
   "metadata": {
    "hidden": true
   },
   "outputs": [
    {
     "ename": "NameError",
     "evalue": "name 'cosmo' is not defined",
     "output_type": "error",
     "traceback": [
      "\u001b[0;31m---------------------------------------------------------------------------\u001b[0m",
      "\u001b[0;31mNameError\u001b[0m                                 Traceback (most recent call last)",
      "Cell \u001b[0;32mIn[30], line 1\u001b[0m\n\u001b[0;32m----> 1\u001b[0m V \u001b[38;5;241m=\u001b[39m \u001b[43mcosmo\u001b[49m\u001b[38;5;241m.\u001b[39mcomoving_volume(out[\u001b[38;5;124m'\u001b[39m\u001b[38;5;124mz_array\u001b[39m\u001b[38;5;124m'\u001b[39m])\u001b[38;5;241m/\u001b[39mu\u001b[38;5;241m.\u001b[39mMpc\u001b[38;5;241m*\u001b[39m\u001b[38;5;241m*\u001b[39m\u001b[38;5;241m3\u001b[39m\n\u001b[1;32m      2\u001b[0m dV \u001b[38;5;241m=\u001b[39m np\u001b[38;5;241m.\u001b[39mgradient(V,out[\u001b[38;5;124m'\u001b[39m\u001b[38;5;124mz_array\u001b[39m\u001b[38;5;124m'\u001b[39m])\n\u001b[1;32m      4\u001b[0m plt\u001b[38;5;241m.\u001b[39msemilogy(out[\u001b[38;5;124m'\u001b[39m\u001b[38;5;124mz_array\u001b[39m\u001b[38;5;124m'\u001b[39m],out[\u001b[38;5;124m'\u001b[39m\u001b[38;5;124munit_volume_arrayMpc3\u001b[39m\u001b[38;5;124m'\u001b[39m],label\u001b[38;5;241m=\u001b[39m\u001b[38;5;124m'\u001b[39m\u001b[38;5;124md volume\u001b[39m\u001b[38;5;124m'\u001b[39m)\n",
      "\u001b[0;31mNameError\u001b[0m: name 'cosmo' is not defined"
     ]
    }
   ],
   "source": [
    "V = cosmo.comoving_volume(out['z_array'])/u.Mpc**3\n",
    "dV = np.gradient(V,out['z_array'])\n",
    "\n",
    "plt.semilogy(out['z_array'],out['unit_volume_arrayMpc3'],label='d volume')\n",
    "\n",
    "volume_det = (4*np.pi*u.sr*cosmo.differential_comoving_volume(out['z_array'])/(1+out['z_array'])*out['compensate_det_frac_array']/u.Mpc**3).decompose()\n",
    "\n",
    "plt.semilogy(out['z_array'],volume_det)\n",
    "plt.semilogy(out['z_array'],dV/(1+out['z_array'])*out['compensate_det_frac_array'])\n",
    "plt.grid(alpha=0.3)\n",
    "\n",
    "print(np.average(volume_det/out['unit_volume_arrayMpc3']*1e9),100*np.pi)\n",
    "\n",
    "plt.title('differential volume not matching! ')"
   ]
  },
  {
   "cell_type": "code",
   "execution_count": 31,
   "id": "4c108982",
   "metadata": {
    "hidden": true
   },
   "outputs": [
    {
     "ename": "NameError",
     "evalue": "name 'cosmo' is not defined",
     "output_type": "error",
     "traceback": [
      "\u001b[0;31m---------------------------------------------------------------------------\u001b[0m",
      "\u001b[0;31mNameError\u001b[0m                                 Traceback (most recent call last)",
      "Cell \u001b[0;32mIn[31], line 3\u001b[0m\n\u001b[1;32m      1\u001b[0m z \u001b[38;5;241m=\u001b[39m np\u001b[38;5;241m.\u001b[39mgeomspace(\u001b[38;5;241m0.1\u001b[39m,\u001b[38;5;241m10\u001b[39m,\u001b[38;5;241m50\u001b[39m)\n\u001b[0;32m----> 3\u001b[0m V1 \u001b[38;5;241m=\u001b[39m \u001b[43mcosmo\u001b[49m\u001b[38;5;241m.\u001b[39mcomoving_volume(z)\u001b[38;5;241m/\u001b[39mu\u001b[38;5;241m.\u001b[39mMpc\n\u001b[1;32m      4\u001b[0m V2 \u001b[38;5;241m=\u001b[39m gwhor\u001b[38;5;241m.\u001b[39mde\u001b[38;5;241m.\u001b[39mcomoving_volume_de(z,\u001b[38;5;241m*\u001b[39m\u001b[38;5;241m*\u001b[39mgwhor\u001b[38;5;241m.\u001b[39mcosmo)\n\u001b[1;32m      6\u001b[0m \u001b[38;5;66;03m#plt.loglog(z,V1); plt.loglog(z,V2)\u001b[39;00m\n",
      "\u001b[0;31mNameError\u001b[0m: name 'cosmo' is not defined"
     ]
    }
   ],
   "source": [
    "z = np.geomspace(0.1,10,50)\n",
    "\n",
    "V1 = cosmo.comoving_volume(z)/u.Mpc\n",
    "V2 = gwhor.de.comoving_volume_de(z,**gwhor.cosmo)\n",
    "\n",
    "#plt.loglog(z,V1); plt.loglog(z,V2)\n",
    "\n",
    "plt.plot(z,V1/V2)\n",
    "plt.title('but comoving volumes agree!')\n"
   ]
  },
  {
   "cell_type": "code",
   "execution_count": 32,
   "id": "c19abb03",
   "metadata": {
    "hidden": true
   },
   "outputs": [
    {
     "ename": "NameError",
     "evalue": "name 'gwhor' is not defined",
     "output_type": "error",
     "traceback": [
      "\u001b[0;31m---------------------------------------------------------------------------\u001b[0m",
      "\u001b[0;31mNameError\u001b[0m                                 Traceback (most recent call last)",
      "Cell \u001b[0;32mIn[32], line 12\u001b[0m\n\u001b[1;32m     10\u001b[0m df\u001b[38;5;241m=\u001b[39m\u001b[38;5;241m1.\u001b[39m\n\u001b[1;32m     11\u001b[0m maximum_freq \u001b[38;5;241m=\u001b[39m \u001b[38;5;241m1e3\u001b[39m\n\u001b[0;32m---> 12\u001b[0m approx \u001b[38;5;241m=\u001b[39m \u001b[43mgwhor\u001b[49m\u001b[38;5;241m.\u001b[39mls\u001b[38;5;241m.\u001b[39mIMRPhenomD\n\u001b[1;32m     16\u001b[0m n_zstep\u001b[38;5;241m=\u001b[39m\u001b[38;5;241m400\u001b[39m\n\u001b[1;32m     18\u001b[0m asdfile \u001b[38;5;241m=\u001b[39m \u001b[38;5;124m'\u001b[39m\u001b[38;5;124m/home/miguel/code/utils/distancetool/data/aLIGO/Advanced_LIGO_Design.txt\u001b[39m\u001b[38;5;124m'\u001b[39m\n",
      "\u001b[0;31mNameError\u001b[0m: name 'gwhor' is not defined"
     ]
    }
   ],
   "source": [
    "#trying to debug\n",
    "\n",
    "m1 = 30\n",
    "m2 = 30\n",
    "\n",
    "snr_th = 8\n",
    "\n",
    "fmin=10.\n",
    "fref=10.\n",
    "df=1.\n",
    "maximum_freq = 1e3\n",
    "approx = gwhor.ls.IMRPhenomD\n",
    "\n",
    "\n",
    "\n",
    "n_zstep=400\n",
    "\n",
    "asdfile = '/home/miguel/code/utils/distancetool/data/aLIGO/Advanced_LIGO_Design.txt'\n",
    "\n",
    "\n",
    "z_hor = fc.guess_z_horizon(m1,m2, asdfile, snr_th = 8,fmin=10.,fref=10.,df=1.,maximum_freq = 1e3,approx = gwhor.ls.IMRPhenomD)\n",
    "\n",
    "input_freq,strain=np.loadtxt(asdfile,unpack=True,usecols=[0,1])\n",
    "print(min(input_freq))\n",
    "minimum_freq=np.maximum(min(input_freq),fmin)\n",
    "maximum_freq=np.minimum(max(input_freq),5000.)\n",
    "interpolate_psd = interp1d(input_freq, strain**2)\n",
    "\n",
    "\n",
    "z,dz=np.linspace(z_hor,0,n_zstep,endpoint=False,retstep=True)\n",
    "dz=abs(dz)\n",
    "unit_volume=np.zeros(np.size(z)); compensate_detect_frac=np.zeros(np.size(z))\n",
    "for i in range(0,np.size(z)):\t\n",
    "    hplus_tilda,hcross_tilda,freqs = gwhor.get_htildas((1.+z[i])*m1,(1.+z[i])*m2, gwhor.de.luminosity_distance_de(z[i],**gwhor.cosmo) ,fmin=fmin,fref=fref,df=df,approx=approx)\n",
    "    fsel = np.logical_and(freqs>minimum_freq,freqs<maximum_freq)\n",
    "    psd_interp = interpolate_psd(freqs[fsel])  \n",
    "    optsnr_z= gwhor.compute_horizonSNR(hplus_tilda,psd_interp,fsel,df)\n",
    "    w=snr_th/optsnr_z\n",
    "    compensate_detect_frac[i]=fc.prob_detect(w)\t\t\n",
    "    unit_volume[i]=(gwhor.de.comoving_volume_de(z[i]+dz/2.,**gwhor.cosmo)-gwhor.de.comoving_volume_de(z[i]-dz/2.,**gwhor.cosmo))/(1.+z[i])*fc.prob_detect(w)"
   ]
  },
  {
   "cell_type": "markdown",
   "id": "95325451",
   "metadata": {
    "hidden": true
   },
   "source": [
    "### Compute fraction of events at a given distance\n",
    "\n",
    "$w = {\\rm SNR}_{\\rm opt}/{\\rm SNR}_{\\rm thr}$, probability of detection given by $P(w)$"
   ]
  },
  {
   "cell_type": "code",
   "execution_count": 33,
   "id": "15b72e2b",
   "metadata": {
    "hidden": true
   },
   "outputs": [
    {
     "data": {
      "text/plain": [
       "[<matplotlib.lines.Line2D at 0x7523b5ed4310>]"
      ]
     },
     "execution_count": 33,
     "metadata": {},
     "output_type": "execute_result"
    },
    {
     "data": {
      "image/png": "[encoded data removed]",
      "text/plain": [
       "<Figure size 345x258 with 1 Axes>"
      ]
     },
     "metadata": {},
     "output_type": "display_data"
    }
   ],
   "source": [
    "plt.plot(fc.w_sample,fc.P_sample)\n",
    "# plt.plot(fc.w_sample,fc.dP_sample)"
   ]
  },
  {
   "cell_type": "code",
   "execution_count": 34,
   "id": "8537987a",
   "metadata": {
    "hidden": true
   },
   "outputs": [
    {
     "name": "stdout",
     "output_type": "stream",
     "text": [
      "[0.71716315 0.32694025 0.08204463]\n",
      "median w = 0.32694\n"
     ]
    },
    {
     "data": {
      "image/png": "[encoded data removed]",
      "text/plain": [
       "<Figure size 345x258 with 1 Axes>"
      ]
     },
     "metadata": {},
     "output_type": "display_data"
    }
   ],
   "source": [
    "w = np.linspace(0,1)\n",
    "pdet = fc.prob_detect(w)\n",
    "\n",
    "plt.plot(w,pdet)\n",
    "plt.xlabel('w=SNRth/SNRopt')\n",
    "plt.ylabel('P(SNR>SNRth)')\n",
    "plt.grid(alpha=0.3)\n",
    "\n",
    "from scipy.integrate import cumtrapz\n",
    "from scipy.interpolate import griddata\n",
    "plt.plot(fc.w_sample,fc.dP_sample/(fc.dP_sample.min()))\n",
    "# plt.plot(w,np.gradient(pdet,w))\n",
    "# plt.plot(w,Pcum/Pcum[-1])\n",
    "lims = griddata(pdet,w,[0.05,0.5,0.95])\n",
    "print(lims)\n",
    "print('median w = %g'%lims[1])"
   ]
  },
  {
   "cell_type": "code",
   "execution_count": 35,
   "id": "9272aba7",
   "metadata": {
    "hidden": true
   },
   "outputs": [],
   "source": [
    "z_array = np.geomspace(1e-2,50,50)\n",
    "SNR_opt_array = fc.SNR_opt(z_array,60,fc.aligo_file,q=1)"
   ]
  },
  {
   "cell_type": "code",
   "execution_count": 36,
   "id": "bf49fc70",
   "metadata": {
    "hidden": true
   },
   "outputs": [
    {
     "data": {
      "text/plain": [
       "<matplotlib.legend.Legend at 0x7523b5c3ba00>"
      ]
     },
     "execution_count": 36,
     "metadata": {},
     "output_type": "execute_result"
    },
    {
     "data": {
      "image/png": "[encoded data removed]",
      "text/plain": [
       "<Figure size 345x258 with 1 Axes>"
      ]
     },
     "metadata": {},
     "output_type": "display_data"
    }
   ],
   "source": [
    "plt.loglog(z_array,SNR_opt_array,label='SNR_opt, mu = 1')\n",
    "plt.loglog(z_array,fc.prob_detect(8/SNR_opt_array))\n",
    "\n",
    "for mu,ls in zip([0.1,1,10],[':','-','--']):\n",
    "    plt.loglog(z_array,fc.prob_detect(8/SNR_opt_array/np.sqrt(mu)),ls,c='k',label='P_det, mu=%g'%mu)\n",
    "\n",
    "plt.ylim(1e-3,)\n",
    "plt.grid(alpha=0.3)\n",
    "plt.xlabel('z')\n",
    "plt.legend()"
   ]
  },
  {
   "cell_type": "markdown",
   "id": "5bf6bcc7",
   "metadata": {},
   "source": [
    "## Number of detectable signals\n",
    "\n",
    "$$ dN = f_{\\rm C}(M,r_{\\rm src})\\int dz_s \\frac{dV_z}{dz}(z_s)\\mathcal{R}(z_s) \\int d\\mu P_{\\rm det}\\left(\\frac{\\rho_{\\rm th}}{\\sqrt{\\mu}\\rho_{\\rm opt}(z_s)}\\right) \\frac{d P_{GSHE}}{d\\mu}(\\mu,\\beta_{\\rm min}(z_s,\\mu))$$\n",
    "\n",
    "$$ V_{\\rm GSHE} = \\int dz_s \\frac{dV_z}{dz}(z_S) \\int d\\mu P_{\\rm det}\\left(\\frac{\\rho_{\\rm th}}{\\sqrt{\\mu}\\rho_{\\rm opt}(z_S)}\\right) \\frac{d P_{GSHE}}{d\\mu}(\\mu,\\beta_{\\rm min}(z_s,\\mu))$$\n",
    "\n",
    "with $\\beta_{\\rm min} = \\frac{\\beta_{0}}{\\sqrt{\\mathcal{M}_0}}\\frac{1}{0.327\\sqrt{\\mu}\\rho}$ (the factor 0.327 translates the optimal SNR into a median SNR at $z_S$)"
   ]
  },
  {
   "cell_type": "markdown",
   "id": "b540511c",
   "metadata": {},
   "source": [
    "* **role of SNR below optimal on beta_min**\n",
    "* **total number of events, magnification**"
   ]
  },
  {
   "cell_type": "markdown",
   "id": "bb8421ff",
   "metadata": {},
   "source": [
    "We will assume a constant rate $\\mathcal{R}(z)=\\mathcal{R}_0$ and quote the effective survey volume $V_{\\rm GSHE}= \\frac{N}{\\mathcal{R}_0}$, for $\\mathcal{R}$ constant\n",
    "\n",
    "**SNR for $\\beta_{\\rm min}$**"
   ]
  },
  {
   "cell_type": "code",
   "execution_count": 37,
   "id": "8848e042",
   "metadata": {},
   "outputs": [
    {
     "name": "stderr",
     "output_type": "stream",
     "text": [
      "/tmp/ipykernel_354144/3596467388.py:7: DeprecationWarning: 'scipy.integrate.simps' is deprecated in favour of 'scipy.integrate.simpson' and will be removed in SciPy 1.14.0\n",
      "  simps(simps(z, y), x)\n"
     ]
    },
    {
     "data": {
      "text/plain": [
       "0.8513492374522216"
      ]
     },
     "execution_count": 37,
     "metadata": {},
     "output_type": "execute_result"
    }
   ],
   "source": [
    "#double integrals from https://stackoverflow.com/questions/20668689/integrating-2d-samples-on-a-rectangular-grid-using-scipy\n",
    "from scipy.integrate import simps\n",
    "import numpy as np\n",
    "x = np.linspace(0, 1, 20)\n",
    "y = np.linspace(0, 1, 30)\n",
    "z = np.cos(x[:,None])**4 + np.sin(y)**2\n",
    "simps(simps(z, y), x)"
   ]
  },
  {
   "cell_type": "code",
   "execution_count": 38,
   "id": "cc5afcca",
   "metadata": {},
   "outputs": [
    {
     "name": "stderr",
     "output_type": "stream",
     "text": [
      "/home/miguel/code/GSHE/scripts/../GSHEWaveform/forecast.py:143: RuntimeWarning: divide by zero encountered in divide\n",
      "  F_gshe = np.exp(2*np.pi*1j*f0_fid/(fs))\n",
      "/home/miguel/code/GSHE/scripts/../GSHEWaveform/forecast.py:143: RuntimeWarning: invalid value encountered in divide\n",
      "  F_gshe = np.exp(2*np.pi*1j*f0_fid/(fs))\n",
      "/home/miguel/code/GSHE/scripts/../GSHEWaveform/forecast.py:143: RuntimeWarning: invalid value encountered in exp\n",
      "  F_gshe = np.exp(2*np.pi*1j*f0_fid/(fs))\n"
     ]
    },
    {
     "name": "stdout",
     "output_type": "stream",
     "text": [
      "25.9 ms ± 1.19 ms per loop (mean ± std. dev. of 7 runs, 10 loops each)\n"
     ]
    }
   ],
   "source": [
    "%%timeit\n",
    "fc.beta_min(60,z=10)"
   ]
  },
  {
   "cell_type": "code",
   "execution_count": 39,
   "id": "82dc1278",
   "metadata": {},
   "outputs": [
    {
     "name": "stdout",
     "output_type": "stream",
     "text": [
      "[0.0012852643501253258, 55.76098322776473] 0.2571881237649549\n",
      "[1.2886570039394307e-05, 55.76098322776473] 2.5667955259629687\n"
     ]
    }
   ],
   "source": [
    "for M_fid in [1e4,1e5]:\n",
    "    print(fc.mismatch_gshe(60, q,M_fid=M_fid), fc.beta_min(60,0.5,M_fid=M_fid))"
   ]
  },
  {
   "cell_type": "markdown",
   "id": "5b2aceeb",
   "metadata": {},
   "source": [
    "### Prescription for different radii\n",
    "\n",
    "Find a function that rescales the probability and the magnification:\n",
    "* for $\\mu\\gtrsim 1$, $\\Upsilon \\propto 1/r^2$ because the Einstein Ring becomes smaller\n",
    "* for $\\mu\\lesssim 1$ $\\mu\\propto 1/r^2$ because of magnification\n",
    "\n",
    "Alternatively: redo the computation rescaling the size of the "
   ]
  },
  {
   "cell_type": "markdown",
   "id": "e23a312f",
   "metadata": {},
   "source": [
    "### Systematic plotting"
   ]
  },
  {
   "cell_type": "code",
   "execution_count": 40,
   "id": "2bec6337",
   "metadata": {},
   "outputs": [
    {
     "data": {
      "text/plain": [
       "<module 'forecast' from '/home/miguel/code/GSHE/scripts/../GSHEWaveform/forecast.py'>"
      ]
     },
     "execution_count": 40,
     "metadata": {},
     "output_type": "execute_result"
    }
   ],
   "source": [
    "reload(fc)"
   ]
  },
  {
   "cell_type": "code",
   "execution_count": 41,
   "id": "89f2cab9",
   "metadata": {},
   "outputs": [],
   "source": [
    "case_name = '5_all'\n",
    "fc.load_data('Ups_obs_mu_min_%s.npy'%case_name)"
   ]
  },
  {
   "cell_type": "code",
   "execution_count": null,
   "id": "a7546d96",
   "metadata": {},
   "outputs": [],
   "source": []
  },
  {
   "cell_type": "code",
   "execution_count": 42,
   "id": "6a760fbe",
   "metadata": {},
   "outputs": [
    {
     "name": "stderr",
     "output_type": "stream",
     "text": [
      "/home/miguel/code/GSHE/scripts/../GSHEWaveform/forecast.py:143: RuntimeWarning: divide by zero encountered in divide\n",
      "  F_gshe = np.exp(2*np.pi*1j*f0_fid/(fs))\n",
      "/home/miguel/code/GSHE/scripts/../GSHEWaveform/forecast.py:143: RuntimeWarning: invalid value encountered in divide\n",
      "  F_gshe = np.exp(2*np.pi*1j*f0_fid/(fs))\n",
      "/home/miguel/code/GSHE/scripts/../GSHEWaveform/forecast.py:143: RuntimeWarning: invalid value encountered in exp\n",
      "  F_gshe = np.exp(2*np.pi*1j*f0_fid/(fs))\n",
      "/home/miguel/code/GSHE/scripts/../GSHEWaveform/forecast.py:195: RuntimeWarning: divide by zero encountered in divide\n",
      "  p_det = prob_detect((snr_th/snr_opt)[:,None]/np.sqrt(mus))\n"
     ]
    }
   ],
   "source": [
    "cases = {\n",
    "#     'L-8-4': ['LIGO', 8, 60, 1e4, 30],\n",
    "# #          'L-8-4-20': ['LIGO', 8, 20, 1e4, 30],\n",
    "# #          'L-8-4-3': ['LIGO', 8, 3, 1e4, 30],\n",
    "#          'L-8-5': ['LIGO', 8, 60, 1e5, 30],\n",
    "#          'L-8-6': ['LIGO', 8, 60, 1e6, 30],\n",
    "#          'L-8-7': ['LIGO', 8, 60, 1e7, 30],\n",
    "# #          'L-1-4': ['LIGO', 1, 60, 1e4, 30],\n",
    "# #          'L-1-5': ['LIGO', 1, 60, 1e5, 30],\n",
    "# #          'L-1-6': ['LIGO', 1, 60, 1e6, 30],\n",
    "         'C-8-4': ['CE', 8, 60, 1e4, 30],\n",
    "# #          'C-8-4-20': ['CE', 8, 20, 1e4, 30],\n",
    "# #          'C-8-4-3': ['CE', 8, 3, 1e4, 30],\n",
    "#          'C-8-5': ['CE', 8, 60, 1e5, 30],\n",
    "#          'C-8-6': ['CE', 8, 60, 1e6, 30],\n",
    "# #          'C-1-4': ['CE', 1, 60, 1e4, 30],\n",
    "# #          'C-1-5': ['CE', 1, 60, 1e5, 30],\n",
    "# #          'C-1-6': ['CE', 1, 60, 1e6, 30],\n",
    "# #          'L-1-7': ['LIGO', 1, 60, 1e7, 30],\n",
    "#          'C-8-7': ['CE', 8, 60, 1e7, 30],\n",
    "# #          'C-1-7': ['CE', 1, 60, 1e7, 30],\n",
    "        }\n",
    "\n",
    "# cases = {\n",
    "#     'E-8-4': ['ET', 8, 60, 1e4, 30],\n",
    "# # #          'E-8-4-20': ['ET', 8, 20, 1e4, 30],\n",
    "# # #          'E-8-4-3': ['ET', 8, 3, 1e4, 30],\n",
    "# #          'E-8-5': ['ET', 8, 60, 1e5, 30],\n",
    "# #          'E-8-6': ['ET', 8, 60, 1e6, 30],\n",
    "# # #          'E-1-4': ['ET', 1, 60, 1e4, 30],\n",
    "# # #          'E-1-5': ['ET', 1, 60, 1e5, 30],\n",
    "# # #          'E-1-6': ['ET', 1, 60, 1e6, 30],\n",
    "# # #          'L-1-7': ['LIGO', 1, 60, 1e7, 30],\n",
    "# #          'E-8-7': ['ET', 8, 60, 1e7, 30],\n",
    "# # #          'E-1-7': ['ET', 1, 60, 1e7, 30],}\n",
    "#         }\n",
    "\n",
    "GSHE_results = {}\n",
    "\n",
    "for k in cases.keys():\n",
    "    \n",
    "    experiment, snr_th, M_bbh, M_fid, R0 = cases[k]\n",
    "    psd, file = [fc.psd_CE, fc.CE1_file] if experiment == 'CE' else [fc.psd_ET,fc.ET_file] if experiment == 'ET' else [fc.psd_ligo, fc.aligo_file]\n",
    "    zs = np.geomspace(0.001,60,50) if experiment in ['CE','ET'] else np.geomspace(0.001,50,30)\n",
    "    \n",
    "    output = fc.GSHE_rates(M_bbh,psd, file,return_arrays=True,snr_th=snr_th,M_fid=M_fid,R0=R0,zs=zs)\n",
    "    GSHE_results[k] = output\n",
    "    \n",
    "    var = output['integrand']\n",
    "    mus= output['mu_vals']\n",
    "    zs = output['z_vals']\n",
    "    if len(var[var>0]) == 0:\n",
    "        continue\n",
    "#         'skip the plots'\n",
    "    minimum = max(var[var>0].min(),1e-5*var.max())\n",
    "    norm=colors.LogNorm(vmin=minimum, vmax=var.max())\n",
    "    c = plt.pcolor(mus,zs,var,norm=norm,rasterized=True)\n",
    "    c2 = plt.contour(mus,zs,var,[1/R0])\n",
    "    plt.colorbar(c,label=r'$\\frac{d V_{\\rm GSHE}}{dz d\\mu}$ [Gpc$^3$]')\n",
    "    plt.xscale('log')\n",
    "    plt.yscale('log')\n",
    "    plt.xlabel(r'$\\mu$')\n",
    "    plt.ylabel(r'$z$')\n",
    "\n",
    "    plt.title(r'%s SNR>%g, $M_{\\rm fid}=%s, M_{\\rm BBH}=%g$'%(experiment,snr_th,latex_exp(M_fid),M_bbh))\n",
    "    plt.grid(alpha=0.3)\n",
    "    plt.savefig('../plots/GSHE_volume_%s_SNRth=%g_M_fid=%g_M_bbh=%g.png'%(experiment,snr_th,M_fid,M_bbh))\n",
    "    plt.savefig('../plots/GSHE_volume_%s_SNRth=%g_M_fid=%g_M_bbh=%g.pdf'%(experiment,snr_th,M_fid,M_bbh),bbox_inches='tight')\n",
    "    plt.close()"
   ]
  },
  {
   "cell_type": "code",
   "execution_count": 43,
   "id": "cf3ae4bd",
   "metadata": {},
   "outputs": [
    {
     "name": "stdout",
     "output_type": "stream",
     "text": [
      "5_all\n"
     ]
    }
   ],
   "source": [
    "print(case_name)\n",
    "import pickle \n",
    "\n",
    "with open('../data/GSHE_detection_%s.pkl'%case_name, 'wb') as f:\n",
    "    pickle.dump(GSHE_results, f)\n",
    "    \n",
    "# with open('../data/GSHE_detection_500_all.pkl', 'rb') as f:\n",
    "#     test = pickle.load(f)\n",
    "    \n",
    "# test.keys()"
   ]
  },
  {
   "cell_type": "code",
   "execution_count": 44,
   "id": "480ef8bf",
   "metadata": {},
   "outputs": [
    {
     "data": {
      "image/png": "[encoded data removed]",
      "text/plain": [
       "<Figure size 345x258 with 1 Axes>"
      ]
     },
     "metadata": {},
     "output_type": "display_data"
    }
   ],
   "source": [
    "#define a function that goes from comoving volume to redshift\n",
    "\n",
    "from scipy.interpolate import interp1d\n",
    "\n",
    "zss = np.geomspace(1e-2,1000,100)\n",
    "DLs = (fc.cosmo.luminosity_distance(zss)/fc.u.Mpc).decompose()\n",
    "Vs = (fc.cosmo.comoving_volume(zss)/fc.u.Gpc**3).decompose()\n",
    "plt.loglog(zss,Vs)\n",
    "plt.loglog(zss,DLs)\n",
    "zss = np.append([0],zss)\n",
    "Vs = np.append([0],Vs)\n",
    "DLs = np.append([0],DLs)\n",
    "Vcom2z = interp1d(Vs,zss,fill_value=0)\n",
    "Vcom2DL = interp1d(Vs,DLs,fill_value=0)"
   ]
  },
  {
   "cell_type": "code",
   "execution_count": 46,
   "id": "6000b88d",
   "metadata": {},
   "outputs": [
    {
     "data": {
      "text/plain": [
       "array(0.)"
      ]
     },
     "execution_count": 46,
     "metadata": {},
     "output_type": "execute_result"
    }
   ],
   "source": [
    "Vcom2z(0)\n"
   ]
  },
  {
   "cell_type": "code",
   "execution_count": 416,
   "id": "9edb3dce",
   "metadata": {},
   "outputs": [
    {
     "name": "stdout",
     "output_type": "stream",
     "text": [
      "Exp. & $M\\, [M_\\odot]$ & $V_{\\mathcal{G}}\\, [{\\rm Gpc}^3]$ & $z_{\\mathcal{G}}$ & $\\mathcal{R}^{10 {\\rm yr}}_{90}\\, [{\\rm Gpc}^{-3}{\\rm yr}^{-1}]$\\\\\n",
      "\\hline\n",
      "LIGO & $10^{4}$ &  $0.23\\cdot 10^{-3}$  & $0.64\\cdot 10^{-2}$ &  $9.92\\cdot 10^{2}$ \\\\\n",
      "  & $10^{5}$ &  $0.41\\cdot 10^{-4}$  & $0.11\\cdot 10^{-2}$ &  $5.54\\cdot 10^{3}$ \\\\\n",
      "  & $10^{6}$ &  $0.39\\cdot 10^{-6}$  & $0.11\\cdot 10^{-4}$ &  $5.93\\cdot 10^{5}$ \\\\\n",
      "  & $10^{7}$ &  $0.38\\cdot 10^{-9}$  & $0.10\\cdot 10^{-7}$ &  $6.10\\cdot 10^{8}$ \\\\\n",
      "\\hline\n",
      "CE & $10^{4}$ &  $0.44$  & $0.11$ &  $0.52$ \\\\\n",
      "  & $10^{5}$ &  $0.05$  & $0.05$ &  $5.07$ \\\\\n",
      "  & $10^{6}$ &  $0.13\\cdot 10^{-2}$  & $0.02$ &  $1.72\\cdot 10^{2}$ \\\\\n",
      "  & $10^{7}$ &  $0.41\\cdot 10^{-5}$  & $0.11\\cdot 10^{-3}$ &  $5.68\\cdot 10^{4}$ \\\\\n",
      "\\hline\n",
      "ET & $10^{4}$ &  $0.20$  & $0.08$ &  $1.14$ \\\\\n",
      "  & $10^{5}$ &  $0.07$  & $0.06$ &  $3.18$ \\\\\n",
      "  & $10^{6}$ &  $0.43\\cdot 10^{-2}$  & $0.02$ &  $52.89$ \\\\\n",
      "  & $10^{7}$ &  $0.31\\cdot 10^{-4}$  & $0.86\\cdot 10^{-3}$ &  $7.42\\cdot 10^{3}$ \\\\\n",
      "\\hline\n"
     ]
    }
   ],
   "source": [
    "Tobs = 10\n",
    "print(r'Exp. & $M\\, [M_\\odot]$ & $V_{\\mathcal{G}}\\, [{\\rm Gpc}^3]$ & $z_{\\mathcal{G}}$ & $\\mathcal{R}^{10 {\\rm yr}}_{90}\\, [{\\rm Gpc}^{-3}{\\rm yr}^{-1}]$\\\\')\n",
    "print('\\hline')\n",
    "toplot = ['L-8-%i'%i for i in [4,5,6,7]]+ ['C-8-%i'%i for i in [4,5,6,7]] +  ['E-8-%i'%i for i in [4,5,6,7]]\n",
    "for n,k in (enumerate(toplot)):\n",
    "    pars = cases[k]\n",
    "    out = GSHE_results[k]\n",
    "    thisname = pars[0] if n in [0,4,8] else ' '\n",
    "    V_GSHE = out['GSHE_volume [Gpc^3]']\n",
    "    rate_lim = '\\infty' if V_GSHE ==0 else latex_exp(2.30/V_GSHE/Tobs,exp_min=(-1,1),ndec=2)\n",
    "    print(thisname, '& $%s$'%latex_exp(pars[3]), \n",
    "          '&  $%s$'%latex_exp(V_GSHE,exp_min=(-1,2),ndec=2), \n",
    "          ' & $%s$'%latex_exp(Vcom2z(V_GSHE),exp_min=(-1,2)),'&  $%s$'%rate_lim,r'\\\\')\n",
    "    if n in [3,7]: #[2,7,10]:\n",
    "        print(r'\\hline')\n",
    "        \n",
    "print(r'\\hline')"
   ]
  },
  {
   "cell_type": "code",
   "execution_count": 417,
   "id": "a4f00d3d",
   "metadata": {},
   "outputs": [
    {
     "name": "stdout",
     "output_type": "stream",
     "text": [
      "Exp. & $M\\, [M_\\odot]$ & $V_{\\mathcal{G}}\\, [{\\rm Gpc}^3]$ & $D_{\\mathcal{G}}\\, [{\\rm Mpc}]$ & $\\mathcal{R}^{10 {\\rm yr}}_{90}\\, [{\\rm Gpc}^{-3}{\\rm yr}^{-1}]$\\\\\n",
      "\\hline\n",
      "LIGO & $10^{4}$ &  $0.23\\cdot 10^{-3}$  & $28.61$ &  $9.92\\cdot 10^{2}$ \\\\\n",
      "  & $10^{5}$ &  $0.41\\cdot 10^{-4}$  & $5.12$ &  $5.54\\cdot 10^{3}$ \\\\\n",
      "  & $10^{6}$ &  $0.39\\cdot 10^{-6}$  & $0.05$ &  $5.93\\cdot 10^{5}$ \\\\\n",
      "  & $10^{7}$ &  $0.38\\cdot 10^{-9}$  & $0.46\\cdot 10^{-4}$ &  $6.10\\cdot 10^{8}$ \\\\\n",
      "\\hline\n",
      "CE & $10^{4}$ &  $0.44$  & $523.51$ &  $0.52$ \\\\\n",
      "  & $10^{5}$ &  $0.05$  & $232.19$ &  $5.07$ \\\\\n",
      "  & $10^{6}$ &  $0.13\\cdot 10^{-2}$  & $69.30$ &  $1.72\\cdot 10^{2}$ \\\\\n",
      "  & $10^{7}$ &  $0.41\\cdot 10^{-5}$  & $0.50$ &  $5.68\\cdot 10^{4}$ \\\\\n",
      "\\hline\n",
      "ET & $10^{4}$ &  $0.20$  & $393.06$ &  $1.14$ \\\\\n",
      "  & $10^{5}$ &  $0.07$  & $273.03$ &  $3.18$ \\\\\n",
      "  & $10^{6}$ &  $0.43\\cdot 10^{-2}$  & $103.41$ &  $52.89$ \\\\\n",
      "  & $10^{7}$ &  $0.31\\cdot 10^{-4}$  & $3.83$ &  $7.42\\cdot 10^{3}$ \\\\\n",
      "\\hline\n"
     ]
    }
   ],
   "source": [
    "Tobs = 10\n",
    "print(r'Exp. & $M\\, [M_\\odot]$ & $V_{\\mathcal{G}}\\, [{\\rm Gpc}^3]$ & $D_{\\mathcal{G}}\\, [{\\rm Mpc}]$ & $\\mathcal{R}^{10 {\\rm yr}}_{90}\\, [{\\rm Gpc}^{-3}{\\rm yr}^{-1}]$\\\\')\n",
    "print('\\hline')\n",
    "toplot = ['L-8-%i'%i for i in [4,5,6,7]]+ ['C-8-%i'%i for i in [4,5,6,7]] +  ['E-8-%i'%i for i in [4,5,6,7]]\n",
    "for n,k in (enumerate(toplot)):\n",
    "    pars = cases[k]\n",
    "    out = GSHE_results[k]\n",
    "    thisname = pars[0] if n in [0,4,8] else ' '\n",
    "    V_GSHE = out['GSHE_volume [Gpc^3]']\n",
    "    rate_lim = '\\infty' if V_GSHE ==0 else latex_exp(2.30/V_GSHE/Tobs,exp_min=(-1,1),ndec=2)\n",
    "    print(thisname, '& $%s$'%latex_exp(pars[3]), \n",
    "          '&  $%s$'%latex_exp(V_GSHE,exp_min=(-1,2),ndec=2), \n",
    "          ' & $%s$'%latex_exp(Vcom2DL(V_GSHE),exp_min=(-1,2)),'&  $%s$'%rate_lim,r'\\\\')\n",
    "    if n in [3,7]: #[2,7,10]:\n",
    "        print(r'\\hline')\n",
    "        \n",
    "print(r'\\hline')"
   ]
  },
  {
   "cell_type": "code",
   "execution_count": 177,
   "id": "749c6502",
   "metadata": {},
   "outputs": [
    {
     "data": {
      "image/png": "[encoded data removed]",
      "text/plain": [
       "<Figure size 248.4x185.76 with 2 Axes>"
      ]
     },
     "metadata": {
      "needs_background": "light"
     },
     "output_type": "display_data"
    }
   ],
   "source": [
    "out = GSHE_results['E-8-4']\n",
    "from matplotlib import colors\n",
    "\n",
    "var = out['integrand']\n",
    "vmin = max(var[var>0].min(),1e-8*var.max())\n",
    "var[np.abs(var)<vmin] = vmin\n",
    "# var = out['P_GSHE']\n",
    "# var = out['p_det']\n",
    "mus= out['mu_vals']\n",
    "zs = out['z_vals']\n",
    "norm=colors.LogNorm(vmin=vmin, vmax=var.max())\n",
    "\n",
    "c = plt.pcolor(mus,zs,var,norm=norm,rasterized=True)\n",
    "c2 = plt.contour(mus,zs,out['p_det'],[0.5],colors='orange',linestyles=['-'])\n",
    "plt.annotate(r'$P_{\\rm det}=50\\%$',(1.5,30),color='orange',rotation = 1,fontsize=9)\n",
    "plt.annotate(r'ET',(1.2e-1,28),color='white',fontsize=11,rotation = 0)\n",
    "plt.annotate(r'$\\frac{\\mathrm{d}V_\\mathcal{G}}{\\mathrm{d}z \\mathrm{d}|\\mu|}$',(2e-3,15),color='white',fontsize=15,rotation = 0)\n",
    "plt.annotate(r'$M=10^4 M_\\odot$',(.8,.5e-2),color='white',fontsize=10,rotation = 0)\n",
    "plt.annotate(r'$r_{\\rm src}=5 R_s$',(.8,.2e-2),color='white',fontsize=10,rotation = 0)\n",
    "# plt.plot([],'-',c='orange',label=r'$P_{\\rm det}=50\\%$')\n",
    "# plt.legend(loc='upper left')\n",
    "plt.colorbar(c)#,label=r'$P_{\\rm GSHE}$ [Gpc$^3$]')\n",
    "plt.xscale('log')\n",
    "plt.yscale('log')\n",
    "plt.xlabel(r'$|\\mu|$')\n",
    "plt.ylabel(r'$z$')\n",
    "plt.xlim(1e-3,50)\n",
    "\n",
    "plt.savefig('../plots/dV_GSHE_dzdmu.pdf',bbox_inches='tight')\n",
    "plt.savefig('../plots/dV_GSHE_dzdmu.png',bbox_inches='tight')"
   ]
  },
  {
   "cell_type": "markdown",
   "id": "ac9b2e13",
   "metadata": {},
   "source": [
    "### Plot M, rsrc"
   ]
  },
  {
   "cell_type": "code",
   "execution_count": 45,
   "id": "7eaba4f9",
   "metadata": {},
   "outputs": [
    {
     "ename": "FileNotFoundError",
     "evalue": "[Errno 2] No such file or directory: '../data/GSHE_detection_'",
     "output_type": "error",
     "traceback": [
      "\u001b[0;31m---------------------------------------------------------------------------\u001b[0m",
      "\u001b[0;31mFileNotFoundError\u001b[0m                         Traceback (most recent call last)",
      "Cell \u001b[0;32mIn[45], line 1\u001b[0m\n\u001b[0;32m----> 1\u001b[0m \u001b[38;5;28;43mopen\u001b[39;49m\u001b[43m(\u001b[49m\u001b[38;5;124;43m'\u001b[39;49m\u001b[38;5;124;43m../data/GSHE_detection_\u001b[39;49m\u001b[38;5;124;43m'\u001b[39;49m\u001b[43m)\u001b[49m\n",
      "File \u001b[0;32m~/.local/lib/python3.10/site-packages/IPython/core/interactiveshell.py:310\u001b[0m, in \u001b[0;36m_modified_open\u001b[0;34m(file, *args, **kwargs)\u001b[0m\n\u001b[1;32m    303\u001b[0m \u001b[38;5;28;01mif\u001b[39;00m file \u001b[38;5;129;01min\u001b[39;00m {\u001b[38;5;241m0\u001b[39m, \u001b[38;5;241m1\u001b[39m, \u001b[38;5;241m2\u001b[39m}:\n\u001b[1;32m    304\u001b[0m     \u001b[38;5;28;01mraise\u001b[39;00m \u001b[38;5;167;01mValueError\u001b[39;00m(\n\u001b[1;32m    305\u001b[0m         \u001b[38;5;124mf\u001b[39m\u001b[38;5;124m\"\u001b[39m\u001b[38;5;124mIPython won\u001b[39m\u001b[38;5;124m'\u001b[39m\u001b[38;5;124mt let you open fd=\u001b[39m\u001b[38;5;132;01m{\u001b[39;00mfile\u001b[38;5;132;01m}\u001b[39;00m\u001b[38;5;124m by default \u001b[39m\u001b[38;5;124m\"\u001b[39m\n\u001b[1;32m    306\u001b[0m         \u001b[38;5;124m\"\u001b[39m\u001b[38;5;124mas it is likely to crash IPython. If you know what you are doing, \u001b[39m\u001b[38;5;124m\"\u001b[39m\n\u001b[1;32m    307\u001b[0m         \u001b[38;5;124m\"\u001b[39m\u001b[38;5;124myou can use builtins\u001b[39m\u001b[38;5;124m'\u001b[39m\u001b[38;5;124m open.\u001b[39m\u001b[38;5;124m\"\u001b[39m\n\u001b[1;32m    308\u001b[0m     )\n\u001b[0;32m--> 310\u001b[0m \u001b[38;5;28;01mreturn\u001b[39;00m \u001b[43mio_open\u001b[49m\u001b[43m(\u001b[49m\u001b[43mfile\u001b[49m\u001b[43m,\u001b[49m\u001b[43m \u001b[49m\u001b[38;5;241;43m*\u001b[39;49m\u001b[43margs\u001b[49m\u001b[43m,\u001b[49m\u001b[43m \u001b[49m\u001b[38;5;241;43m*\u001b[39;49m\u001b[38;5;241;43m*\u001b[39;49m\u001b[43mkwargs\u001b[49m\u001b[43m)\u001b[49m\n",
      "\u001b[0;31mFileNotFoundError\u001b[0m: [Errno 2] No such file or directory: '../data/GSHE_detection_'"
     ]
    }
   ],
   "source": [
    " open('../data/GSHE_detection_')"
   ]
  },
  {
   "cell_type": "code",
   "execution_count": 46,
   "id": "4e844230",
   "metadata": {},
   "outputs": [
    {
     "ename": "AttributeError",
     "evalue": "module 'forecast' has no attribute 'psd_ligo'",
     "output_type": "error",
     "traceback": [
      "\u001b[0;31m---------------------------------------------------------------------------\u001b[0m",
      "\u001b[0;31mAttributeError\u001b[0m                            Traceback (most recent call last)",
      "Cell \u001b[0;32mIn[46], line 13\u001b[0m\n\u001b[1;32m      9\u001b[0m masses \u001b[38;5;241m=\u001b[39m np\u001b[38;5;241m.\u001b[39mgeomspace(\u001b[38;5;241m5e3\u001b[39m,\u001b[38;5;241m2e7\u001b[39m,\u001b[38;5;241m12\u001b[39m) \u001b[38;5;66;03m#np.array([4,5,6,7])\u001b[39;00m\n\u001b[1;32m     10\u001b[0m GSHE_vol \u001b[38;5;241m=\u001b[39m []\n\u001b[0;32m---> 13\u001b[0m psd, file \u001b[38;5;241m=\u001b[39m [fc\u001b[38;5;241m.\u001b[39mpsd_CE, fc\u001b[38;5;241m.\u001b[39mCE1_file] \u001b[38;5;28;01mif\u001b[39;00m experiment \u001b[38;5;241m==\u001b[39m \u001b[38;5;124m'\u001b[39m\u001b[38;5;124mCE\u001b[39m\u001b[38;5;124m'\u001b[39m \u001b[38;5;28;01melse\u001b[39;00m [fc\u001b[38;5;241m.\u001b[39mpsd_ET,fc\u001b[38;5;241m.\u001b[39mET_file] \u001b[38;5;28;01mif\u001b[39;00m experiment \u001b[38;5;241m==\u001b[39m \u001b[38;5;124m'\u001b[39m\u001b[38;5;124mET\u001b[39m\u001b[38;5;124m'\u001b[39m \u001b[38;5;28;01melse\u001b[39;00m [\u001b[43mfc\u001b[49m\u001b[38;5;241;43m.\u001b[39;49m\u001b[43mpsd_ligo\u001b[49m, fc\u001b[38;5;241m.\u001b[39maligo_file]\n\u001b[1;32m     14\u001b[0m zs \u001b[38;5;241m=\u001b[39m np\u001b[38;5;241m.\u001b[39mgeomspace(\u001b[38;5;241m0.01\u001b[39m,\u001b[38;5;241m60\u001b[39m,\u001b[38;5;241m30\u001b[39m) \u001b[38;5;28;01mif\u001b[39;00m experiment \u001b[38;5;129;01min\u001b[39;00m [\u001b[38;5;124m'\u001b[39m\u001b[38;5;124mCE\u001b[39m\u001b[38;5;124m'\u001b[39m,\u001b[38;5;124m'\u001b[39m\u001b[38;5;124mET\u001b[39m\u001b[38;5;124m'\u001b[39m] \u001b[38;5;28;01melse\u001b[39;00m np\u001b[38;5;241m.\u001b[39mgeomspace(\u001b[38;5;241m0.01\u001b[39m,\u001b[38;5;241m10\u001b[39m,\u001b[38;5;241m30\u001b[39m)\n\u001b[1;32m     16\u001b[0m \u001b[38;5;28;01mfor\u001b[39;00m r_src \u001b[38;5;129;01min\u001b[39;00m rsrcs:\n",
      "\u001b[0;31mAttributeError\u001b[0m: module 'forecast' has no attribute 'psd_ligo'"
     ]
    }
   ],
   "source": [
    "reload(fc)\n",
    "\n",
    "experiment = 'LIGO'\n",
    "Nloops = 'all'\n",
    "snr_th = 8 \n",
    "M_bbh = 30\n",
    "\n",
    "rsrcs = np.array([5, 7.5,10,15,20,25,30,35,40,50,60,90,120])\n",
    "masses = np.geomspace(5e3,2e7,12) #np.array([4,5,6,7])\n",
    "GSHE_vol = []\n",
    "\n",
    "\n",
    "psd, file = [fc.psd_CE, fc.CE1_file] if experiment == 'CE' else [fc.psd_ET,fc.ET_file] if experiment == 'ET' else [fc.psd_ligo, fc.aligo_file]\n",
    "zs = np.geomspace(0.01,60,30) if experiment in ['CE','ET'] else np.geomspace(0.01,10,30)\n",
    "    \n",
    "for r_src in rsrcs:\n",
    "    line = []\n",
    "    case_name = '%g_%s'%(r_src,Nloops)\n",
    "    fc.load_data('Ups_obs_mu_min_%s.npy'%case_name)\n",
    "    print(r_src,end='')\n",
    "    for M_fid in masses:\n",
    "        output = fc.GSHE_rates(M_bbh,psd, file,return_arrays=True,snr_th=snr_th,M_fid=M_fid,R0=R0,zs=zs)\n",
    "        line.append(output['GSHE_volume [Gpc^3]'])\n",
    "        print('.',end='')\n",
    "    print('')\n",
    "    GSHE_vol.append(line)\n",
    "    \n",
    "GSHE_vol = np.array(GSHE_vol)\n",
    "# test.keys()"
   ]
  },
  {
   "cell_type": "code",
   "execution_count": 47,
   "id": "ad4d9dac",
   "metadata": {},
   "outputs": [],
   "source": [
    "results = {'GSHE_vol [Gpc^3]':GSHE_vol, 'r_src (r_s)': rsrcs, 'M [M_sun]':masses}\n",
    "with open('../data/GSHE_%s_%s_%g_%g.pkl'%(experiment,Nloops,snr_th,M_bbh), 'wb') as f:\n",
    "    pickle.dump(results, f)"
   ]
  },
  {
   "cell_type": "code",
   "execution_count": 48,
   "id": "5f628613",
   "metadata": {},
   "outputs": [],
   "source": [
    "GSHE_CE = np.load(\"../data/GSHE_CE_all_8_30.pkl\", allow_pickle=True)\n",
    "GSHE_ET = np.load(\"../data/GSHE_ET_all_8_30.pkl\", allow_pickle=True)\n",
    "GSHE_LIGO = np.load(\"../data/GSHE_LIGO_all_8_30.pkl\", allow_pickle=True)"
   ]
  },
  {
   "cell_type": "markdown",
   "id": "1d3e6e5f",
   "metadata": {},
   "source": [
    "**FIX LOG SCALE FOR LABELS IN CONTOURS**"
   ]
  },
  {
   "cell_type": "code",
   "execution_count": 101,
   "id": "6c9b5d7e",
   "metadata": {},
   "outputs": [
    {
     "name": "stdout",
     "output_type": "stream",
     "text": [
      "0.000623897197082617\n"
     ]
    },
    {
     "data": {
      "image/png": "[encoded data removed]",
      "text/plain": [
       "<Figure size 345x258 with 2 Axes>"
      ]
     },
     "metadata": {},
     "output_type": "display_data"
    }
   ],
   "source": [
    "fig, ax =  plt.subplots()\n",
    "from matplotlib.colors import LogNorm\n",
    "import astropy.units as u\n",
    "import astropy.constants as c\n",
    "\n",
    "experiment = 'CE'\n",
    "var = GSHE_CE['GSHE_vol [Gpc^3]']\n",
    "masses = GSHE_CE['M [M_sun]']\n",
    "rsrcs = GSHE_CE['r_src (r_s)']\n",
    "\n",
    "minimum = max(var[var>0].min(),1e-5*var.max())\n",
    "var[var<minimum] = minimum\n",
    "print(minimum)\n",
    "levels = np.geomspace(minimum,var.max(),30) #var.min()\n",
    "norm=colors.LogNorm(vmin=minimum, vmax=var.max())\n",
    "\n",
    "\n",
    "con = ax.contourf(np.log10(masses),np.log10(rsrcs),(var),levels,norm=norm)#,rasterized=True)#, norm = LogNorm()) #locator=ticker.LogLocator(),)#,norm=norm)\n",
    "c2 = ax.contour(np.log10(masses),np.log10(rsrcs),var,[0.01,0.1,1,10],\n",
    "                colors=[(s,s,s) for s in [0.8,0.25,0.2,0.15]],linestyles=[':','-.','--','-'])\n",
    "\n",
    "ax.clabel(c2, c2.levels, inline=True, fontsize=8,fmt='%g',use_clabeltext=True,inline_spacing=3)\n",
    "\n",
    "# Create the colorbar with ticks\n",
    "cbar = fig.colorbar(con, norm=norm, label=r'$V_{\\mathcal{G}} [{\\rm Gpc}^3]$')\n",
    "cbar_ticks = np.geomspace(var.max()*.3e-4,var.max(), num=6)  # Adjust the number of ticks as needed\n",
    "cbar.set_ticks(cbar_ticks)\n",
    "cbar.set_ticklabels(['%.2f'%tick if tick>=1 else '%.2g'%tick for tick in cbar_ticks])\n",
    "\n",
    "from matplotlib import ticker\n",
    "\n",
    "@ticker.FuncFormatter\n",
    "def major_formatter_x(x, pos):\n",
    "    return f'$10^{x:.0f}$'\n",
    "\n",
    "@ticker.FuncFormatter\n",
    "def major_formatter_y(x, pos):\n",
    "    x = 10**x\n",
    "    return f'${x:.1f}$'\n",
    "\n",
    "ax.set_yticks(np.log10([5,10,20,40,80]))\n",
    "\n",
    "ax.xaxis.set_major_formatter(major_formatter_x)\n",
    "ax.yaxis.set_major_formatter(major_formatter_y)\n",
    "\n",
    "ax.set_xlim(np.log10(5e3),np.log10(1.e7)) #CAN'T DO THIS BC THE SCALE IS MESSED UP!\n",
    "ax.set_ylim(np.log10(5),np.log10(120))\n",
    "\n",
    "# factor = 1/(8*np.pi*u.Hz*u.Msun*c.G/c.c**3).decompose()\n",
    "\n",
    "# ax2 = ax.twiny()\n",
    "# ax2.plot(factor/np.log10(masses),0*masses)\n",
    "# ax2.set_xlim(factor/np.log10(masses).min(),factor/np.log10(masses).max())\n",
    "# ax2.set_xlabel(r'$f_{0}$ [Hz]')\n",
    "# ax2.set_xticks([1,0.1,0.01,1e-3])\n",
    "# ax2.xaxis.set_major_formatter(major_formatter_x)\n",
    "\n",
    "# newmasses = np.logspace(3.5,8,100)\n",
    "# ax.fill_between(np.log10(newmasses[newmasses>9e6]),np.log10(6),np.log10(12),color='red',alpha=0.5)\n",
    "# ax.fill_between(np.log10(newmasses[factor/newmasses>1]),np.log10(1),np.log10(1e3),color='black',alpha=0.2)\n",
    "\n",
    "# ax.set_xscale('log')\n",
    "# ax.set_yscale('log')\n",
    "ax.set_xlabel(r'$M [M_\\odot]$')\n",
    "ax.set_ylabel(r'$r_{\\rm src} [R_s]$')\n",
    "\n",
    "plt.savefig('../plots/GSHE_volume_%s.pdf'%experiment,bbox_inches='tight')\n",
    "plt.savefig('../plots/GSHE_volume_%s.png'%experiment,bbox_inches='tight')"
   ]
  },
  {
   "cell_type": "code",
   "execution_count": 133,
   "id": "dd16393a",
   "metadata": {},
   "outputs": [
    {
     "data": {
      "image/png": "[encoded data removed]",
      "text/plain": [
       "<Figure size 248.4x185.76 with 1 Axes>"
      ]
     },
     "metadata": {
      "needs_background": "light"
     },
     "output_type": "display_data"
    }
   ],
   "source": [
    "fig, ax =  plt.subplots()\n",
    "for v,s in zip([0.01,0.1,1,10],[':','-.','--','-']):\n",
    "    ax.plot([],s,c='k',label='%g'%v)\n",
    "    \n",
    "legend = ax.legend(loc='upper right',title=r'$V_{\\rm GSHE} [{\\rm Gpc}^3]$',fontsize=8,\n",
    "                   facecolor='red')\n",
    "frame = legend.get_frame()\n",
    "frame.set_facecolor('red')\n",
    "\n",
    "c2 = ax.contour(np.log10(masses),np.log10(rsrcs),var,[0.01,0.1,1,10],colors='lightgray',linestyles=[':','-.','--','-'])\n",
    "\n",
    "ax.clabel(c2, c2.levels, inline=True, fontsize=8,fmt='%g',use_clabeltext=True,inline_spacing=3)\n",
    "\n",
    "from matplotlib import ticker\n",
    "\n",
    "@ticker.FuncFormatter\n",
    "def major_formatter_x(x, pos):\n",
    "    return f'$10^{x:.0f}$'\n",
    "\n",
    "@ticker.FuncFormatter\n",
    "def major_formatter_y(x, pos):\n",
    "    x = 10**x\n",
    "    return f'${x:.1f}$'\n",
    "\n",
    "ax.set_yticks(np.log10([10,20,40,80]))\n",
    "\n",
    "ax.xaxis.set_major_formatter(major_formatter_x)\n",
    "ax.yaxis.set_major_formatter(major_formatter_y)\n"
   ]
  },
  {
   "cell_type": "code",
   "execution_count": 191,
   "id": "948b12ec",
   "metadata": {},
   "outputs": [
    {
     "name": "stdout",
     "output_type": "stream",
     "text": [
      "0.0008226073550804172\n"
     ]
    },
    {
     "data": {
      "text/plain": [
       "<matplotlib.collections.PolyCollection at 0x7fb0051b7ee0>"
      ]
     },
     "execution_count": 191,
     "metadata": {},
     "output_type": "execute_result"
    },
    {
     "data": {
      "image/png": "[encoded data removed]",
      "text/plain": [
       "<Figure size 248.4x185.76 with 3 Axes>"
      ]
     },
     "metadata": {
      "needs_background": "light"
     },
     "output_type": "display_data"
    }
   ],
   "source": [
    "# from matplotlib import ticker, cm\n",
    "from matplotlib.colors import LogNorm\n",
    "import astropy.units as u\n",
    "import astropy.constants as c\n",
    "\n",
    "fig, ax =  plt.subplots()\n",
    "\n",
    "experiment = 'ET'\n",
    "var = GSHE_ET['GSHE_vol [Gpc^3]']\n",
    "masses = GSHE_ET['M [M_sun]']\n",
    "rsrcs = GSHE_ET['r_src (r_s)']\n",
    "\n",
    "minimum = max(var[var>0].min(),1e-5*var.max())\n",
    "print(minimum)\n",
    "levels = np.linspace(var.min(),var.max(),30)\n",
    "# norm=colors.LogNorm(vmin=minimum, vmax=var.max())\n",
    "\n",
    "con = ax.contourf(masses,rsrcs,(var),levels)#,rasterized=True)#, norm = LogNorm()) #locator=ticker.LogLocator(),)#,norm=norm)\n",
    "c2 = ax.contour(masses,rsrcs,var,[0.01,0.1,1,10],colors='lightgray',linestyles=[':','-.','--','-'])\n",
    "\n",
    "ax.clabel(c2, c2.levels, inline=True, fontsize=10, fmt='%g', use_clabeltext=True, inline_spacing=0)\n",
    "\n",
    "# for v,s in zip([0.01,0.1,1,10],[':','-.','--','-']):\n",
    "#     ax.plot([],s,c='k',label='%g'%v)\n",
    "\n",
    "    \n",
    "fig.colorbar(con,norm=LogNorm(),extend='max',label=r'$V_{\\rm GSHE} [{\\rm Gpc}^3]$')\n",
    "\n",
    "ax.set_xlim(5e3,1.5e7)\n",
    "ax.set_ylim(5,120)\n",
    "\n",
    "\n",
    "ax.set_xscale('log')\n",
    "ax.set_yscale('log')\n",
    "ax.set_xlabel(r'$M [M_\\odot]$')\n",
    "ax.set_ylabel(r'$r_{\\rm src} [R_s]$')\n",
    "\n",
    "# ax.annotate(' last\\n migration\\n trap',(5e6,12),(1.3e6,25),color='white',\n",
    "#              arrowprops=dict(\n",
    "#                     arrowstyle='->', #connectionstyle=\"arc3,rad=-0.05\",\n",
    "#                     color=\"w\", shrinkA=5, shrinkB=5,\n",
    "#                 )\n",
    "#             )\n",
    "\n",
    "factor = 1/(8*np.pi*u.Hz*u.Msun*c.G/c.c**3).decompose()\n",
    "\n",
    "ax2 = ax.twiny()\n",
    "ax2.semilogx(factor/masses,0*masses)\n",
    "ax2.set_xlim(factor/masses.min(),factor/masses.max())\n",
    "ax2.set_xlabel(r'$f_{0}$ [Hz]')\n",
    "\n",
    "newmasses = np.logspace(3.5,8,100)\n",
    "ax.fill_between(newmasses[newmasses>9e6],10,20,color='red',alpha=0.5)\n",
    "\n",
    "ax.fill_between(newmasses[factor/newmasses>1],1,1e3,color='black',alpha=0.2)\n",
    "# ax.text(1e7,10,'last migration trap',rotation=90)\n",
    "\n",
    "# legend = ax.legend(loc='upper right',title=r'$V_{\\rm GSHE} [{\\rm Gpc}^3]$' ,fontsize=10, facecolor='white', framealpha=0.99)\n",
    "# frame = legend.get_frame()\n",
    "# frame.set_facecolor('white')\n",
    "\n",
    "# t = ax.text(1.3e7, 15, \" Last\\n Migration\\n Trap\",\n",
    "#             ha=\"center\", va=\"center\", rotation=90, size=10,\n",
    "#             bbox=dict(boxstyle=\"round,pad=0.4\", #round,rarrow\n",
    "#                       fc=\"lightblue\", ec=\"steelblue\", lw=2))\n",
    "\n",
    "# plt.savefig('../plots/GSHE_volume_%s.pdf'%experiment,bbox_inches='tight')\n",
    "# plt.savefig('../plots/GSHE_volume_%s.png'%experiment,bbox_inches='tight')"
   ]
  },
  {
   "cell_type": "code",
   "execution_count": 180,
   "id": "beca1e24",
   "metadata": {},
   "outputs": [
    {
     "data": {
      "text/latex": [
       "$8078.1259 \\; \\mathrm{Hz}$"
      ],
      "text/plain": [
       "<Quantity 8078.12585505 Hz>"
      ]
     },
     "execution_count": 180,
     "metadata": {},
     "output_type": "execute_result"
    }
   ],
   "source": [
    "(1/(8*np.pi*u.Msun*c.G/c.c**3)).to(u.Hz)"
   ]
  },
  {
   "cell_type": "code",
   "execution_count": null,
   "id": "d06f980a",
   "metadata": {},
   "outputs": [],
   "source": []
  },
  {
   "cell_type": "code",
   "execution_count": 184,
   "id": "6a136a84",
   "metadata": {},
   "outputs": [
    {
     "name": "stdout",
     "output_type": "stream",
     "text": [
      "dict_keys(['GSHE_vol [Gpc^3]', 'r_src (r_s)', 'M [M_sun]'])\n",
      "dict_keys(['GSHE_vol [Gpc^3]', 'r_src (r_s)', 'M [M_sun]'])\n",
      "dict_keys(['GSHE_vol [Gpc^3]', 'r_src (r_s)', 'M [M_sun]'])\n"
     ]
    },
    {
     "data": {
      "image/png": "[encoded data removed]",
      "text/plain": [
       "<Figure size 248.4x185.76 with 1 Axes>"
      ]
     },
     "metadata": {
      "needs_background": "light"
     },
     "output_type": "display_data"
    }
   ],
   "source": [
    "datasets, colors = [GSHE_CE,GSHE_ET,GSHE_LIGO],['blue','red','black']\n",
    "\n",
    "levels = [0.01,0.1,1,10]\n",
    "ls = [':','-.','--','-']\n",
    "\n",
    "fig, ax = plt.subplots()\n",
    "\n",
    "for d,col in zip(datasets,colors):\n",
    "    print(d.keys())\n",
    "    ax.contour(d['M [M_sun]'], d['r_src (r_s)'], d['GSHE_vol [Gpc^3]'],levels,linestyles=ls,colors=col)\n",
    "\n",
    "\n",
    "# ax.set_xlim(5e3,1.5e7)\n",
    "# ax.set_ylim(1e1,120)\n",
    "\n",
    "# plt.plot([],alpha=0.01,color='w',label=' ')\n",
    "for l,s in zip(levels,ls):\n",
    "    plt.plot([],'k'+s,label=l)\n",
    "for n, col in zip(['CE','ET','LIGO'],colors):\n",
    "    plt.plot([],'-',color=col,label=n)\n",
    "ax.legend(loc='upper right',title=r'$\\quad V_{\\mathcal{G}} [{\\rm Gpc}^3]$',fontsize=6,ncol=1,framealpha=0.5)\n",
    "\n",
    "ax.set_xscale('log')\n",
    "ax.set_yscale('log')\n",
    "ax.set_xlabel(r'$M [M_\\odot]$')\n",
    "ax.set_ylabel(r'$r_{\\rm src} [R_s]$')\n",
    "\n",
    "ax.grid(alpha=0.3,which='major')\n",
    "ax.grid(alpha=0.1,which='minor')\n",
    "\n",
    "masses = d['M [M_sun]']\n",
    "factor = 1/(8*np.pi*u.Hz*u.Msun*c.G/c.c**3).decompose()\n",
    "\n",
    "# ax2 = ax.twiny()\n",
    "# ax2.semilogx(factor/masses,0*masses)\n",
    "# ax2.set_xlim(factor/masses.min(),factor/masses.max())\n",
    "# ax2.set_xlabel(r'$f_{0}$ [Hz]')\n",
    "\n",
    "\n",
    "plt.savefig('../plots/GSHE_volume_all.pdf',bbox_inches='tight')\n",
    "plt.savefig('../plots/GSHE_volume_all.png',bbox_inches='tight')"
   ]
  },
  {
   "cell_type": "code",
   "execution_count": 516,
   "id": "7b913ea2",
   "metadata": {},
   "outputs": [
    {
     "data": {
      "text/plain": [
       "Text(0.5, 0, '$f_{10}$ [Hz]')"
      ]
     },
     "execution_count": 516,
     "metadata": {},
     "output_type": "execute_result"
    },
    {
     "data": {
      "image/png": "[encoded data removed]",
      "text/plain": [
       "<Figure size 432x288 with 2 Axes>"
      ]
     },
     "metadata": {
      "needs_background": "light"
     },
     "output_type": "display_data"
    }
   ],
   "source": [
    "fig, ax =  plt.subplots()\n",
    "\n",
    "ax.loglog(masses,masses**0)\n",
    "\n",
    "\n",
    "factor = 10/(8*np.pi*u.Hz*u.Msun*c.G/c.c**3).decompose()\n",
    "\n",
    "ax2 = ax.twiny()\n",
    "ax2.semilogx(factor/masses)\n",
    "ax2.set_xlabel(r'$f_{10}$ [Hz]')"
   ]
  },
  {
   "cell_type": "markdown",
   "id": "84c426da",
   "metadata": {
    "heading_collapsed": true
   },
   "source": [
    "### Old plots\n",
    "(reading from dictionary)"
   ]
  },
  {
   "cell_type": "code",
   "execution_count": 202,
   "id": "ac514543",
   "metadata": {
    "hidden": true
   },
   "outputs": [],
   "source": [
    "scenario = 'C-8-'\n",
    "\n",
    "rsrcs = [5,10,20,25,30,35,40,50]\n",
    "masses = np.array([4,5,6,7])\n",
    "GSHE_vol = []\n",
    "for r_src in rsrcs:\n",
    "    with open('../data/GSHE_detection_%i_all.pkl'%r_src, 'rb') as f:\n",
    "        dat = pickle.load(f)\n",
    "    GSHE_vol.append([dat[scenario+'%s'%m]['GSHE_volume [Gpc^3]'] for m in masses])\n",
    "    \n",
    "GSHE_vol = np.array(GSHE_vol)\n",
    "# test.keys()"
   ]
  },
  {
   "cell_type": "code",
   "execution_count": 203,
   "id": "bdacef4f",
   "metadata": {
    "hidden": true
   },
   "outputs": [
    {
     "name": "stdout",
     "output_type": "stream",
     "text": [
      "0.0004969238093428877\n"
     ]
    },
    {
     "data": {
      "image/png": "[encoded data removed]",
      "text/plain": [
       "<Figure size 432x288 with 2 Axes>"
      ]
     },
     "metadata": {
      "needs_background": "light"
     },
     "output_type": "display_data"
    }
   ],
   "source": [
    "var = GSHE_vol\n",
    "\n",
    "minimum = max(var[var>0].min(),1e-5*var.max())\n",
    "print(minimum)\n",
    "levels = np.linspace(var.min(),var.max(),30)\n",
    "norm=colors.LogNorm(vmin=minimum, vmax=var.max())\n",
    "\n",
    "c = plt.contourf(10**masses,rsrcs,var,levels)#,norm=norm)\n",
    "plt.contour(10**masses,rsrcs,var,[0.1,1,10],colors='lightgray',linestyles=[':','--','-'])\n",
    "\n",
    "for v,s in zip([0.1,1,10],[':','--','-']):\n",
    "    plt.plot([],s,c='k',label='%g'%v)\n",
    "    \n",
    "plt.legend(loc='upper right',title=r'$V_{\\rm GSHE} [{\\rm Gpc}^3]$')\n",
    "plt.colorbar(c)\n",
    "plt.xscale('log')\n",
    "# plt.yscale('log')"
   ]
  },
  {
   "cell_type": "code",
   "execution_count": 205,
   "id": "079595b1",
   "metadata": {
    "hidden": true
   },
   "outputs": [
    {
     "data": {
      "image/png": "[encoded data removed]",
      "text/plain": [
       "<Figure size 432x288 with 2 Axes>"
      ]
     },
     "metadata": {
      "needs_background": "light"
     },
     "output_type": "display_data"
    }
   ],
   "source": [
    "rate = 2.31/(10*GSHE_vol)\n",
    "# minimum = max(var[var>0].min(),1e-5*var.max())\n",
    "norm=colors.LogNorm(vmin=rate.min(), vmax=rate.max())\n",
    "limits = np.geomspace(rate.min(),rate.max(),100)\n",
    "c = plt.contourf(10**masses,rsrcs,2.31/GSHE_vol,limits)#,norm=norm)\n",
    "plt.colorbar(c)\n",
    "plt.xscale('log')\n",
    "# plt.yscale('log')"
   ]
  },
  {
   "cell_type": "code",
   "execution_count": null,
   "id": "0180c217",
   "metadata": {
    "hidden": true
   },
   "outputs": [],
   "source": []
  },
  {
   "cell_type": "markdown",
   "id": "f9efbc79",
   "metadata": {},
   "source": [
    "### Discarded tables"
   ]
  },
  {
   "cell_type": "code",
   "execution_count": 57,
   "id": "9ca84f01",
   "metadata": {},
   "outputs": [
    {
     "name": "stdout",
     "output_type": "stream",
     "text": [
      "Exp. & $M\\, [M_\\odot]$ & $V_{\\mathcal{G}}\\, [{\\rm Gpc}^3]$ & $z_{\\mathcal{G}}$\\\\\n",
      "\\hline\n",
      "LIGO & $10^{4}$ &  $0.09$  & $0.06$ \\\\\n",
      "  & $10^{5}$ &  $0.98\\cdot 10^{-2}$  & $0.03$ \\\\\n",
      "  & $10^{6}$ &  $0.24\\cdot 10^{-3}$  & $0.87\\cdot 10^{-2}$ \\\\\n",
      "  & $10^{7}$ &  $0.23\\cdot 10^{-6}$  & $0.86\\cdot 10^{-3}$ \\\\\n",
      "\\hline\n",
      "CE & $10^{4}$ &  $18.22$  & $0.41$ \\\\\n",
      "  & $10^{5}$ &  $2.38$  & $0.19$ \\\\\n",
      "  & $10^{6}$ &  $0.37$  & $0.10$ \\\\\n",
      "  & $10^{7}$ &  $0.26\\cdot 10^{-2}$  & $0.02$ \\\\\n",
      "\\hline\n"
     ]
    }
   ],
   "source": [
    "print(r'Exp. & $M\\, [M_\\odot]$ & $V_{\\mathcal{G}}\\, [{\\rm Gpc}^3]$ & $z_{\\mathcal{G}}$\\\\')\n",
    "print('\\hline')\n",
    "toplot = ['L-8-%i'%i for i in [4,5,6,7]]+ ['C-8-%i'%i for i in [4,5,6,7]]\n",
    "for n,k in (enumerate(toplot)):\n",
    "    pars = cases[k]\n",
    "    out = GSHE_results[k]\n",
    "    thisname = pars[0] if n in [0,4] else ' '\n",
    "    print(thisname, '& $%s$'%latex_exp(pars[3]), \n",
    "          '&  $%s$'%latex_exp(out['GSHE_volume [Gpc^3]'],exp_min=(-1,2),ndec=2), \n",
    "          ' & $%s$'%latex_exp(Vcom2z(out['GSHE_volume [Gpc^3]']),exp_min=(-1,2)),r'\\\\')\n",
    "    if n in [3]: #[2,7,10]:\n",
    "        print(r'\\hline')\n",
    "        \n",
    "print(r'\\hline')"
   ]
  },
  {
   "cell_type": "code",
   "execution_count": 30,
   "id": "389eaedc",
   "metadata": {},
   "outputs": [
    {
     "name": "stdout",
     "output_type": "stream",
     "text": [
      "Exp. & ${\\rm SNR}_{\\rm th}$ & $M_{\\rm BBH}\\, [M_\\odot]$ & $M\\, [M_\\odot]$ [name!] & $V_{\\rm GSHE}\\, [{\\rm Gpc}^3]$ & $\\dot N_{\\rm det} [{\\rm yr}^{-1}]$ & $\\dot N_{\\rm GSHE} [{\\rm yr}^{-1}]$\\\\\n",
      "\\hline\n",
      "LIGO & $8$ & $60$ & $10^{4}$ &  $0.44$  & $2.96\\cdot 10^{2}$ & $1.33\\cdot 10^{1}$ \\\\\n",
      "LIGO & $8$ & $20$ & $10^{4}$ &  $0.78\\cdot 10^{-1}$  & $3.39\\cdot 10^{1}$ & $2.34$ \\\\\n",
      "LIGO & $8$ & $3$ & $10^{4}$ &  $0.14\\cdot 10^{-2}$  & $0.47$ & $0.42\\cdot 10^{-1}$ \\\\\n",
      "LIGO & $8$ & $60$ & $10^{5}$ &  $0.40\\cdot 10^{-1}$  & $2.96\\cdot 10^{2}$ & $1.21$ \\\\\n",
      "LIGO & $8$ & $60$ & $10^{6}$ &  $0.16\\cdot 10^{-2}$  & $2.96\\cdot 10^{2}$ & $0.49\\cdot 10^{-1}$ \\\\\n",
      "LIGO & $1$ & $60$ & $10^{4}$ &  $2.48$  & $1.21\\cdot 10^{4}$ & $7.44\\cdot 10^{1}$ \\\\\n",
      "LIGO & $1$ & $60$ & $10^{5}$ &  $0.35$  & $1.21\\cdot 10^{4}$ & $1.06\\cdot 10^{1}$ \\\\\n",
      "LIGO & $1$ & $60$ & $10^{6}$ &  $0.27\\cdot 10^{-2}$  & $1.21\\cdot 10^{4}$ & $0.80\\cdot 10^{-1}$ \\\\\n",
      "\\hline\n",
      "CE & $8$ & $60$ & $10^{4}$ &  $4.97\\cdot 10^{1}$  & $2.40\\cdot 10^{4}$ & $1.49\\cdot 10^{3}$ \\\\\n",
      "CE & $8$ & $20$ & $10^{4}$ &  $2.34\\cdot 10^{1}$  & $1.45\\cdot 10^{4}$ & $7.02\\cdot 10^{2}$ \\\\\n",
      "CE & $8$ & $3$ & $10^{4}$ &  $2.24$  & $1.38\\cdot 10^{3}$ & $6.71\\cdot 10^{1}$ \\\\\n",
      "CE & $8$ & $60$ & $10^{5}$ &  $1.07\\cdot 10^{1}$  & $2.40\\cdot 10^{4}$ & $3.20\\cdot 10^{2}$ \\\\\n",
      "CE & $8$ & $60$ & $10^{6}$ &  $1.80$  & $2.40\\cdot 10^{4}$ & $5.41\\cdot 10^{1}$ \\\\\n",
      "CE & $1$ & $60$ & $10^{4}$ &  $8.06\\cdot 10^{1}$  & $3.15\\cdot 10^{4}$ & $2.42\\cdot 10^{3}$ \\\\\n",
      "CE & $1$ & $60$ & $10^{5}$ &  $2.80\\cdot 10^{1}$  & $3.15\\cdot 10^{4}$ & $8.40\\cdot 10^{2}$ \\\\\n",
      "CE & $1$ & $60$ & $10^{6}$ &  $2.51$  & $3.15\\cdot 10^{4}$ & $7.53\\cdot 10^{1}$ \\\\\n",
      "LIGO & $8$ & $60$ & $10^{7}$ &  $0.26\\cdot 10^{-5}$  & $2.96\\cdot 10^{2}$ & $0.79\\cdot 10^{-4}$ \\\\\n",
      "LIGO & $1$ & $60$ & $10^{7}$ &  $0.26\\cdot 10^{-5}$  & $1.21\\cdot 10^{4}$ & $0.79\\cdot 10^{-4}$ \\\\\n",
      "CE & $8$ & $60$ & $10^{7}$ &  $0.17\\cdot 10^{-1}$  & $2.40\\cdot 10^{4}$ & $0.52$ \\\\\n",
      "CE & $1$ & $60$ & $10^{7}$ &  $0.17\\cdot 10^{-1}$  & $3.15\\cdot 10^{4}$ & $0.52$ \\\\\n",
      "\\hline\n"
     ]
    }
   ],
   "source": [
    "### \n",
    "#table\n",
    "\n",
    "print(r'Exp. & ${\\rm SNR}_{\\rm th}$ & $M_{\\rm BBH}\\, [M_\\odot]$ & $M\\, [M_\\odot]$ [name!] & $V_{\\rm GSHE}\\, [{\\rm Gpc}^3]$ & $\\dot N_{\\rm det} [{\\rm yr}^{-1}]$ & $\\dot N_{\\rm GSHE} [{\\rm yr}^{-1}]$\\\\')\n",
    "print('\\hline')\n",
    "for n,k in enumerate(GSHE_results.keys()):\n",
    "    pars = cases[k]\n",
    "    out = GSHE_results[k]\n",
    "    print(pars[0], '& $%s$'%pars[1],  '& $%s$'%pars[2], '& $%s$'%latex_exp(pars[3]), '&  $%s$'%latex_exp(out['GSHE_volume [Gpc^3]']), ' & $%s$'%latex_exp(out['rate detection [1/yr]']), '& $%s$'%latex_exp(out['rate GSHE [1/yr]']),r'\\\\')\n",
    "    if n in [7]: #[2,7,10]:\n",
    "        print(r'\\hline')\n",
    "        \n",
    "print(r'\\hline')"
   ]
  },
  {
   "cell_type": "code",
   "execution_count": 79,
   "id": "4a3f5173",
   "metadata": {},
   "outputs": [
    {
     "ename": "KeyError",
     "evalue": "'C-1-4'",
     "output_type": "error",
     "traceback": [
      "\u001b[0;31m---------------------------------------------------------------------------\u001b[0m",
      "\u001b[0;31mKeyError\u001b[0m                                  Traceback (most recent call last)",
      "\u001b[0;32m<ipython-input-79-35262362626c>\u001b[0m in \u001b[0;36m<module>\u001b[0;34m\u001b[0m\n\u001b[1;32m      1\u001b[0m \u001b[0mmasses_v\u001b[0m \u001b[0;34m=\u001b[0m \u001b[0;34m[\u001b[0m\u001b[0;36m1e4\u001b[0m\u001b[0;34m,\u001b[0m\u001b[0;36m1e5\u001b[0m\u001b[0;34m,\u001b[0m\u001b[0;36m1e6\u001b[0m\u001b[0;34m,\u001b[0m\u001b[0;36m1e7\u001b[0m\u001b[0;34m]\u001b[0m\u001b[0;34m\u001b[0m\u001b[0;34m\u001b[0m\u001b[0m\n\u001b[1;32m      2\u001b[0m \u001b[0;34m\u001b[0m\u001b[0m\n\u001b[0;32m----> 3\u001b[0;31m \u001b[0mVC1\u001b[0m \u001b[0;34m=\u001b[0m \u001b[0;34m[\u001b[0m\u001b[0mGSHE_results\u001b[0m\u001b[0;34m[\u001b[0m\u001b[0mk\u001b[0m\u001b[0;34m]\u001b[0m\u001b[0;34m[\u001b[0m\u001b[0;34m'GSHE_volume [Gpc^3]'\u001b[0m\u001b[0;34m]\u001b[0m \u001b[0;32mfor\u001b[0m \u001b[0mk\u001b[0m \u001b[0;32min\u001b[0m \u001b[0;34m[\u001b[0m\u001b[0;34m'C-1-4'\u001b[0m\u001b[0;34m,\u001b[0m \u001b[0;34m'C-1-5'\u001b[0m\u001b[0;34m,\u001b[0m \u001b[0;34m'C-1-6'\u001b[0m\u001b[0;34m,\u001b[0m\u001b[0;34m'C-1-7'\u001b[0m\u001b[0;34m]\u001b[0m\u001b[0;34m]\u001b[0m\u001b[0;34m\u001b[0m\u001b[0;34m\u001b[0m\u001b[0m\n\u001b[0m\u001b[1;32m      4\u001b[0m \u001b[0mplt\u001b[0m\u001b[0;34m.\u001b[0m\u001b[0mloglog\u001b[0m\u001b[0;34m(\u001b[0m\u001b[0mmasses_v\u001b[0m\u001b[0;34m,\u001b[0m\u001b[0mVC1\u001b[0m\u001b[0;34m,\u001b[0m\u001b[0;34m'*--'\u001b[0m\u001b[0;34m,\u001b[0m\u001b[0mlabel\u001b[0m\u001b[0;34m=\u001b[0m\u001b[0;34m'CE, SNR>1'\u001b[0m\u001b[0;34m)\u001b[0m\u001b[0;34m\u001b[0m\u001b[0;34m\u001b[0m\u001b[0m\n\u001b[1;32m      5\u001b[0m \u001b[0;34m\u001b[0m\u001b[0m\n",
      "\u001b[0;32m<ipython-input-79-35262362626c>\u001b[0m in \u001b[0;36m<listcomp>\u001b[0;34m(.0)\u001b[0m\n\u001b[1;32m      1\u001b[0m \u001b[0mmasses_v\u001b[0m \u001b[0;34m=\u001b[0m \u001b[0;34m[\u001b[0m\u001b[0;36m1e4\u001b[0m\u001b[0;34m,\u001b[0m\u001b[0;36m1e5\u001b[0m\u001b[0;34m,\u001b[0m\u001b[0;36m1e6\u001b[0m\u001b[0;34m,\u001b[0m\u001b[0;36m1e7\u001b[0m\u001b[0;34m]\u001b[0m\u001b[0;34m\u001b[0m\u001b[0;34m\u001b[0m\u001b[0m\n\u001b[1;32m      2\u001b[0m \u001b[0;34m\u001b[0m\u001b[0m\n\u001b[0;32m----> 3\u001b[0;31m \u001b[0mVC1\u001b[0m \u001b[0;34m=\u001b[0m \u001b[0;34m[\u001b[0m\u001b[0mGSHE_results\u001b[0m\u001b[0;34m[\u001b[0m\u001b[0mk\u001b[0m\u001b[0;34m]\u001b[0m\u001b[0;34m[\u001b[0m\u001b[0;34m'GSHE_volume [Gpc^3]'\u001b[0m\u001b[0;34m]\u001b[0m \u001b[0;32mfor\u001b[0m \u001b[0mk\u001b[0m \u001b[0;32min\u001b[0m \u001b[0;34m[\u001b[0m\u001b[0;34m'C-1-4'\u001b[0m\u001b[0;34m,\u001b[0m \u001b[0;34m'C-1-5'\u001b[0m\u001b[0;34m,\u001b[0m \u001b[0;34m'C-1-6'\u001b[0m\u001b[0;34m,\u001b[0m\u001b[0;34m'C-1-7'\u001b[0m\u001b[0;34m]\u001b[0m\u001b[0;34m]\u001b[0m\u001b[0;34m\u001b[0m\u001b[0;34m\u001b[0m\u001b[0m\n\u001b[0m\u001b[1;32m      4\u001b[0m \u001b[0mplt\u001b[0m\u001b[0;34m.\u001b[0m\u001b[0mloglog\u001b[0m\u001b[0;34m(\u001b[0m\u001b[0mmasses_v\u001b[0m\u001b[0;34m,\u001b[0m\u001b[0mVC1\u001b[0m\u001b[0;34m,\u001b[0m\u001b[0;34m'*--'\u001b[0m\u001b[0;34m,\u001b[0m\u001b[0mlabel\u001b[0m\u001b[0;34m=\u001b[0m\u001b[0;34m'CE, SNR>1'\u001b[0m\u001b[0;34m)\u001b[0m\u001b[0;34m\u001b[0m\u001b[0;34m\u001b[0m\u001b[0m\n\u001b[1;32m      5\u001b[0m \u001b[0;34m\u001b[0m\u001b[0m\n",
      "\u001b[0;31mKeyError\u001b[0m: 'C-1-4'"
     ]
    }
   ],
   "source": [
    "masses_v = [1e4,1e5,1e6,1e7]\n",
    "\n",
    "VC1 = [GSHE_results[k]['GSHE_volume [Gpc^3]'] for k in ['C-1-4', 'C-1-5', 'C-1-6','C-1-7']]\n",
    "plt.loglog(masses_v,VC1,'*--',label='CE, SNR>1')\n",
    "\n",
    "VC8 = [GSHE_results[k]['GSHE_volume [Gpc^3]'] for k in ['C-8-4', 'C-8-5', 'C-8-6','C-8-7']]\n",
    "plt.loglog(masses_v,VC8,'*-',label='CE, SNR>8')\n",
    "\n",
    "\n",
    "\n",
    "VL1 = [GSHE_results[k]['GSHE_volume [Gpc^3]'] for k in ['L-1-4', 'L-1-5', 'L-1-6','L-1-7']]\n",
    "plt.loglog(masses_v,VL1,'+--',label='LIGO, SNR>1')\n",
    "\n",
    "VL8 = [GSHE_results[k]['GSHE_volume [Gpc^3]'] for k in ['L-8-4', 'L-8-5', 'L-8-6','L-8-7']]\n",
    "plt.loglog(masses_v,VL8,'+-',label='LIGO, SNR>8')\n",
    "\n",
    "\n",
    "plt.grid(alpha=0.3)\n",
    "\n",
    "plt.xlabel('$M \\, [M_\\odot]$')\n",
    "plt.ylabel(r'$V_{\\rm GSHE}$ [Gpc]')\n",
    "plt.legend()"
   ]
  },
  {
   "cell_type": "code",
   "execution_count": 50,
   "id": "5f1cf664",
   "metadata": {},
   "outputs": [
    {
     "ename": "KeyError",
     "evalue": "'C-1-4'",
     "output_type": "error",
     "traceback": [
      "\u001b[0;31m---------------------------------------------------------------------------\u001b[0m",
      "\u001b[0;31mKeyError\u001b[0m                                  Traceback (most recent call last)",
      "\u001b[0;32m<ipython-input-50-ad1a97c81161>\u001b[0m in \u001b[0;36m<module>\u001b[0;34m\u001b[0m\n\u001b[1;32m      1\u001b[0m \u001b[0mmasses_v\u001b[0m \u001b[0;34m=\u001b[0m \u001b[0;34m[\u001b[0m\u001b[0;36m1e4\u001b[0m\u001b[0;34m,\u001b[0m\u001b[0;36m1e5\u001b[0m\u001b[0;34m,\u001b[0m\u001b[0;36m1e6\u001b[0m\u001b[0;34m,\u001b[0m\u001b[0;36m1e7\u001b[0m\u001b[0;34m]\u001b[0m\u001b[0;34m\u001b[0m\u001b[0;34m\u001b[0m\u001b[0m\n\u001b[1;32m      2\u001b[0m \u001b[0;34m\u001b[0m\u001b[0m\n\u001b[0;32m----> 3\u001b[0;31m \u001b[0mVC1\u001b[0m \u001b[0;34m=\u001b[0m \u001b[0;34m[\u001b[0m\u001b[0mGSHE_results\u001b[0m\u001b[0;34m[\u001b[0m\u001b[0mk\u001b[0m\u001b[0;34m]\u001b[0m\u001b[0;34m[\u001b[0m\u001b[0;34m'GSHE_volume [Gpc^3]'\u001b[0m\u001b[0;34m]\u001b[0m \u001b[0;32mfor\u001b[0m \u001b[0mk\u001b[0m \u001b[0;32min\u001b[0m \u001b[0;34m[\u001b[0m\u001b[0;34m'C-1-4'\u001b[0m\u001b[0;34m,\u001b[0m \u001b[0;34m'C-1-5'\u001b[0m\u001b[0;34m,\u001b[0m \u001b[0;34m'C-1-6'\u001b[0m\u001b[0;34m,\u001b[0m\u001b[0;34m'C-1-7'\u001b[0m\u001b[0;34m]\u001b[0m\u001b[0;34m]\u001b[0m\u001b[0;34m\u001b[0m\u001b[0;34m\u001b[0m\u001b[0m\n\u001b[0m\u001b[1;32m      4\u001b[0m \u001b[0;31m# plt.loglog(masses_v,(VC1),'b*--',alpha=0.6)#,label='CE, SNR>1'\u001b[0m\u001b[0;34m\u001b[0m\u001b[0;34m\u001b[0m\u001b[0;34m\u001b[0m\u001b[0m\n\u001b[1;32m      5\u001b[0m \u001b[0;34m\u001b[0m\u001b[0m\n",
      "\u001b[0;32m<ipython-input-50-ad1a97c81161>\u001b[0m in \u001b[0;36m<listcomp>\u001b[0;34m(.0)\u001b[0m\n\u001b[1;32m      1\u001b[0m \u001b[0mmasses_v\u001b[0m \u001b[0;34m=\u001b[0m \u001b[0;34m[\u001b[0m\u001b[0;36m1e4\u001b[0m\u001b[0;34m,\u001b[0m\u001b[0;36m1e5\u001b[0m\u001b[0;34m,\u001b[0m\u001b[0;36m1e6\u001b[0m\u001b[0;34m,\u001b[0m\u001b[0;36m1e7\u001b[0m\u001b[0;34m]\u001b[0m\u001b[0;34m\u001b[0m\u001b[0;34m\u001b[0m\u001b[0m\n\u001b[1;32m      2\u001b[0m \u001b[0;34m\u001b[0m\u001b[0m\n\u001b[0;32m----> 3\u001b[0;31m \u001b[0mVC1\u001b[0m \u001b[0;34m=\u001b[0m \u001b[0;34m[\u001b[0m\u001b[0mGSHE_results\u001b[0m\u001b[0;34m[\u001b[0m\u001b[0mk\u001b[0m\u001b[0;34m]\u001b[0m\u001b[0;34m[\u001b[0m\u001b[0;34m'GSHE_volume [Gpc^3]'\u001b[0m\u001b[0;34m]\u001b[0m \u001b[0;32mfor\u001b[0m \u001b[0mk\u001b[0m \u001b[0;32min\u001b[0m \u001b[0;34m[\u001b[0m\u001b[0;34m'C-1-4'\u001b[0m\u001b[0;34m,\u001b[0m \u001b[0;34m'C-1-5'\u001b[0m\u001b[0;34m,\u001b[0m \u001b[0;34m'C-1-6'\u001b[0m\u001b[0;34m,\u001b[0m\u001b[0;34m'C-1-7'\u001b[0m\u001b[0;34m]\u001b[0m\u001b[0;34m]\u001b[0m\u001b[0;34m\u001b[0m\u001b[0;34m\u001b[0m\u001b[0m\n\u001b[0m\u001b[1;32m      4\u001b[0m \u001b[0;31m# plt.loglog(masses_v,(VC1),'b*--',alpha=0.6)#,label='CE, SNR>1'\u001b[0m\u001b[0;34m\u001b[0m\u001b[0;34m\u001b[0m\u001b[0;34m\u001b[0m\u001b[0m\n\u001b[1;32m      5\u001b[0m \u001b[0;34m\u001b[0m\u001b[0m\n",
      "\u001b[0;31mKeyError\u001b[0m: 'C-1-4'"
     ]
    }
   ],
   "source": [
    "masses_v = [1e4,1e5,1e6,1e7]\n",
    "\n",
    "VC1 = [GSHE_results[k]['GSHE_volume [Gpc^3]'] for k in ['C-1-4', 'C-1-5', 'C-1-6','C-1-7']]\n",
    "# plt.loglog(masses_v,(VC1),'b*--',alpha=0.6)#,label='CE, SNR>1'\n",
    "\n",
    "VC8 = [GSHE_results[k]['GSHE_volume [Gpc^3]'] for k in ['C-8-4', 'C-8-5', 'C-8-6','C-8-7']]\n",
    "plt.loglog(masses_v,(VC8),'b*-')#,label='CE, SNR>8')\n",
    "\n",
    "plt.annotate('CE',(5e5,10),c='b',fontsize=15)\n",
    "\n",
    "\n",
    "VL1 = [GSHE_results[k]['GSHE_volume [Gpc^3]'] for k in ['L-1-4', 'L-1-5', 'L-1-6','L-1-7']]\n",
    "# plt.loglog(masses_v,(VL1),'k+--',alpha=0.6)#,label='LIGO, SNR>1'\n",
    "\n",
    "VL8 = [GSHE_results[k]['GSHE_volume [Gpc^3]'] for k in ['L-8-4', 'L-8-5', 'L-8-6','L-8-7']]\n",
    "plt.loglog(masses_v,(VL8),'k+-')#,label='LIGO, SNR>8')\n",
    "\n",
    "plt.annotate('LIGO',(6e5,0.015),c='k',fontsize=15)\n",
    "\n",
    "plt.grid(alpha=0.3)\n",
    "\n",
    "plt.plot([],'k--',label='SNR>1',alpha=0.6)\n",
    "plt.plot([],'k-',label='SNR>8')\n",
    "\n",
    "plt.xlabel('$M \\, [M_\\odot]$',fontsize=13)\n",
    "plt.ylabel(r'$V_{\\rm GSHE}$ [Gpc$^3$]',fontsize=13)\n",
    "\n",
    "# plt.ylim(1e-2,1)\n",
    "# legend = plt.legend(loc='lower left',title=r'$r_{\\rm src}=10 GM$',fontsize=13)\n",
    "plt.setp(legend.get_title(),fontsize='13')\n",
    "plt.ylim(1e-4,1e2)\n",
    "\n",
    "plt.annotate('PRELIMINARY!',(1.1e4,1e-3),fontsize=14,rotation=15,color='red')\n",
    "\n",
    "# plt.savefig('../plots/GSHE_volume_talk.png')\n",
    "# plt.savefig('../plots/GSHE_volume_talk.pdf',bbox_inches='tight')"
   ]
  },
  {
   "cell_type": "code",
   "execution_count": null,
   "id": "1dde28e1",
   "metadata": {},
   "outputs": [],
   "source": []
  },
  {
   "cell_type": "code",
   "execution_count": 49,
   "id": "2dc4d763",
   "metadata": {},
   "outputs": [
    {
     "ename": "KeyError",
     "evalue": "'C-1-4'",
     "output_type": "error",
     "traceback": [
      "\u001b[0;31m---------------------------------------------------------------------------\u001b[0m",
      "\u001b[0;31mKeyError\u001b[0m                                  Traceback (most recent call last)",
      "\u001b[0;32m<ipython-input-49-7c57a1bbc293>\u001b[0m in \u001b[0;36m<module>\u001b[0;34m\u001b[0m\n\u001b[1;32m      1\u001b[0m \u001b[0mmasses_v\u001b[0m \u001b[0;34m=\u001b[0m \u001b[0;34m[\u001b[0m\u001b[0;36m1e4\u001b[0m\u001b[0;34m,\u001b[0m\u001b[0;36m1e5\u001b[0m\u001b[0;34m,\u001b[0m\u001b[0;36m1e6\u001b[0m\u001b[0;34m,\u001b[0m\u001b[0;36m1e7\u001b[0m\u001b[0;34m]\u001b[0m\u001b[0;34m\u001b[0m\u001b[0;34m\u001b[0m\u001b[0m\n\u001b[1;32m      2\u001b[0m \u001b[0;34m\u001b[0m\u001b[0m\n\u001b[0;32m----> 3\u001b[0;31m \u001b[0mVC1\u001b[0m \u001b[0;34m=\u001b[0m \u001b[0;34m[\u001b[0m\u001b[0mGSHE_results\u001b[0m\u001b[0;34m[\u001b[0m\u001b[0mk\u001b[0m\u001b[0;34m]\u001b[0m\u001b[0;34m[\u001b[0m\u001b[0;34m'GSHE_volume [Gpc^3]'\u001b[0m\u001b[0;34m]\u001b[0m \u001b[0;32mfor\u001b[0m \u001b[0mk\u001b[0m \u001b[0;32min\u001b[0m \u001b[0;34m[\u001b[0m\u001b[0;34m'C-1-4'\u001b[0m\u001b[0;34m,\u001b[0m \u001b[0;34m'C-1-5'\u001b[0m\u001b[0;34m,\u001b[0m \u001b[0;34m'C-1-6'\u001b[0m\u001b[0;34m,\u001b[0m\u001b[0;34m'C-1-7'\u001b[0m\u001b[0;34m]\u001b[0m\u001b[0;34m]\u001b[0m\u001b[0;34m\u001b[0m\u001b[0;34m\u001b[0m\u001b[0m\n\u001b[0m\u001b[1;32m      4\u001b[0m \u001b[0mplt\u001b[0m\u001b[0;34m.\u001b[0m\u001b[0mloglog\u001b[0m\u001b[0;34m(\u001b[0m\u001b[0mmasses_v\u001b[0m\u001b[0;34m,\u001b[0m\u001b[0mVcom2z\u001b[0m\u001b[0;34m(\u001b[0m\u001b[0mVC1\u001b[0m\u001b[0;34m)\u001b[0m\u001b[0;34m,\u001b[0m\u001b[0;34m'b*--'\u001b[0m\u001b[0;34m,\u001b[0m\u001b[0malpha\u001b[0m\u001b[0;34m=\u001b[0m\u001b[0;36m0.6\u001b[0m\u001b[0;34m)\u001b[0m\u001b[0;31m#,label='CE, SNR>1'\u001b[0m\u001b[0;34m\u001b[0m\u001b[0;34m\u001b[0m\u001b[0m\n\u001b[1;32m      5\u001b[0m \u001b[0;34m\u001b[0m\u001b[0m\n",
      "\u001b[0;32m<ipython-input-49-7c57a1bbc293>\u001b[0m in \u001b[0;36m<listcomp>\u001b[0;34m(.0)\u001b[0m\n\u001b[1;32m      1\u001b[0m \u001b[0mmasses_v\u001b[0m \u001b[0;34m=\u001b[0m \u001b[0;34m[\u001b[0m\u001b[0;36m1e4\u001b[0m\u001b[0;34m,\u001b[0m\u001b[0;36m1e5\u001b[0m\u001b[0;34m,\u001b[0m\u001b[0;36m1e6\u001b[0m\u001b[0;34m,\u001b[0m\u001b[0;36m1e7\u001b[0m\u001b[0;34m]\u001b[0m\u001b[0;34m\u001b[0m\u001b[0;34m\u001b[0m\u001b[0m\n\u001b[1;32m      2\u001b[0m \u001b[0;34m\u001b[0m\u001b[0m\n\u001b[0;32m----> 3\u001b[0;31m \u001b[0mVC1\u001b[0m \u001b[0;34m=\u001b[0m \u001b[0;34m[\u001b[0m\u001b[0mGSHE_results\u001b[0m\u001b[0;34m[\u001b[0m\u001b[0mk\u001b[0m\u001b[0;34m]\u001b[0m\u001b[0;34m[\u001b[0m\u001b[0;34m'GSHE_volume [Gpc^3]'\u001b[0m\u001b[0;34m]\u001b[0m \u001b[0;32mfor\u001b[0m \u001b[0mk\u001b[0m \u001b[0;32min\u001b[0m \u001b[0;34m[\u001b[0m\u001b[0;34m'C-1-4'\u001b[0m\u001b[0;34m,\u001b[0m \u001b[0;34m'C-1-5'\u001b[0m\u001b[0;34m,\u001b[0m \u001b[0;34m'C-1-6'\u001b[0m\u001b[0;34m,\u001b[0m\u001b[0;34m'C-1-7'\u001b[0m\u001b[0;34m]\u001b[0m\u001b[0;34m]\u001b[0m\u001b[0;34m\u001b[0m\u001b[0;34m\u001b[0m\u001b[0m\n\u001b[0m\u001b[1;32m      4\u001b[0m \u001b[0mplt\u001b[0m\u001b[0;34m.\u001b[0m\u001b[0mloglog\u001b[0m\u001b[0;34m(\u001b[0m\u001b[0mmasses_v\u001b[0m\u001b[0;34m,\u001b[0m\u001b[0mVcom2z\u001b[0m\u001b[0;34m(\u001b[0m\u001b[0mVC1\u001b[0m\u001b[0;34m)\u001b[0m\u001b[0;34m,\u001b[0m\u001b[0;34m'b*--'\u001b[0m\u001b[0;34m,\u001b[0m\u001b[0malpha\u001b[0m\u001b[0;34m=\u001b[0m\u001b[0;36m0.6\u001b[0m\u001b[0;34m)\u001b[0m\u001b[0;31m#,label='CE, SNR>1'\u001b[0m\u001b[0;34m\u001b[0m\u001b[0;34m\u001b[0m\u001b[0m\n\u001b[1;32m      5\u001b[0m \u001b[0;34m\u001b[0m\u001b[0m\n",
      "\u001b[0;31mKeyError\u001b[0m: 'C-1-4'"
     ]
    }
   ],
   "source": [
    "masses_v = [1e4,1e5,1e6,1e7]\n",
    "\n",
    "VC1 = [GSHE_results[k]['GSHE_volume [Gpc^3]'] for k in ['C-1-4', 'C-1-5', 'C-1-6','C-1-7']]\n",
    "plt.loglog(masses_v,Vcom2z(VC1),'b*--',alpha=0.6)#,label='CE, SNR>1'\n",
    "\n",
    "VC8 = [GSHE_results[k]['GSHE_volume [Gpc^3]'] for k in ['C-8-4', 'C-8-5', 'C-8-6','C-8-7']]\n",
    "plt.loglog(masses_v,Vcom2z(VC8),'b*-')#,label='CE, SNR>8')\n",
    "\n",
    "plt.annotate('CE',(5e5,0.3),c='b',fontsize=15)\n",
    "\n",
    "\n",
    "VL1 = [GSHE_results[k]['GSHE_volume [Gpc^3]'] for k in ['L-1-4', 'L-1-5', 'L-1-6','L-1-7']]\n",
    "plt.loglog(masses_v,Vcom2z(VL1),'k+--',alpha=0.6)#,label='LIGO, SNR>1'\n",
    "\n",
    "VL8 = [GSHE_results[k]['GSHE_volume [Gpc^3]'] for k in ['L-8-4', 'L-8-5', 'L-8-6','L-8-7']]\n",
    "plt.loglog(masses_v,Vcom2z(VL8),'k+-')#,label='LIGO, SNR>8')\n",
    "\n",
    "plt.annotate('LIGO',(6e5,0.03),c='k',fontsize=15)\n",
    "\n",
    "plt.grid(alpha=0.3)\n",
    "\n",
    "plt.plot([],'k--',label='SNR>1',alpha=0.6)\n",
    "plt.plot([],'k-',label='SNR>8')\n",
    "\n",
    "plt.xlabel('$M \\, [M_\\odot]$',fontsize=13)\n",
    "plt.ylabel(r'$z_{\\rm eff}$',fontsize=13)\n",
    "plt.ylim(1e-2,1)\n",
    "legend = plt.legend(loc='lower left',title=r'$r_{\\rm src}=10 GM$',fontsize=13)\n",
    "plt.setp(legend.get_title(),fontsize='13')\n",
    "\n",
    "# plt.savefig('../plots/GSHE_zeff_talk.png')\n",
    "# plt.savefig('../plots/GSHE_zeff_talk.pdf',bbox_inches='tight')"
   ]
  },
  {
   "cell_type": "code",
   "execution_count": 34,
   "id": "b2be46fd",
   "metadata": {},
   "outputs": [
    {
     "data": {
      "text/plain": [
       "dict_keys(['SNR_th', 'M_fid', 'psd_file', 'M_bbh', 'GSHE_volume [Gpc^3]', 'R0', 'rate GSHE [1/yr]', 'rate detection [1/yr]', 'mu_vals', 'z_vals', 'integrand', 'P_GSHE', 'p_det', 'dVzdz'])"
      ]
     },
     "execution_count": 34,
     "metadata": {},
     "output_type": "execute_result"
    }
   ],
   "source": [
    "GSHE_results['C-1-7'].keys()"
   ]
  },
  {
   "cell_type": "code",
   "execution_count": 35,
   "id": "025e44a7",
   "metadata": {},
   "outputs": [
    {
     "data": {
      "text/plain": [
       "array([[9.31402675e-02, 9.54043057e-02, 9.73103948e-02, ...,\n",
       "        1.40408477e-06, 1.40408477e-06, 1.40408477e-06],\n",
       "       [1.50222389e-01, 1.56825210e-01, 1.62391236e-01, ...,\n",
       "        1.40408477e-06, 1.40408477e-06, 1.40408477e-06],\n",
       "       [2.20774102e-01, 2.39838165e-01, 2.56013495e-01, ...,\n",
       "        1.40408477e-06, 1.40408477e-06, 1.40408477e-06],\n",
       "       ...,\n",
       "       [1.40408477e-06, 1.40408477e-06, 1.40408477e-06, ...,\n",
       "        1.40408477e-06, 1.40408477e-06, 1.40408477e-06],\n",
       "       [1.40408477e-06, 1.40408477e-06, 1.40408477e-06, ...,\n",
       "        1.40408477e-06, 1.40408477e-06, 1.40408477e-06],\n",
       "       [1.40408477e-06, 1.40408477e-06, 1.40408477e-06, ...,\n",
       "        1.40408477e-06, 1.40408477e-06, 1.40408477e-06]])"
      ]
     },
     "execution_count": 35,
     "metadata": {},
     "output_type": "execute_result"
    }
   ],
   "source": [
    "var"
   ]
  },
  {
   "cell_type": "code",
   "execution_count": 311,
   "id": "2e6698e7",
   "metadata": {},
   "outputs": [
    {
     "data": {
      "text/plain": [
       "dict_keys(['SNR_th', 'M_fid', 'psd_file', 'M_bbh', 'GSHE_volume [Gpc^3]', 'R0', 'rate GSHE [1/yr]', 'rate detection [1/yr]', 'mu_vals', 'z_vals', 'integrand', 'P_GSHE', 'p_det', 'dVzdz'])"
      ]
     },
     "execution_count": 311,
     "metadata": {},
     "output_type": "execute_result"
    }
   ],
   "source": [
    "out.keys()"
   ]
  },
  {
   "cell_type": "code",
   "execution_count": 328,
   "id": "9143eefa",
   "metadata": {},
   "outputs": [
    {
     "data": {
      "text/plain": [
       "(0.001, 50)"
      ]
     },
     "execution_count": 328,
     "metadata": {},
     "output_type": "execute_result"
    },
    {
     "data": {
      "image/png": "[encoded data removed]",
      "text/plain": [
       "<Figure size 432x288 with 1 Axes>"
      ]
     },
     "metadata": {
      "needs_background": "light"
     },
     "output_type": "display_data"
    }
   ],
   "source": [
    "out = GSHE_results['C-8-5']\n",
    "\n",
    "var = out['integrand']\n",
    "vmin = max(var[var>0].min(),1e-8*var.max())\n",
    "var[np.abs(var)<vmin] = vmin\n",
    "# var = out['P_GSHE']\n",
    "# var = out['p_det']\n",
    "mus= out['mu_vals']\n",
    "zs = out['z_vals']\n",
    "norm=colors.LogNorm(vmin=vmin, vmax=var.max())\n",
    "\n",
    "norm=colors.LogNorm(vmin=vmin, vmax=var.max())\n",
    "# c = plt.pcolor(mus,zs,var,norm=norm,rasterized=True)\n",
    "\n",
    "levels = np.array([0.1,0.9])/out['GSHE_volume [Gpc^3]']\n",
    "c2 = plt.contour(mus,zs,var,levels,linestyles=['--','-'],colors='k')\n",
    "\n",
    "plt.xscale('log')\n",
    "plt.yscale('log')\n",
    "plt.xlabel(r'$\\mu$')\n",
    "plt.ylabel(r'$z$')\n",
    "plt.xlim(1e-3,50)"
   ]
  },
  {
   "cell_type": "code",
   "execution_count": 169,
   "id": "c3f2aa96",
   "metadata": {},
   "outputs": [
    {
     "data": {
      "text/plain": [
       "Text(0, 0.5, '$z$')"
      ]
     },
     "execution_count": 169,
     "metadata": {},
     "output_type": "execute_result"
    },
    {
     "data": {
      "image/png": "[encoded data removed]",
      "text/plain": [
       "<Figure size 432x288 with 2 Axes>"
      ]
     },
     "metadata": {
      "needs_background": "light"
     },
     "output_type": "display_data"
    }
   ],
   "source": [
    "out = GSHE_results['C-1-7']\n",
    "\n",
    "var = out['integrand']\n",
    "var = out['P_GSHE']\n",
    "# var = out['p_det']\n",
    "mus= out['mu_vals']\n",
    "zs = out['z_vals']\n",
    "minimum = max(var[var>0].min(),1e-5*var.max())\n",
    "norm=colors.LogNorm(vmin=minimum, vmax=var.max())\n",
    "\n",
    "c = plt.pcolor(mus,zs,var,norm=norm,rasterized=True)\n",
    "c2 = plt.contour(mus,zs,out['p_det'],[1e-1,0.5,0.9])\n",
    "\n",
    "plt.colorbar(c,label=r'$P_{\\rm GSHE}$ [Gpc$^3$]')\n",
    "plt.xscale('log')\n",
    "plt.yscale('log')\n",
    "plt.xlabel(r'$\\mu$')\n",
    "plt.ylabel(r'$z$')\n"
   ]
  },
  {
   "cell_type": "markdown",
   "id": "63035e8e",
   "metadata": {},
   "source": [
    "### A-LIGO\n",
    "\n",
    "Result is in Gpc^3/y, need to multiply by R0!\n",
    "\n",
    "Assumes M=1e4 M_sun, R_src = 5r_s, f = 1, M_tot = 60"
   ]
  },
  {
   "cell_type": "code",
   "execution_count": 24,
   "id": "48cc8195",
   "metadata": {},
   "outputs": [],
   "source": [
    "from matplotlib import colors"
   ]
  },
  {
   "cell_type": "code",
   "execution_count": 80,
   "id": "f1f0fc36",
   "metadata": {},
   "outputs": [
    {
     "name": "stderr",
     "output_type": "stream",
     "text": [
      "/home/miguel/code/GSHE/scripts/../GSHEWaveform/forecast.py:115: RuntimeWarning: divide by zero encountered in divide\n",
      "  F_gshe = np.exp(2*np.pi*1j*f0_fid/(fs))\n",
      "/home/miguel/code/GSHE/scripts/../GSHEWaveform/forecast.py:115: RuntimeWarning: invalid value encountered in divide\n",
      "  F_gshe = np.exp(2*np.pi*1j*f0_fid/(fs))\n",
      "/home/miguel/code/GSHE/scripts/../GSHEWaveform/forecast.py:115: RuntimeWarning: invalid value encountered in exp\n",
      "  F_gshe = np.exp(2*np.pi*1j*f0_fid/(fs))\n"
     ]
    }
   ],
   "source": [
    "reload(fc)\n",
    "snr_th = 8\n",
    "M_bbh = 60\n",
    "M_fid = 1e4\n",
    "R0 = 30\n",
    "experiment='LIGO'\n",
    "\n",
    "ligo_out = fc.GSHE_rates(M_bbh,fc.psd_ligo, fc.aligo_file,return_arrays=True,snr_th=snr_th,M_fid=M_fid,R0=R0)"
   ]
  },
  {
   "cell_type": "code",
   "execution_count": 81,
   "id": "349d530f",
   "metadata": {},
   "outputs": [
    {
     "name": "stdout",
     "output_type": "stream",
     "text": [
      "aLIGO rates: total 258.542, GSHE 32.5702 [1/yr]\n"
     ]
    }
   ],
   "source": [
    "out = ligo_out\n",
    "print('aLIGO rates: total %g, GSHE %g [1/yr]'%(out['rate detection [1/yr]'], out['rate GSHE [1/yr]']))"
   ]
  },
  {
   "cell_type": "code",
   "execution_count": 82,
   "id": "9cd08f3b",
   "metadata": {},
   "outputs": [
    {
     "data": {
      "image/png": "[encoded data removed]",
      "text/plain": [
       "<Figure size 432x288 with 2 Axes>"
      ]
     },
     "metadata": {
      "needs_background": "light"
     },
     "output_type": "display_data"
    }
   ],
   "source": [
    "output = ligo_out\n",
    "var = output['integrand']\n",
    "mus= output['mu_vals']\n",
    "zs = output['z_vals']\n",
    "minimum = max(var[var>0].min(),1e-5*var.max())\n",
    "norm=colors.LogNorm(vmin=minimum, vmax=var.max())\n",
    "\n",
    "c = plt.pcolor(mus,zs,var,norm=norm,rasterized=True)\n",
    "c2 = plt.contour(mus,zs,var,[1/R0])\n",
    "plt.colorbar(c,label='GSHE volume [Gpc$^3$]')\n",
    "plt.xscale('log')\n",
    "plt.yscale('log')\n",
    "plt.xlabel(r'$\\mu$')\n",
    "plt.ylabel(r'$z$')\n",
    "\n",
    "plt.title(r'%s SNR>%g, $M_{\\rm fid}=%g, M_{\\rm BBH}=%g$'%(experiment,snr_th,M_fid,M_bbh))\n",
    "plt.grid(alpha=0.3)\n",
    "plt.savefig('../plots/GSHE_volume_%s_SNRth=%g_M_fid=%g_M_bbh=%g.png'%(experiment,snr_th,M_fid,M_bbh))"
   ]
  },
  {
   "cell_type": "code",
   "execution_count": null,
   "id": "d89b4253",
   "metadata": {},
   "outputs": [],
   "source": []
  },
  {
   "cell_type": "code",
   "execution_count": 28,
   "id": "34c9d342",
   "metadata": {},
   "outputs": [
    {
     "data": {
      "text/plain": [
       "Text(0.5, 1.0, 'aLIGO')"
      ]
     },
     "execution_count": 28,
     "metadata": {},
     "output_type": "execute_result"
    },
    {
     "data": {
      "image/png": "[encoded data removed]",
      "text/plain": [
       "<Figure size 432x288 with 2 Axes>"
      ]
     },
     "metadata": {
      "needs_background": "light"
     },
     "output_type": "display_data"
    }
   ],
   "source": [
    "output = ligo_out\n",
    "var = output['P_GSHE']\n",
    "mus= output['mu_vals']\n",
    "zs = output['z_vals']\n",
    "minimum = max(var[var>0].min(),1e-5*var.max())\n",
    "norm=colors.LogNorm(vmin=minimum, vmax=var.max())\n",
    "\n",
    "c = plt.pcolor(mus,zs,var,norm=norm)\n",
    "c2 = plt.contour(mus,zs,var,[0.1])\n",
    "plt.colorbar(c,label=r'$P_{\\rm GSHE}$')\n",
    "plt.xscale('log')\n",
    "plt.yscale('log')\n",
    "plt.xlabel(r'$\\mu$')\n",
    "plt.ylabel(r'$z$')\n",
    "plt.title('aLIGO')"
   ]
  },
  {
   "cell_type": "code",
   "execution_count": 29,
   "id": "ad9615a6",
   "metadata": {},
   "outputs": [
    {
     "data": {
      "image/png": "[encoded data removed]",
      "text/plain": [
       "<Figure size 432x288 with 2 Axes>"
      ]
     },
     "metadata": {
      "needs_background": "light"
     },
     "output_type": "display_data"
    }
   ],
   "source": [
    "output = ligo_out\n",
    "var = output['dVzdz']*output['p_det']\n",
    "mus= output['mu_vals']\n",
    "zs = output['z_vals']\n",
    "minimum = max(var[var>0].min(),1e-5*var.max())\n",
    "norm=colors.LogNorm(vmin=minimum, vmax=var.max())\n",
    "\n",
    "c = plt.pcolor(mus,zs,var,norm=norm)\n",
    "# c2 = plt.contour(mus,zs,integrand,[1])\n",
    "plt.colorbar(c,label=r'$\\frac{dV_z}{dz}P_{\\rm det}$')\n",
    "plt.xscale('log')\n",
    "plt.yscale('log')\n",
    "plt.xlabel(r'$\\mu$')\n",
    "plt.ylabel(r'$z$')\n",
    "plt.title('aLIGO')\n",
    "plt.grid(alpha=0.3)"
   ]
  },
  {
   "cell_type": "code",
   "execution_count": 30,
   "id": "88873839",
   "metadata": {},
   "outputs": [
    {
     "ename": "NameError",
     "evalue": "name 'p_det' is not defined",
     "output_type": "error",
     "traceback": [
      "\u001b[0;31m---------------------------------------------------------------------------\u001b[0m",
      "\u001b[0;31mNameError\u001b[0m                                 Traceback (most recent call last)",
      "\u001b[0;32m<ipython-input-30-9236ac767793>\u001b[0m in \u001b[0;36m<module>\u001b[0;34m\u001b[0m\n\u001b[0;32m----> 1\u001b[0;31m \u001b[0;32mfor\u001b[0m \u001b[0mx\u001b[0m \u001b[0;32min\u001b[0m \u001b[0;34m[\u001b[0m\u001b[0mp_det\u001b[0m\u001b[0;34m,\u001b[0m\u001b[0mbtmin\u001b[0m\u001b[0;34m,\u001b[0m\u001b[0mP_GSHE\u001b[0m\u001b[0;34m,\u001b[0m\u001b[0mdVzdz\u001b[0m\u001b[0;34m]\u001b[0m\u001b[0;34m:\u001b[0m\u001b[0;34m\u001b[0m\u001b[0;34m\u001b[0m\u001b[0m\n\u001b[0m\u001b[1;32m      2\u001b[0m     \u001b[0mprint\u001b[0m\u001b[0;34m(\u001b[0m\u001b[0mlen\u001b[0m\u001b[0;34m(\u001b[0m\u001b[0mx\u001b[0m\u001b[0;34m[\u001b[0m\u001b[0;34m:\u001b[0m\u001b[0;34m,\u001b[0m\u001b[0;36m0\u001b[0m\u001b[0;34m]\u001b[0m\u001b[0;34m)\u001b[0m\u001b[0;34m,\u001b[0m\u001b[0mlen\u001b[0m\u001b[0;34m(\u001b[0m\u001b[0mx\u001b[0m\u001b[0;34m[\u001b[0m\u001b[0;36m0\u001b[0m\u001b[0;34m,\u001b[0m\u001b[0;34m:\u001b[0m\u001b[0;34m]\u001b[0m\u001b[0;34m)\u001b[0m\u001b[0;34m)\u001b[0m\u001b[0;34m\u001b[0m\u001b[0;34m\u001b[0m\u001b[0m\n",
      "\u001b[0;31mNameError\u001b[0m: name 'p_det' is not defined"
     ]
    }
   ],
   "source": [
    "for x in [p_det,btmin,P_GSHE,dVzdz]:\n",
    "    print(len(x[:,0]),len(x[0,:]))"
   ]
  },
  {
   "cell_type": "markdown",
   "id": "9d9c495d",
   "metadata": {},
   "source": [
    "### CE"
   ]
  },
  {
   "cell_type": "code",
   "execution_count": 26,
   "id": "7047899d",
   "metadata": {},
   "outputs": [
    {
     "name": "stderr",
     "output_type": "stream",
     "text": [
      "/home/miguel/code/GSHE/scripts/../GSHEWaveform/forecast.py:115: RuntimeWarning: divide by zero encountered in divide\n",
      "  F_gshe = np.exp(2*np.pi*1j*f0_fid/(fs))\n",
      "/home/miguel/code/GSHE/scripts/../GSHEWaveform/forecast.py:115: RuntimeWarning: invalid value encountered in divide\n",
      "  F_gshe = np.exp(2*np.pi*1j*f0_fid/(fs))\n",
      "/home/miguel/code/GSHE/scripts/../GSHEWaveform/forecast.py:115: RuntimeWarning: invalid value encountered in exp\n",
      "  F_gshe = np.exp(2*np.pi*1j*f0_fid/(fs))\n"
     ]
    }
   ],
   "source": [
    "reload(fc)\n",
    "snr_th = 8\n",
    "M_bbh = 60\n",
    "M_fid = 1e4\n",
    "zs = np.geomspace(0.01,50,30)\n",
    "R0=R0\n",
    "experiment='CE'\n",
    "\n",
    "CE_out = fc.GSHE_rates(M_bbh,fc.CE_psd, fc.CE1_file,return_arrays=True,snr_th=snr_th,M_fid=M_fid,zs=zs,R0=R0)"
   ]
  },
  {
   "cell_type": "code",
   "execution_count": 27,
   "id": "04ae3f14",
   "metadata": {},
   "outputs": [
    {
     "name": "stdout",
     "output_type": "stream",
     "text": [
      "CE rates: total 22324.8, GSHE 3554.38 [1/yr]\n"
     ]
    }
   ],
   "source": [
    "out = CE_out\n",
    "print('CE rates: total %g, GSHE %g [1/yr]'%(out['rate detection [1/yr]'], out['rate GSHE [1/yr]']))"
   ]
  },
  {
   "cell_type": "code",
   "execution_count": 28,
   "id": "03a8315b",
   "metadata": {},
   "outputs": [
    {
     "name": "stdout",
     "output_type": "stream",
     "text": [
      "CE rates: total 22324.8, GSHE 3554.38 [1/yr]\n"
     ]
    }
   ],
   "source": [
    "out = CE_out\n",
    "print('CE rates: total %g, GSHE %g [1/yr]'%(out['rate detection [1/yr]'], out['rate GSHE [1/yr]']))"
   ]
  },
  {
   "cell_type": "code",
   "execution_count": 30,
   "id": "b74560d9",
   "metadata": {},
   "outputs": [
    {
     "data": {
      "image/png": "[encoded data removed]",
      "text/plain": [
       "<Figure size 432x288 with 2 Axes>"
      ]
     },
     "metadata": {
      "needs_background": "light"
     },
     "output_type": "display_data"
    }
   ],
   "source": [
    "output = CE_out\n",
    "var = output['integrand']\n",
    "mus= output['mu_vals']\n",
    "zs = output['z_vals']\n",
    "minimum = max(var[var>0].min(),1e-5*var.max())\n",
    "norm=colors.LogNorm(vmin=minimum, vmax=var.max())\n",
    "\n",
    "c = plt.pcolor(mus,zs,var,norm=norm,rasterized=True)\n",
    "c2 = plt.contour(mus,zs,var,[1/R0])\n",
    "plt.colorbar(c,label=r'$d V_{\\rm GSHE}/d\\mu dz$')\n",
    "plt.xscale('log')\n",
    "plt.yscale('log')\n",
    "plt.xlabel(r'$\\mu$')\n",
    "plt.ylabel(r'$z$')\n",
    "plt.title(r'%s SNR>%g, $M_{\\rm fid}=%g, M_{\\rm BBH}=%g$'%(experiment,snr_th,M_fid,M_bbh))\n",
    "plt.grid(alpha=0.3)\n",
    "plt.savefig('../plots/GSHE_volume_%s_SNRth=%g_M_fid=%g_M_bbh=%g.png'%(experiment,snr_th,M_fid,M_bbh))"
   ]
  },
  {
   "cell_type": "code",
   "execution_count": 75,
   "id": "2b3a11a9",
   "metadata": {},
   "outputs": [
    {
     "data": {
      "text/plain": [
       "Text(0.5, 1.0, 'CE')"
      ]
     },
     "execution_count": 75,
     "metadata": {},
     "output_type": "execute_result"
    },
    {
     "data": {
      "image/png": "[encoded data removed]",
      "text/plain": [
       "<Figure size 432x288 with 2 Axes>"
      ]
     },
     "metadata": {
      "needs_background": "light"
     },
     "output_type": "display_data"
    }
   ],
   "source": [
    "output = CE_out\n",
    "var = output['P_GSHE']\n",
    "mus= output['mu_vals']\n",
    "zs = output['z_vals']\n",
    "minimum = max(var[var>0].min(),1e-5*var.max())\n",
    "norm=colors.LogNorm(vmin=minimum, vmax=var.max())\n",
    "\n",
    "c = plt.pcolor(mus,zs,var,norm=norm)\n",
    "c2 = plt.contour(mus,zs,var,[0.1])\n",
    "plt.colorbar(c,label=r'$P_{\\rm GSHE}$')\n",
    "plt.xscale('log')\n",
    "plt.yscale('log')\n",
    "plt.xlabel(r'$\\mu$')\n",
    "plt.ylabel(r'$z$')\n",
    "plt.title('CE')"
   ]
  },
  {
   "cell_type": "code",
   "execution_count": 76,
   "id": "57232dd4",
   "metadata": {},
   "outputs": [
    {
     "data": {
      "text/plain": [
       "<matplotlib.lines.Line2D at 0x7f8ac52d3970>"
      ]
     },
     "execution_count": 76,
     "metadata": {},
     "output_type": "execute_result"
    },
    {
     "data": {
      "image/png": "[encoded data removed]",
      "text/plain": [
       "<Figure size 432x288 with 2 Axes>"
      ]
     },
     "metadata": {
      "needs_background": "light"
     },
     "output_type": "display_data"
    }
   ],
   "source": [
    "output = CE_out\n",
    "var = output['dVzdz']*output['p_det']\n",
    "mus= output['mu_vals']\n",
    "zs = output['z_vals']\n",
    "minimum = max(var[var>0].min(),1e-5*var.max())\n",
    "norm=colors.LogNorm(vmin=minimum, vmax=var.max())\n",
    "\n",
    "c = plt.pcolor(mus,zs,var,norm=norm)\n",
    "c2 = plt.contour(mus,zs,output['p_det'],[0.001])\n",
    "plt.colorbar(c,label=r'$\\frac{dV_z}{dz}P_{\\rm det}$')\n",
    "plt.xscale('log')\n",
    "plt.yscale('log')\n",
    "plt.xlabel(r'$\\mu$')\n",
    "plt.ylabel(r'$z$')\n",
    "plt.title('CE')\n",
    "plt.grid(alpha=0.3)\n",
    "plt.axvline(1,color='gray',alpha=0.7)\n",
    "plt.axhline(28,color='gray',alpha=0.7)"
   ]
  },
  {
   "cell_type": "code",
   "execution_count": 77,
   "id": "9207bbb1",
   "metadata": {},
   "outputs": [
    {
     "ename": "NameError",
     "evalue": "name 'cosmo' is not defined",
     "output_type": "error",
     "traceback": [
      "\u001b[0;31m---------------------------------------------------------------------------\u001b[0m",
      "\u001b[0;31mNameError\u001b[0m                                 Traceback (most recent call last)",
      "\u001b[0;32m<ipython-input-77-68a3162b82ca>\u001b[0m in \u001b[0;36m<module>\u001b[0;34m\u001b[0m\n\u001b[1;32m      1\u001b[0m \u001b[0;31m#Consistent with CE horizon, figure 2 in Chen+17\u001b[0m\u001b[0;34m\u001b[0m\u001b[0;34m\u001b[0m\u001b[0;34m\u001b[0m\u001b[0m\n\u001b[1;32m      2\u001b[0m \u001b[0;31m#seems consistent with 3G science book, where z(60Msun) ~ 30 at SNR=3, but for a detector network\u001b[0m\u001b[0;34m\u001b[0m\u001b[0;34m\u001b[0m\u001b[0;34m\u001b[0m\u001b[0m\n\u001b[0;32m----> 3\u001b[0;31m \u001b[0mcosmo\u001b[0m\u001b[0;34m.\u001b[0m\u001b[0mcomoving_distance\u001b[0m\u001b[0;34m(\u001b[0m\u001b[0;36m28\u001b[0m\u001b[0;34m)\u001b[0m\u001b[0;34m\u001b[0m\u001b[0;34m\u001b[0m\u001b[0m\n\u001b[0m",
      "\u001b[0;31mNameError\u001b[0m: name 'cosmo' is not defined"
     ]
    }
   ],
   "source": [
    "#Consistent with CE horizon, figure 2 in Chen+17\n",
    "#seems consistent with 3G science book, where z(60Msun) ~ 30 at SNR=3, but for a detector network\n",
    "cosmo.comoving_distance(28)"
   ]
  },
  {
   "cell_type": "code",
   "execution_count": 38,
   "id": "a850b74f",
   "metadata": {},
   "outputs": [
    {
     "ename": "NameError",
     "evalue": "name 'cosmo' is not defined",
     "output_type": "error",
     "traceback": [
      "\u001b[0;31m---------------------------------------------------------------------------\u001b[0m",
      "\u001b[0;31mNameError\u001b[0m                                 Traceback (most recent call last)",
      "\u001b[0;32m<ipython-input-38-1637c5a6da5b>\u001b[0m in \u001b[0;36m<module>\u001b[0;34m\u001b[0m\n\u001b[1;32m      1\u001b[0m \u001b[0mzs\u001b[0m \u001b[0;34m=\u001b[0m \u001b[0mnp\u001b[0m\u001b[0;34m.\u001b[0m\u001b[0mgeomspace\u001b[0m\u001b[0;34m(\u001b[0m\u001b[0;36m0.1\u001b[0m\u001b[0;34m,\u001b[0m\u001b[0;36m1000\u001b[0m\u001b[0;34m)\u001b[0m\u001b[0;34m\u001b[0m\u001b[0;34m\u001b[0m\u001b[0m\n\u001b[0;32m----> 2\u001b[0;31m \u001b[0mplt\u001b[0m\u001b[0;34m.\u001b[0m\u001b[0mloglog\u001b[0m\u001b[0;34m(\u001b[0m\u001b[0mzs\u001b[0m\u001b[0;34m,\u001b[0m\u001b[0mcosmo\u001b[0m\u001b[0;34m.\u001b[0m\u001b[0mdifferential_comoving_volume\u001b[0m\u001b[0;34m(\u001b[0m\u001b[0mzs\u001b[0m\u001b[0;34m)\u001b[0m\u001b[0;34m)\u001b[0m\u001b[0;34m\u001b[0m\u001b[0;34m\u001b[0m\u001b[0m\n\u001b[0m\u001b[1;32m      3\u001b[0m \u001b[0mplt\u001b[0m\u001b[0;34m.\u001b[0m\u001b[0mloglog\u001b[0m\u001b[0;34m(\u001b[0m\u001b[0mzs\u001b[0m\u001b[0;34m,\u001b[0m\u001b[0mcosmo\u001b[0m\u001b[0;34m.\u001b[0m\u001b[0mluminosity_distance\u001b[0m\u001b[0;34m(\u001b[0m\u001b[0mzs\u001b[0m\u001b[0;34m)\u001b[0m\u001b[0;34m)\u001b[0m\u001b[0;34m\u001b[0m\u001b[0;34m\u001b[0m\u001b[0m\n",
      "\u001b[0;31mNameError\u001b[0m: name 'cosmo' is not defined"
     ]
    }
   ],
   "source": [
    "zs = np.geomspace(0.1,1000)\n",
    "plt.loglog(zs,cosmo.differential_comoving_volume(zs))\n",
    "plt.loglog(zs,cosmo.luminosity_distance(zs))"
   ]
  },
  {
   "cell_type": "code",
   "execution_count": null,
   "id": "b96bf58c",
   "metadata": {},
   "outputs": [],
   "source": []
  },
  {
   "cell_type": "code",
   "execution_count": null,
   "id": "9cb12b12",
   "metadata": {},
   "outputs": [],
   "source": []
  }
 ],
 "metadata": {
  "kernelspec": {
   "display_name": "Python 3 (ipykernel)",
   "language": "python",
   "name": "python3"
  },
  "language_info": {
   "codemirror_mode": {
    "name": "ipython",
    "version": 3
   },
   "file_extension": ".py",
   "mimetype": "text/x-python",
   "name": "python",
   "nbconvert_exporter": "python",
   "pygments_lexer": "ipython3",
   "version": "3.10.12"
  }
 },
 "nbformat": 4,
 "nbformat_minor": 5
}
