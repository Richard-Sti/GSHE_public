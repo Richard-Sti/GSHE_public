{
 "cells": [
  {
   "cell_type": "code",
   "execution_count": 1,
   "id": "fdb75bc2",
   "metadata": {
    "ExecuteTime": {
     "end_time": "2022-11-02T12:10:21.466744Z",
     "start_time": "2022-11-02T12:10:21.416741Z"
    }
   },
   "outputs": [],
   "source": [
    "from os.path import join\n",
    "import numpy as np\n",
    "%matplotlib notebook\n",
    "import matplotlib.pyplot as plt\n",
    "\n",
    "import h5py\n",
    "try:\n",
    "    import GSHEWaveform\n",
    "except ModuleNotFoundError:\n",
    "    import sys\n",
    "    sys.path.append(\"../\")\n",
    "    import GSHEWaveform\n",
    "import utils\n",
    "from glob import glob\n",
    "%load_ext autoreload\n",
    "%autoreload 2\n",
    "\n",
    "import astropy.units as u\n",
    "import astropy.constants as c"
   ]
  },
  {
   "cell_type": "code",
   "execution_count": 2,
   "id": "5909a9be",
   "metadata": {
    "ExecuteTime": {
     "end_time": "2022-11-02T11:59:41.023611Z",
     "start_time": "2022-11-02T11:59:40.978545Z"
    }
   },
   "outputs": [],
   "source": [
    "%matplotlib inline"
   ]
  },
  {
   "cell_type": "markdown",
   "id": "3b9c91b8",
   "metadata": {},
   "source": [
    "## $\\beta/M$ plots\n",
    "\n",
    "$\\lambda_{\\rm eff}$ in meters\n",
    "\n",
    "**WHAT DOES p5 MEAN, WHY DOES IT GIVE STRANGE PARAMETERS!**"
   ]
  },
  {
   "cell_type": "code",
   "execution_count": 3,
   "id": "1e9081b8",
   "metadata": {
    "ExecuteTime": {
     "end_time": "2022-11-02T13:50:55.469660Z",
     "start_time": "2022-11-02T13:50:55.427941Z"
    }
   },
   "outputs": [
    {
     "name": "stdout",
     "output_type": "stream",
     "text": [
      "['liv_S200224ca_Aplus_alpha0.h5', 'liv_S190814bv_Aminus_alpha0.h5', 'liv_S190814bv_Aplus_alpha0.h5', 'liv_S191216ap_Aminus_alpha0.h5', 'liv_S200219ac_Aplus_alpha0.h5', 'liv_S190828l_Aplus_alpha0.h5', 'liv_S190924h_Aplus_alpha0.h5', 'liv_S200129m_Aminus_alpha0.h5', 'liv_S190828l_Aminus_alpha0.h5', 'liv_S200129m_Aplus_alpha0.h5', 'liv_S200208q_Aminus_alpha0.h5', 'liv_S200202ac_Aminus_alpha0.h5', 'liv_S191204r_Aplus_alpha0.h5', 'liv_S200311bg_Aminus_alpha0.h5', 'liv_S200202ac_Aplus_alpha0.h5', 'liv_S190727h_Aminus_alpha0.h5', 'liv_S200225q_Aminus_alpha0.h5', 'liv_S190915ak_Aplus_alpha0.h5', 'liv_S190910s_Aminus_alpha0.h5', 'liv_S200219ac_Aminus_alpha0.h5', 'liv_S191215w_Aminus_alpha0.h5', 'liv_S200224ca_Aminus_alpha0.h5', 'liv_S191215w_Aplus_alpha0.h5', 'liv_S200208q_Aplus_alpha0.h5', 'liv_S190707q_Aminus_alpha0.h5', 'liv_S191129u_Aplus_alpha0.h5', 'liv_S190707q_Aplus_alpha0.h5', 'liv_S190828j_Aplus_alpha0.h5', 'liv_S200311bg_Aplus_alpha0.h5', 'liv_S191222n_Aplus_alpha0.h5', 'liv_S191129u_Aminus_alpha0.h5', 'liv_S190915ak_Aminus_alpha0.h5', 'liv_S190708ap_Aminus_alpha0.h5', 'liv_S200225q_Aplus_alpha0.h5', 'liv_S190630ag_Aminus_alpha0.h5', 'liv_S191204r_Aminus_alpha0.h5', 'liv_S190706ai_Aplus_alpha0.h5', 'liv_S190727h_Aplus_alpha0.h5', 'liv_S190720a_Aminus_alpha0.h5', 'liv_S190720a_Aplus_alpha0.h5', 'liv_S191216ap_Aplus_alpha0.h5', 'liv_S190924h_Aminus_alpha0.h5', 'liv_S190728q_Aminus_alpha0.h5', 'liv_S190706ai_Aminus_alpha0.h5', 'liv_S190828j_Aminus_alpha0.h5', 'liv_S190708ap_Aplus_alpha0.h5', 'liv_S190910s_Aplus_alpha0.h5', 'liv_S190728q_Aplus_alpha0.h5', 'liv_S191222n_Aminus_alpha0.h5']\n"
     ]
    }
   ],
   "source": [
    "loaddir = \"/Users/stiskalek/Data/gshe_liv_alpha0/\"\n",
    "\n",
    "loaddir = '/home/miguel/code/notebooks/gw_data/liv_alpha0/'\n",
    "#loaddir = '/home/miguel/Dropbox/Projects/AGN_strong_field_lensing_birefringence/liv_alpha0/'\n",
    "\n",
    "files, names_all = utils.get_liv_fnames(loaddir)\n",
    "print(files)\n",
    "#files[has('plus')]"
   ]
  },
  {
   "cell_type": "code",
   "execution_count": 4,
   "id": "9eed2d1c",
   "metadata": {},
   "outputs": [
    {
     "name": "stdout",
     "output_type": "stream",
     "text": [
      "<KeysViewHDF5 ['Aplus_alpha0', 'version']>\n",
      "<KeysViewHDF5 ['approximant', 'calibration_envelope', 'config_file', 'injection_data', 'meta_data', 'posterior_samples', 'priors', 'psds', 'version']>\n",
      "<KeysViewHDF5 ['analysis', 'bayeswave', 'condor', 'data', 'datafind', 'engine', 'input', 'lalinference', 'ligo-skymap-from-samples', 'ligo-skymap-plot', 'mpi', 'paths', 'ppanalysis', 'resultspage', 'singularity', 'skyarea', 'statevector']>\n"
     ]
    }
   ],
   "source": [
    "d = h5py.File(loaddir+'liv_S190814bv_Aplus_alpha0.h5','r')\n",
    "print(d.keys())\n",
    "print(d['Aplus_alpha0'].keys())\n",
    "print(d['Aplus_alpha0']['config_file'].keys())"
   ]
  },
  {
   "cell_type": "code",
   "execution_count": 5,
   "id": "d121baf8",
   "metadata": {},
   "outputs": [
    {
     "name": "stdout",
     "output_type": "stream",
     "text": [
      "<KeysViewHDF5 ['analysis', 'bayeswave', 'condor', 'data', 'datafind', 'engine', 'input', 'lalinference', 'ligo-skymap-from-samples', 'ligo-skymap-plot', 'mpi', 'paths', 'ppanalysis', 'resultspage', 'singularity', 'skyarea', 'statevector']>\n"
     ]
    },
    {
     "data": {
      "text/plain": [
       "array([1.24605769e+22, 1.04829540e+20, 5.31716382e+26, ...,\n",
       "       5.58350068e+25, 1.82240814e+26, 6.04349073e+18])"
      ]
     },
     "execution_count": 5,
     "metadata": {},
     "output_type": "execute_result"
    }
   ],
   "source": [
    "print(d['Aplus_alpha0']['config_file'].keys())\n",
    "s = np.copy(d['Aplus_alpha0']['posterior_samples'])\n",
    "\n",
    "s['luminosity_distance']*10**s[\"log10lambda_eff\"]"
   ]
  },
  {
   "cell_type": "code",
   "execution_count": null,
   "id": "552a1ac3",
   "metadata": {},
   "outputs": [],
   "source": []
  },
  {
   "cell_type": "code",
   "execution_count": 6,
   "id": "b1830448",
   "metadata": {},
   "outputs": [
    {
     "data": {
      "text/plain": [
       "Text(0.5, 1.0, 'who would do this to their data?')"
      ]
     },
     "execution_count": 6,
     "metadata": {},
     "output_type": "execute_result"
    },
    {
     "data": {
      "image/png": "[encoded data removed]",
      "text/plain": [
       "<Figure size 432x288 with 1 Axes>"
      ]
     },
     "metadata": {
      "needs_background": "light"
     },
     "output_type": "display_data"
    }
   ],
   "source": [
    "plt.hist2d(s['luminosity_distance'],s['log10lambda_eff'],[30,30])\n",
    "plt.xlabel(r'$D_L$')\n",
    "plt.ylabel(r'$log_{10}(\\lambda_{\\rm eff})$')\n",
    "plt.title('who would do this to their data?')"
   ]
  },
  {
   "cell_type": "code",
   "execution_count": 7,
   "id": "8439b870",
   "metadata": {},
   "outputs": [
    {
     "data": {
      "text/latex": [
       "$2.5539801 \\times 10^{-45} \\; \\mathrm{eV^{2}}$"
      ],
      "text/plain": [
       "<Quantity 2.55398007e-45 eV2>"
      ]
     },
     "execution_count": 7,
     "metadata": {},
     "output_type": "execute_result"
    }
   ],
   "source": [
    "l_eff = 10**s['log10lambda_eff']\n",
    "l_eff_typical = np.quantile(l_eff,0.05)*u.m\n",
    "DL_typical = np.median(s[\"luminosity_distance\"])*u.Mpc\n",
    "A0_typical = ((c.h*c.c/(l_eff_typical)).to(u.eV))**2\n",
    "A0_typical"
   ]
  },
  {
   "cell_type": "code",
   "execution_count": 8,
   "id": "ff003899",
   "metadata": {},
   "outputs": [
    {
     "data": {
      "text/latex": [
       "$0.026359374 \\; \\mathrm{}$"
      ],
      "text/plain": [
       "<Quantity 0.02635937>"
      ]
     },
     "execution_count": 8,
     "metadata": {},
     "output_type": "execute_result"
    }
   ],
   "source": [
    "#beta_4 = (1e4GM_sun) A0 D_L\n",
    "\n",
    "def beta_from_chains(samples, M=1e4):\n",
    "    ''' return posteriors for beta\n",
    "        s -> chains\n",
    "        M -> central BH mass\n",
    "    '''\n",
    "\n",
    "    A0 = GSHEWaveform.A0_from_sample(\n",
    "            10**samples[\"log10lambda_eff\"], samples[\"redshift\"],\n",
    "            samples[\"luminosity_distance\"])*(u.peV/(c.c*c.h))**2\n",
    "    return (M*samples['luminosity_distance']*u.Mpc*A0*(c.G*u.Msun/c.c**2)).decompose()\n",
    "\n",
    "beta_4 = beta_from_chains(s)\n",
    "np.quantile(beta_4,0.9)"
   ]
  },
  {
   "cell_type": "code",
   "execution_count": 9,
   "id": "e7b3abb6",
   "metadata": {},
   "outputs": [
    {
     "name": "stdout",
     "output_type": "stream",
     "text": [
      "beta /GM\n"
     ]
    },
    {
     "data": {
      "text/latex": [
       "$4.5449952 \\; \\mathrm{\\frac{1}{s}}$"
      ],
      "text/plain": [
       "<Quantity 4.54499517 1 / s>"
      ]
     },
     "execution_count": 9,
     "metadata": {},
     "output_type": "execute_result"
    }
   ],
   "source": [
    "print('beta /GM')\n",
    "((A0_typical*(DL_typical)/c.c**1/c.h**2)).decompose()"
   ]
  },
  {
   "cell_type": "code",
   "execution_count": 10,
   "id": "08d04517",
   "metadata": {},
   "outputs": [
    {
     "name": "stdout",
     "output_type": "stream",
     "text": [
      "beta max (M/1e4 Msun)\n"
     ]
    },
    {
     "data": {
      "text/latex": [
       "$0.22386333 \\; \\mathrm{}$"
      ],
      "text/plain": [
       "<Quantity 0.22386333>"
      ]
     },
     "execution_count": 10,
     "metadata": {},
     "output_type": "execute_result"
    }
   ],
   "source": [
    "print('beta max (M/1e4 Msun)')\n",
    "(1e4*A0_typical*(DL_typical)/c.c**2/c.h**2*c.G*u.solMass/c.c**2).decompose()"
   ]
  },
  {
   "cell_type": "code",
   "execution_count": 11,
   "id": "c2baceda",
   "metadata": {},
   "outputs": [
    {
     "name": "stdout",
     "output_type": "stream",
     "text": [
      "beta/GM max (dimensionless)\n"
     ]
    },
    {
     "data": {
      "text/latex": [
       "$5.4998101 \\times 10^{-119} \\; \\mathrm{m^{2}\\,kg}$"
      ],
      "text/plain": [
       "<Quantity 5.4998101e-119 kg m2>"
      ]
     },
     "execution_count": 11,
     "metadata": {},
     "output_type": "execute_result"
    }
   ],
   "source": [
    "print('beta/GM max (dimensionless)')\n",
    "((A0_typical*(DL_typical))*c.G/c.c**6).decompose()"
   ]
  },
  {
   "cell_type": "code",
   "execution_count": 12,
   "id": "7b5beab0",
   "metadata": {},
   "outputs": [
    {
     "data": {
      "text/latex": [
       "$5.0536918 \\times 10^{-23} \\; \\mathrm{\\frac{1}{m}}$"
      ],
      "text/plain": [
       "<Quantity 5.05369179e-23 1 / m>"
      ]
     },
     "execution_count": 12,
     "metadata": {},
     "output_type": "execute_result"
    }
   ],
   "source": [
    "((c.h*c.c/(l_eff_typical*u.m))/u.eV).decompose()"
   ]
  },
  {
   "cell_type": "code",
   "execution_count": null,
   "id": "a3090b9a",
   "metadata": {},
   "outputs": [],
   "source": []
  },
  {
   "cell_type": "code",
   "execution_count": 13,
   "id": "f18ee57b",
   "metadata": {},
   "outputs": [
    {
     "data": {
      "text/latex": [
       "$-7.6576038 \\times 10^{-9} \\; \\mathrm{}$"
      ],
      "text/plain": [
       "<Quantity -7.65760383e-09>"
      ]
     },
     "execution_count": 13,
     "metadata": {},
     "output_type": "execute_result"
    }
   ],
   "source": [
    "#combine plots\n",
    "d_both = [h5py.File(loaddir+'liv_S190814bv_A'+x+'_alpha0.h5','r') for x in ['minus','plus']]\n",
    "\n",
    "sm, sp = [np.copy(d_both[i]['A'+s+'_alpha0']['posterior_samples']) for i,s in enumerate(['min','plus'])]\n",
    "\n",
    "bt4_m, bt4_p = -beta_from_chains(sm), beta_from_chains(sp)\n",
    "\n",
    "# #extract the extrema\n",
    "# limit = 0.\n",
    "# low = np.quantile(bt4_m,limit)\n",
    "# hi = np.quantile(bt4_p,1-limit)\n",
    "#bt4 = np.concatenate((bt4_m[bt4_m>low],bt4_p[bt4_p<hi]))\n",
    "bt4 = np.concatenate((bt4_m,bt4_p))\n",
    "bt4[0]"
   ]
  },
  {
   "cell_type": "code",
   "execution_count": 14,
   "id": "00130eec",
   "metadata": {},
   "outputs": [
    {
     "data": {
      "text/latex": [
       "$[-0.0072826547,~0.032328381] \\; \\mathrm{}$"
      ],
      "text/plain": [
       "<Quantity [-0.00728265,  0.03232838]>"
      ]
     },
     "execution_count": 14,
     "metadata": {},
     "output_type": "execute_result"
    }
   ],
   "source": [
    "np.quantile(bt4,[.05,.95])\n",
    "#plt.hist(np.abs(bt4_m),bt4_p)"
   ]
  },
  {
   "cell_type": "code",
   "execution_count": 15,
   "id": "ca9e3fa0",
   "metadata": {},
   "outputs": [],
   "source": [
    "import seaborn as sns\n",
    "from matplotlib import ticker as mticker"
   ]
  },
  {
   "cell_type": "code",
   "execution_count": 16,
   "id": "137ff5ad",
   "metadata": {},
   "outputs": [
    {
     "data": {
      "text/plain": [
       "(<Quantity -0.02279851>, <Quantity 0.52715033>)"
      ]
     },
     "execution_count": 16,
     "metadata": {},
     "output_type": "execute_result"
    }
   ],
   "source": [
    "bt4.mean(), bt4.std()"
   ]
  },
  {
   "cell_type": "code",
   "execution_count": 17,
   "id": "00cce6a3",
   "metadata": {},
   "outputs": [
    {
     "data": {
      "image/png": "[encoded data removed]",
      "text/plain": [
       "<Figure size 432x288 with 1 Axes>"
      ]
     },
     "metadata": {
      "needs_background": "light"
     },
     "output_type": "display_data"
    }
   ],
   "source": [
    "fig, ax = plt.subplots()\n",
    "\n",
    "bt4_new = bt4[np.abs(bt4)<1]\n",
    "\n",
    "#low,hi = np.quantile(bt4,[0.05,0.95])\n",
    "#bt4_new = bt4[np.where(bt4>low and bt4<hi)]\n",
    "\n",
    "sns.violinplot([bt4_new],showmeans=False, vert=True, showextrema=False,quantiles=[[0.05,.95] for i in [1]],widths=1,s=3,ax=ax)\n",
    "\n",
    "ax.set_xscale('symlog')\n",
    "# ax.yaxis.set_major_formatter(mticker.StrMethodFormatter(\"$10^{{{x:.0f}}}$\"))\n",
    "# ymin, ymax = ax.get_xlim()\n",
    "# tick_range = np.arange(np.floor(ymin), ymax,10)\n",
    "# ax.xaxis.set_ticks(tick_range)\n",
    "# ax.xaxis.set_ticks([np.log10(x) for p in tick_range for x in np.linspace(10 ** p, 10 ** (p + 1), 10)], minor=True)\n",
    "# plt.tight_layout()\n",
    "plt.show()"
   ]
  },
  {
   "cell_type": "markdown",
   "id": "f2e0e599",
   "metadata": {},
   "source": [
    "## Violin plots"
   ]
  },
  {
   "cell_type": "code",
   "execution_count": 18,
   "id": "7542c009",
   "metadata": {},
   "outputs": [],
   "source": [
    "#importlib.reload(utils)\n",
    "\n",
    "beta_over_M_raw = []\n",
    "\n",
    "names = []\n",
    "file_names = []\n",
    "for i, file in enumerate(files):\n",
    "    btOm = utils.beta_over_M_from_liv_samples(join(loaddir, file))\n",
    "    if btOm is not None:\n",
    "        beta_over_M_raw.append(btOm)\n",
    "        names.append(names_all[i])\n",
    "        file_names.append(file)\n",
    "\n",
    "\n",
    "\n",
    "sort = np.argsort(names)\n",
    "names = [names[i] for i in sort]\n",
    "file_names = [file_names[i] for i in sort]\n",
    "beta_over_M_raw = [beta_over_M_raw[i] for i in sort]\n",
    "\n",
    "#print(beta_over_M)"
   ]
  },
  {
   "cell_type": "code",
   "execution_count": 19,
   "id": "8f559cb3",
   "metadata": {},
   "outputs": [
    {
     "data": {
      "text/latex": [
       "$\\mathrm{7.9208417 \\times 10^{-40}\\,\\frac{m^{5}\\,kg^{2}}{s^{4}}}$"
      ],
      "text/plain": [
       "Unit(\"7.92084e-40 kg2 m5 / s4\")"
      ]
     },
     "execution_count": 19,
     "metadata": {},
     "output_type": "execute_result"
    }
   ],
   "source": [
    "#print(beta_over_M)\n",
    "from astropy import units as u\n",
    "from astropy import constants as c\n",
    "(u.Mpc*u.peV**2).decompose()"
   ]
  },
  {
   "cell_type": "markdown",
   "id": "bfb530f8",
   "metadata": {},
   "source": [
    "**Notes:**\n",
    "* 90% and 95\\% quantiles are very different!"
   ]
  },
  {
   "cell_type": "code",
   "execution_count": 30,
   "id": "c76cad4c",
   "metadata": {},
   "outputs": [],
   "source": [
    "d = h5py.File(loaddir+'liv_S191129u_Aminus_alpha0.h5','r')"
   ]
  },
  {
   "cell_type": "code",
   "execution_count": 48,
   "id": "01d2b315",
   "metadata": {},
   "outputs": [
    {
     "name": "stdout",
     "output_type": "stream",
     "text": [
      "<KeysViewHDF5 ['approximant', 'calibration_envelope', 'config_file', 'injection_data', 'meta_data', 'posterior_samples', 'priors', 'psds', 'version']>\n"
     ]
    },
    {
     "data": {
      "text/plain": [
       "array([0.11868498, 0.17521545, 0.1863183 , ..., 0.0964934 , 0.1713799 ,\n",
       "       0.09595908])"
      ]
     },
     "execution_count": 48,
     "metadata": {},
     "output_type": "execute_result"
    }
   ],
   "source": [
    "print(d['liv_S191129u_Aminus_dalpha0'].keys())\n",
    "d['liv_S191129u_Aminus_dalpha0']['posterior_samples']['redshift']"
   ]
  },
  {
   "cell_type": "code",
   "execution_count": 27,
   "id": "d624fa95",
   "metadata": {},
   "outputs": [
    {
     "data": {
      "text/plain": [
       "{'S190706ai': [2, 1],\n",
       " 'S190707q': [3, 4],\n",
       " 'S190708ap': [6, 5],\n",
       " 'S190720a': [8, 7],\n",
       " 'S190727h': [9, 10],\n",
       " 'S190728q': [11, 12],\n",
       " 'S190814bv': [13, 14],\n",
       " 'S190828j': [15, 16],\n",
       " 'S190910s': [17, 18],\n",
       " 'S190915ak': [19, 20],\n",
       " 'S190924h': [22, 21],\n",
       " 'S191129u': [23, 24],\n",
       " 'S191204r': [25, 26],\n",
       " 'S191215w': [28, 27],\n",
       " 'S191216ap': [29, 30],\n",
       " 'S191222n': [31, 32],\n",
       " 'S200129m': [34, 33],\n",
       " 'S200208q': [36, 35],\n",
       " 'S200219ac': [37, 38],\n",
       " 'S200224ca': [39, 40],\n",
       " 'S200225q': [41, 42],\n",
       " 'S200311bg': [44, 43]}"
      ]
     },
     "execution_count": 27,
     "metadata": {},
     "output_type": "execute_result"
    }
   ],
   "source": [
    "master_dict = {n:[-1,-1] for n in names}\n",
    "sign = ['+' if 'plus' in f else '-' for f in file_names]\n",
    "for i,n in enumerate(names):\n",
    "    if sign[i] == '-':\n",
    "        master_dict[n][0]=i\n",
    "    if sign[i] == '+':\n",
    "        master_dict[n][1]=i\n",
    "\n",
    "# for n in master_dict:\n",
    "#     if -1 in master_dict[n]:\n",
    "#         del(master_dict[n])\n",
    "del(master_dict['S190630ag'])\n",
    "master_dict"
   ]
  },
  {
   "cell_type": "code",
   "execution_count": 47,
   "id": "a73556de",
   "metadata": {},
   "outputs": [],
   "source": [
    "from GSHEWaveform import forecast as fc"
   ]
  },
  {
   "cell_type": "code",
   "execution_count": 74,
   "id": "19ef35c0",
   "metadata": {},
   "outputs": [
    {
     "name": "stdout",
     "output_type": "stream",
     "text": [
      "comparing with 90% cl with mismatch for SNR_factor=1\n",
      "Event \t\t sign \t beta (chains) \t beta (mismatch) \t chains/mismatch\n",
      "S190630ag \t - \t 2.416765e-02 \t 3.160420e-02 \t\t 0.765\n",
      "S190706ai \t + \t 2.654872e-01 \t 1.520962e-01 \t\t 1.75\n",
      "S190706ai \t - \t 2.351810e-02 \t 1.541049e-01 \t\t 0.153\n",
      "S190707q \t - \t 1.519931e+00 \t 4.560523e-02 \t\t 33.3\n",
      "S190707q \t + \t 2.948434e-02 \t 4.474256e-02 \t\t 0.659\n",
      "S190708ap \t + \t 3.735109e-02 \t 3.880040e-02 \t\t 0.963\n",
      "S190708ap \t - \t 1.657553e-01 \t 3.879162e-02 \t\t 4.27\n",
      "S190720a \t + \t 6.622339e-02 \t 4.406920e-02 \t\t 1.5\n",
      "S190720a \t - \t 6.780800e-02 \t 4.410441e-02 \t\t 1.54\n",
      "S190727h \t - \t 4.235074e-02 \t 7.595387e-02 \t\t 0.558\n",
      "S190727h \t + \t 3.477655e-02 \t 7.514608e-02 \t\t 0.463\n",
      "S190728q \t - \t 4.788154e-02 \t 5.197938e-02 \t\t 0.921\n",
      "S190728q \t + \t 7.807855e-02 \t 5.173242e-02 \t\t 1.51\n",
      "S190814bv \t - \t 1.000925e-02 \t 3.108911e-02 \t\t 0.322\n",
      "S190814bv \t + \t 2.635937e-02 \t 3.104442e-02 \t\t 0.849\n",
      "S190828j \t - \t 9.368852e-02 \t 5.978151e-02 \t\t 1.57\n",
      "S190828j \t + \t 1.539801e-02 \t 5.952025e-02 \t\t 0.259\n",
      "S190910s \t - \t 7.498524e-02 \t 5.062361e-02 \t\t 1.48\n",
      "S190910s \t + \t 9.275898e-03 \t 5.066391e-02 \t\t 0.183\n",
      "S190915ak \t - \t 8.571662e-02 \t 4.852208e-02 \t\t 1.77\n",
      "S190915ak \t + \t 1.668573e-02 \t 4.890342e-02 \t\t 0.341\n",
      "S190924h \t + \t 1.166461e+00 \t 4.697635e-02 \t\t 24.8\n",
      "S190924h \t - \t 3.652031e-02 \t 4.732987e-02 \t\t 0.772\n",
      "S191129u \t - \t 9.882861e-02 \t 5.223027e-02 \t\t 1.89\n",
      "S191129u \t + \t 1.185500e-01 \t 5.127186e-02 \t\t 2.31\n",
      "S191204r \t - \t 1.017965e-02 \t 3.613298e-02 \t\t 0.282\n",
      "S191204r \t + \t 3.196849e-02 \t 3.552397e-02 \t\t 0.9\n",
      "S191215w \t + \t 1.368592e-02 \t 6.138917e-02 \t\t 0.223\n",
      "S191215w \t - \t 8.119953e-02 \t 6.170565e-02 \t\t 1.32\n",
      "S191216ap \t - \t 1.215664e-02 \t 2.334584e-02 \t\t 0.521\n",
      "S191216ap \t + \t 2.963064e-01 \t 2.295933e-02 \t\t 12.9\n",
      "S191222n \t - \t 8.828158e-02 \t 8.002539e-02 \t\t 1.1\n",
      "S191222n \t + \t 1.351822e-02 \t 7.969809e-02 \t\t 0.17\n",
      "S200129m \t + \t 1.148064e-01 \t 2.718752e-02 \t\t 4.22\n",
      "S200129m \t - \t 9.219537e-03 \t 2.817897e-02 \t\t 0.327\n",
      "S200208q \t + \t 1.576631e-02 \t 6.057838e-02 \t\t 0.26\n",
      "S200208q \t - \t 3.807473e-02 \t 6.118688e-02 \t\t 0.622\n",
      "S200219ac \t - \t 8.014419e-01 \t 9.283721e-02 \t\t 8.63\n",
      "S200219ac \t + \t 1.366864e-02 \t 9.189488e-02 \t\t 0.149\n",
      "S200224ca \t - \t 3.653790e-02 \t 4.488012e-02 \t\t 0.814\n",
      "S200224ca \t + \t 1.604960e-02 \t 4.464377e-02 \t\t 0.36\n",
      "S200225q \t - \t 3.375023e+00 \t 4.348936e-02 \t\t 77.6\n",
      "S200225q \t + \t 1.717231e-02 \t 4.156039e-02 \t\t 0.413\n",
      "S200311bg \t + \t 1.155867e-02 \t 3.315303e-02 \t\t 0.349\n",
      "S200311bg \t - \t 3.723827e-02 \t 3.322498e-02 \t\t 1.12\n"
     ]
    }
   ],
   "source": [
    "factor = (u.peV**2*u.Mpc/c.c**2/c.h**2*c.G*u.solMass/c.c**2).decompose()\n",
    "beta_1Msun = [bt*float(factor) for bt in beta_over_M_raw]\n",
    "scale = 1e4\n",
    "sign = ['+' if 'plus' in f else '-' for f in file_names]\n",
    "\n",
    "print('comparing with 90% cl with mismatch for SNR_factor=1')\n",
    "\n",
    "\n",
    "print('Event \\t\\t sign \\t beta (chains) \\t beta (mismatch) \\t chains/mismatch')\n",
    "\n",
    "for i,name in enumerate(file_names):\n",
    "    d = h5py.File(loaddir+name,'r')\n",
    "#     print(d.keys())\n",
    "    \n",
    "    keys = list(d.keys())\n",
    "    key = keys['Aminus' in keys or 'Aplus' in keys]\n",
    "    if not 'posterior_samples' in d[key].keys():\n",
    "        key = keys[1]\n",
    "#     if 'posterior_samples' in d[key].keys():\n",
    "    poster = np.copy(d[key]['posterior_samples'])\n",
    "#     dL = np.quantile(poster['luminosity_distance'],[0.05,0.5,.95])    \n",
    "    Mtot = np.quantile(poster['mass_1']+poster['mass_2'],[0.05,0.5,.95])\n",
    "    \n",
    "    #compute beta from the mismatch\n",
    "    q = np.quantile(poster['mass_ratio'],[0.05,0.5,.95])\n",
    "    z = np.quantile(poster['redshift'],[0.05,0.5,0.95])\n",
    "    beta_mismatch = fc.beta_min(Mtot[1], z[1], q[1], SNR_factor = 1,\n",
    "             M_fid = 1e4, bt_fid = 0.1)\n",
    "\n",
    "    \n",
    "    s = 1 if sign[i] == '+' else -1\n",
    "    bt = beta_1Msun[i]\n",
    "    bt_chain = (np.quantile(scale*bt,0.9))\n",
    "#     print(names[i],'\\t %f'%(dL[1]), '\\t %f'%(Mtot[1]), '\\t %e'%(s*np.quantile(scale*bt,0.9)))\n",
    "    print(names[i],'\\t', sign[i],'\\t %e'%bt_chain,'\\t %e'%(beta_mismatch),'\\t\\t %.3g'%(bt_chain/beta_mismatch))\n",
    "\n",
    "    \n",
    "#     else:\n",
    "#         key = keys[1]\n",
    "#         print(name, d[key].keys())\n"
   ]
  },
  {
   "cell_type": "code",
   "execution_count": 79,
   "id": "69e5bbc0",
   "metadata": {},
   "outputs": [
    {
     "data": {
      "text/plain": [
       "<module 'GSHEWaveform.forecast' from '/home/miguel/code/GSHE/scripts/../GSHEWaveform/forecast.py'>"
      ]
     },
     "execution_count": 79,
     "metadata": {},
     "output_type": "execute_result"
    }
   ],
   "source": [
    "from importlib import reload\n",
    "reload(fc)"
   ]
  },
  {
   "cell_type": "code",
   "execution_count": 91,
   "id": "953e3aba",
   "metadata": {},
   "outputs": [
    {
     "name": "stdout",
     "output_type": "stream",
     "text": [
      "[array(0.00073186), array(0.00202483)]\n"
     ]
    },
    {
     "data": {
      "text/plain": [
       "[array(0.00154885), array(0.00158679)]"
      ]
     },
     "execution_count": 91,
     "metadata": {},
     "output_type": "execute_result"
    }
   ],
   "source": [
    "print([fc.beta_min(Mtot[1], z[1], q[1], SNR_factor = 1,\n",
    "             M_fid = 1e4, bt_fid = 0.1,fmin=f,psd_fun=fc.psd_ET) for f in [1,10]])\n",
    "\n",
    "[fc.beta_min(Mtot[1], z[1], q[1], SNR_factor = 1,\n",
    "             M_fid = 1e4, bt_fid = 0.1,fmin=f,psd_fun=fc.psd_CE) for f in [1,10]]"
   ]
  },
  {
   "cell_type": "code",
   "execution_count": null,
   "id": "532db679",
   "metadata": {},
   "outputs": [],
   "source": [
    "factor = (u.peV**2*u.Mpc/c.c**2/c.h**2*c.G*u.solMass/c.c**2).decompose()\n",
    "beta_1Msun = [bt*float(factor) for bt in beta_over_M_raw]\n",
    "scale = 1e4\n",
    "sign = ['+' if 'plus' in f else '-' for f in file_names]\n",
    "\n",
    "\n",
    "print('Event \\t\\t DL [Mpc] \\t Mtot [Msun] \\t beta [10^4Modot]')\n",
    "\n",
    "for i,name in enumerate(file_names):\n",
    "    d = h5py.File(loaddir+name,'r')\n",
    "#     print(d.keys())\n",
    "    \n",
    "    keys = list(d.keys())\n",
    "    key = keys['Aminus' in keys or 'Aplus' in keys]\n",
    "    if not 'posterior_samples' in d[key].keys():\n",
    "        key = keys[1]\n",
    "#     if 'posterior_samples' in d[key].keys():\n",
    "    poster = np.copy(d[key]['posterior_samples'])\n",
    "    dL = np.quantile(poster['luminosity_distance'],[0.05,0.5,.95])    \n",
    "    Mtot = np.quantile(poster['mass_1']+poster['mass_2'],[0.05,0.5,.95])\n",
    "    \n",
    "    #compute beta from the mismatch\n",
    "    q = np.quantile(poster['mass_ratio'],[0.05,0.5,.95])\n",
    "    z = np.quantile(poster['redshift'],[0.05,0.5,0.95])\n",
    "    beta_mismatch = fc.beta_min(Mtot[1], z[1], q[1], SNR_factor = 0.32694,\n",
    "             M_fid = 1e4, bt_fid = 0.1)\n",
    "\n",
    "    \n",
    "    s = 1 if sign[i] == '+' else -1\n",
    "    bt = beta_1Msun[i]\n",
    "    print(names[i],'\\t %f'%(dL[1]), '\\t %f'%(Mtot[1]), '\\t %e'%(s*np.quantile(scale*bt,0.9)))\n",
    "    print(names[i],'\\t', sign[i],'\\t %e'%(np.quantile(scale*bt,0.9)),'\\t %e'%(beta_mismatch))"
   ]
  },
  {
   "cell_type": "code",
   "execution_count": 53,
   "id": "79677893",
   "metadata": {},
   "outputs": [
    {
     "name": "stdout",
     "output_type": "stream",
     "text": [
      "0.10162410057263678\n"
     ]
    }
   ],
   "source": []
  },
  {
   "cell_type": "code",
   "execution_count": 63,
   "id": "4cf71aec",
   "metadata": {},
   "outputs": [
    {
     "name": "stdout",
     "output_type": "stream",
     "text": [
      "S190630ag \t-2.416765e-02\n",
      "S190706ai \t2.654872e-01\n",
      "S190706ai \t-2.351810e-02\n",
      "S190707q \t-1.519931e+00\n",
      "S190707q \t2.948434e-02\n",
      "S190708ap \t3.735109e-02\n",
      "S190708ap \t-1.657553e-01\n",
      "S190720a \t6.622339e-02\n",
      "S190720a \t-6.780800e-02\n",
      "S190727h \t-4.235074e-02\n",
      "S190727h \t3.477655e-02\n",
      "S190728q \t-4.788154e-02\n",
      "S190728q \t7.807855e-02\n",
      "S190814bv \t-1.000925e-02\n",
      "S190814bv \t2.635937e-02\n",
      "S190828j \t-9.368852e-02\n",
      "S190828j \t1.539801e-02\n",
      "S190910s \t-7.498524e-02\n",
      "S190910s \t9.275898e-03\n",
      "S190915ak \t-8.571662e-02\n",
      "S190915ak \t1.668573e-02\n",
      "S190924h \t1.166461e+00\n",
      "S190924h \t-3.652031e-02\n",
      "S191129u \t-9.882861e-02\n",
      "S191129u \t1.185500e-01\n",
      "S191204r \t-1.017965e-02\n",
      "S191204r \t3.196849e-02\n",
      "S191215w \t1.368592e-02\n",
      "S191215w \t-8.119953e-02\n",
      "S191216ap \t-1.215664e-02\n",
      "S191216ap \t2.963064e-01\n",
      "S191222n \t-8.828158e-02\n",
      "S191222n \t1.351822e-02\n",
      "S200129m \t1.148064e-01\n",
      "S200129m \t-9.219537e-03\n",
      "S200208q \t1.576631e-02\n",
      "S200208q \t-3.807473e-02\n",
      "S200219ac \t-8.014419e-01\n",
      "S200219ac \t1.366864e-02\n",
      "S200224ca \t-3.653790e-02\n",
      "S200224ca \t1.604960e-02\n",
      "S200225q \t-3.375023e+00\n",
      "S200225q \t1.717231e-02\n",
      "S200311bg \t1.155867e-02\n",
      "S200311bg \t-3.723827e-02\n"
     ]
    }
   ],
   "source": [
    "factor = (u.peV**2*u.Mpc/c.c**2/c.h**2*c.G*u.solMass/c.c**2).decompose()\n",
    "\n",
    "beta_1Msun = [bt*float(factor) for bt in beta_over_M_raw]\n",
    "\n",
    "scale = 1e4\n",
    "\n",
    "sign = ['+' if 'plus' in f else '-' for f in file_names]\n",
    "\n",
    "\n",
    "\n",
    "names = np.array(names)\n",
    "\n",
    "colors = ['b' if 'plus' in f else 'r' for f in file_names]\n",
    "\n",
    "#axis =  [1 if 'plus' in f else 0 for f in file_names]\n",
    "\n",
    "iplus = [i for i in range(len(file_names)) if 'plus' in file_names[i]]\n",
    "iminus = [i for i in range(len(file_names)) if 'minus' in file_names[i]]\n",
    "\n",
    "\n",
    "\n",
    "\n",
    "\n",
    "\n",
    "for i, bt in enumerate(beta_1Msun):\n",
    "    s = 1 if sign[i] == '+' else -1\n",
    "    print('%s \\t%e'%(names[i], s*np.quantile(scale*bt,0.9)))\n"
   ]
  },
  {
   "cell_type": "code",
   "execution_count": 33,
   "id": "d216deaf",
   "metadata": {},
   "outputs": [
    {
     "ename": "ValueError",
     "evalue": "setting an array element with a sequence. The requested array has an inhomogeneous shape after 1 dimensions. The detected shape was (45,) + inhomogeneous part.",
     "output_type": "error",
     "traceback": [
      "\u001b[0;31m---------------------------------------------------------------------------\u001b[0m",
      "\u001b[0;31mValueError\u001b[0m                                Traceback (most recent call last)",
      "\u001b[0;32m<ipython-input-33-0cf11e9bad7a>\u001b[0m in \u001b[0;36m<module>\u001b[0;34m\u001b[0m\n\u001b[0;32m----> 1\u001b[0;31m \u001b[0mnp\u001b[0m\u001b[0;34m.\u001b[0m\u001b[0marray\u001b[0m\u001b[0;34m(\u001b[0m\u001b[0mbeta_over_M_raw\u001b[0m\u001b[0;34m)\u001b[0m\u001b[0;34m\u001b[0m\u001b[0;34m\u001b[0m\u001b[0m\n\u001b[0m",
      "\u001b[0;31mValueError\u001b[0m: setting an array element with a sequence. The requested array has an inhomogeneous shape after 1 dimensions. The detected shape was (45,) + inhomogeneous part."
     ]
    }
   ],
   "source": [
    "np.array(beta_over_M_raw)"
   ]
  },
  {
   "cell_type": "code",
   "execution_count": 30,
   "id": "f7335169",
   "metadata": {
    "ExecuteTime": {
     "end_time": "2022-11-02T13:51:15.583335Z",
     "start_time": "2022-11-02T13:51:12.932816Z"
    },
    "scrolled": false
   },
   "outputs": [
    {
     "ename": "ValueError",
     "evalue": "setting an array element with a sequence. The requested array has an inhomogeneous shape after 1 dimensions. The detected shape was (45,) + inhomogeneous part.",
     "output_type": "error",
     "traceback": [
      "\u001b[0;31m---------------------------------------------------------------------------\u001b[0m",
      "\u001b[0;31mValueError\u001b[0m                                Traceback (most recent call last)",
      "\u001b[0;32m<ipython-input-30-e47c83f334a3>\u001b[0m in \u001b[0;36m<module>\u001b[0;34m\u001b[0m\n\u001b[1;32m      8\u001b[0m \u001b[0mfactor\u001b[0m \u001b[0;34m=\u001b[0m \u001b[0;34m(\u001b[0m\u001b[0mu\u001b[0m\u001b[0;34m.\u001b[0m\u001b[0mpeV\u001b[0m\u001b[0;34m**\u001b[0m\u001b[0;36m2\u001b[0m\u001b[0;34m*\u001b[0m\u001b[0mu\u001b[0m\u001b[0;34m.\u001b[0m\u001b[0mMpc\u001b[0m\u001b[0;34m/\u001b[0m\u001b[0mc\u001b[0m\u001b[0;34m.\u001b[0m\u001b[0mc\u001b[0m\u001b[0;34m**\u001b[0m\u001b[0;36m2\u001b[0m\u001b[0;34m/\u001b[0m\u001b[0mc\u001b[0m\u001b[0;34m.\u001b[0m\u001b[0mh\u001b[0m\u001b[0;34m**\u001b[0m\u001b[0;36m2\u001b[0m\u001b[0;34m*\u001b[0m\u001b[0mc\u001b[0m\u001b[0;34m.\u001b[0m\u001b[0mG\u001b[0m\u001b[0;34m*\u001b[0m\u001b[0mu\u001b[0m\u001b[0;34m.\u001b[0m\u001b[0msolMass\u001b[0m\u001b[0;34m/\u001b[0m\u001b[0mc\u001b[0m\u001b[0;34m.\u001b[0m\u001b[0mc\u001b[0m\u001b[0;34m**\u001b[0m\u001b[0;36m2\u001b[0m\u001b[0;34m)\u001b[0m\u001b[0;34m.\u001b[0m\u001b[0mdecompose\u001b[0m\u001b[0;34m(\u001b[0m\u001b[0;34m)\u001b[0m\u001b[0;34m\u001b[0m\u001b[0;34m\u001b[0m\u001b[0m\n\u001b[1;32m      9\u001b[0m \u001b[0;34m\u001b[0m\u001b[0m\n\u001b[0;32m---> 10\u001b[0;31m \u001b[0mbeta_1Msun\u001b[0m \u001b[0;34m=\u001b[0m \u001b[0mnp\u001b[0m\u001b[0;34m.\u001b[0m\u001b[0marray\u001b[0m\u001b[0;34m(\u001b[0m\u001b[0;34m[\u001b[0m\u001b[0mbt\u001b[0m\u001b[0;34m*\u001b[0m\u001b[0mfloat\u001b[0m\u001b[0;34m(\u001b[0m\u001b[0mfactor\u001b[0m\u001b[0;34m)\u001b[0m \u001b[0;32mfor\u001b[0m \u001b[0mbt\u001b[0m \u001b[0;32min\u001b[0m \u001b[0mbeta_over_M_raw\u001b[0m\u001b[0;34m]\u001b[0m\u001b[0;34m)\u001b[0m\u001b[0;34m\u001b[0m\u001b[0;34m\u001b[0m\u001b[0m\n\u001b[0m\u001b[1;32m     11\u001b[0m \u001b[0;34m\u001b[0m\u001b[0m\n\u001b[1;32m     12\u001b[0m \u001b[0mcolors\u001b[0m \u001b[0;34m=\u001b[0m \u001b[0;34m[\u001b[0m\u001b[0;34m'b'\u001b[0m \u001b[0;32mif\u001b[0m \u001b[0;34m'plus'\u001b[0m \u001b[0;32min\u001b[0m \u001b[0mf\u001b[0m \u001b[0;32melse\u001b[0m \u001b[0;34m'r'\u001b[0m \u001b[0;32mfor\u001b[0m \u001b[0mf\u001b[0m \u001b[0;32min\u001b[0m \u001b[0mfile_names\u001b[0m\u001b[0;34m]\u001b[0m\u001b[0;34m\u001b[0m\u001b[0;34m\u001b[0m\u001b[0m\n",
      "\u001b[0;31mValueError\u001b[0m: setting an array element with a sequence. The requested array has an inhomogeneous shape after 1 dimensions. The detected shape was (45,) + inhomogeneous part."
     ]
    },
    {
     "data": {
      "text/plain": [
       "<Figure size 486x648 with 0 Axes>"
      ]
     },
     "metadata": {},
     "output_type": "display_data"
    }
   ],
   "source": [
    "plt.figure(figsize=(9 * 0.75, 9))\n",
    "\n",
    "#Coefficient from our long paper, eq 4.5\n",
    "#assumes: luminosity_distance in Mpc, A0 = our c0 and is in ev^2\n",
    "#NOTE: A0 in peV^2 to eV^2 \n",
    "#beta_over_M = [bt*(1e-12)**2/(1e-23)**2/1e3*0.148/(5e4) for bt in beta_over_M_raw]\n",
    "\n",
    "factor = (u.peV**2*u.Mpc/c.c**2/c.h**2*c.G*u.solMass/c.c**2).decompose()\n",
    "\n",
    "beta_1Msun = np.array([bt*float(factor) for bt in beta_over_M_raw])\n",
    "\n",
    "colors = ['b' if 'plus' in f else 'r' for f in file_names]\n",
    "sign = ['+' if 'plus' in f else '-' for f in file_names]\n",
    "\n",
    "scale = 1e4\n",
    "#beta_p = [b for]\n",
    "\n",
    "plt.violinplot(np.abs(beta_1Msun)*scale, showmeans=False, vert=False, showextrema=False, widths=1,quantiles=[[.9] for b in beta_1Msun])#,color=colors)\n",
    "yticks = np.arange(1, len(names) + 1)\n",
    "plt.yticks(yticks, [nam+' '+sign[i] for i,nam in enumerate(names)])\n",
    "plt.xlim(0, 2e-4*scale)\n",
    "#plt.xscale('log')\n",
    "\n",
    "plt.xlabel(r\"$10^4\\beta(M/M_\\odot)$\")\n",
    "plt.tight_layout()\n",
    "#plt.savefig(\"/Users/stiskalek/Downloads/A0s.png\", dpi=450)\n",
    "plt.show()"
   ]
  },
  {
   "cell_type": "code",
   "execution_count": null,
   "id": "716dc996",
   "metadata": {},
   "outputs": [],
   "source": [
    "iplus = [i for i in range(len(file_names)) if 'plus' in file_names[i]]\n",
    "\n",
    "beta_1Msun[iplus]"
   ]
  },
  {
   "cell_type": "code",
   "execution_count": 46,
   "id": "45d6c478",
   "metadata": {
    "ExecuteTime": {
     "end_time": "2022-11-02T13:51:15.583335Z",
     "start_time": "2022-11-02T13:51:12.932816Z"
    },
    "scrolled": false
   },
   "outputs": [
    {
     "ename": "ValueError",
     "evalue": "setting an array element with a sequence. The requested array has an inhomogeneous shape after 1 dimensions. The detected shape was (45,) + inhomogeneous part.",
     "output_type": "error",
     "traceback": [
      "\u001b[0;31m---------------------------------------------------------------------------\u001b[0m",
      "\u001b[0;31mValueError\u001b[0m                                Traceback (most recent call last)",
      "\u001b[0;32m<ipython-input-46-54016b063803>\u001b[0m in \u001b[0;36m<module>\u001b[0;34m\u001b[0m\n\u001b[1;32m     11\u001b[0m \u001b[0mfactor\u001b[0m \u001b[0;34m=\u001b[0m \u001b[0;34m(\u001b[0m\u001b[0mu\u001b[0m\u001b[0;34m.\u001b[0m\u001b[0mpeV\u001b[0m\u001b[0;34m**\u001b[0m\u001b[0;36m2\u001b[0m\u001b[0;34m*\u001b[0m\u001b[0mu\u001b[0m\u001b[0;34m.\u001b[0m\u001b[0mMpc\u001b[0m\u001b[0;34m/\u001b[0m\u001b[0mc\u001b[0m\u001b[0;34m.\u001b[0m\u001b[0mc\u001b[0m\u001b[0;34m**\u001b[0m\u001b[0;36m2\u001b[0m\u001b[0;34m/\u001b[0m\u001b[0mc\u001b[0m\u001b[0;34m.\u001b[0m\u001b[0mh\u001b[0m\u001b[0;34m**\u001b[0m\u001b[0;36m2\u001b[0m\u001b[0;34m*\u001b[0m\u001b[0mc\u001b[0m\u001b[0;34m.\u001b[0m\u001b[0mG\u001b[0m\u001b[0;34m*\u001b[0m\u001b[0mu\u001b[0m\u001b[0;34m.\u001b[0m\u001b[0msolMass\u001b[0m\u001b[0;34m/\u001b[0m\u001b[0mc\u001b[0m\u001b[0;34m.\u001b[0m\u001b[0mc\u001b[0m\u001b[0;34m**\u001b[0m\u001b[0;36m2\u001b[0m\u001b[0;34m)\u001b[0m\u001b[0;34m.\u001b[0m\u001b[0mdecompose\u001b[0m\u001b[0;34m(\u001b[0m\u001b[0;34m)\u001b[0m\u001b[0;34m\u001b[0m\u001b[0;34m\u001b[0m\u001b[0m\n\u001b[1;32m     12\u001b[0m \u001b[0;34m\u001b[0m\u001b[0m\n\u001b[0;32m---> 13\u001b[0;31m \u001b[0mbeta_1Msun\u001b[0m \u001b[0;34m=\u001b[0m \u001b[0mnp\u001b[0m\u001b[0;34m.\u001b[0m\u001b[0marray\u001b[0m\u001b[0;34m(\u001b[0m\u001b[0;34m[\u001b[0m\u001b[0mbt\u001b[0m\u001b[0;34m*\u001b[0m\u001b[0mfloat\u001b[0m\u001b[0;34m(\u001b[0m\u001b[0mfactor\u001b[0m\u001b[0;34m)\u001b[0m \u001b[0;32mfor\u001b[0m \u001b[0mbt\u001b[0m \u001b[0;32min\u001b[0m \u001b[0mbeta_over_M_raw\u001b[0m\u001b[0;34m]\u001b[0m\u001b[0;34m)\u001b[0m\u001b[0;34m\u001b[0m\u001b[0;34m\u001b[0m\u001b[0m\n\u001b[0m\u001b[1;32m     14\u001b[0m \u001b[0;34m\u001b[0m\u001b[0m\n\u001b[1;32m     15\u001b[0m \u001b[0mnames\u001b[0m \u001b[0;34m=\u001b[0m \u001b[0mnp\u001b[0m\u001b[0;34m.\u001b[0m\u001b[0marray\u001b[0m\u001b[0;34m(\u001b[0m\u001b[0mnames\u001b[0m\u001b[0;34m)\u001b[0m\u001b[0;34m\u001b[0m\u001b[0;34m\u001b[0m\u001b[0m\n",
      "\u001b[0;31mValueError\u001b[0m: setting an array element with a sequence. The requested array has an inhomogeneous shape after 1 dimensions. The detected shape was (45,) + inhomogeneous part."
     ]
    },
    {
     "data": {
      "text/plain": [
       "<Figure size 162x2592 with 0 Axes>"
      ]
     },
     "metadata": {},
     "output_type": "display_data"
    },
    {
     "data": {
      "image/png": "[encoded data removed]",
      "text/plain": [
       "<Figure size 432x288 with 2 Axes>"
      ]
     },
     "metadata": {
      "needs_background": "light"
     },
     "output_type": "display_data"
    }
   ],
   "source": [
    "plt.figure(figsize=(3 * 0.75, 3*12))\n",
    "\n",
    "fig,ax = plt.subplots(1,2,sharey=True)\n",
    "plt.subplots_adjust(wspace=0.0)\n",
    "\n",
    "#Coefficient from our long paper, eq 4.5\n",
    "#assumes: luminosity_distance in Mpc, A0 = our c0 and is in ev^2\n",
    "#NOTE: A0 in peV^2 to eV^2 \n",
    "#beta_over_M = [bt*(1e-12)**2/(1e-23)**2/1e3*0.148/(5e4) for bt in beta_over_M_raw]\n",
    "\n",
    "factor = (u.peV**2*u.Mpc/c.c**2/c.h**2*c.G*u.solMass/c.c**2).decompose()\n",
    "\n",
    "beta_1Msun = np.array([bt*float(factor) for bt in beta_over_M_raw])\n",
    "\n",
    "names = np.array(names)\n",
    "\n",
    "colors = ['b' if 'plus' in f else 'r' for f in file_names]\n",
    "\n",
    "#axis =  [1 if 'plus' in f else 0 for f in file_names]\n",
    "\n",
    "iplus = [i for i in range(len(file_names)) if 'plus' in file_names[i]]\n",
    "iminus = [i for i in range(len(file_names)) if 'minus' in file_names[i]]\n",
    "\n",
    "sign = ['+' if 'plus' in f else '-' for f in file_names]\n",
    "\n",
    "scale = 1e4\n",
    "#beta_p = [b for]\n",
    "\n",
    "\n",
    "ax[0].violinplot(-np.abs(beta_1Msun[iminus])*scale, showmeans=False, vert=False, showextrema=False, widths=1,quantiles=[[.1] for b in beta_1Msun[iminus]])#,color=colors)\n",
    "\n",
    "ax[1].violinplot(np.abs(beta_1Msun[iplus])*scale, showmeans=False, vert=False, showextrema=False, widths=1,quantiles=[[.9] for b in beta_1Msun[iplus]])#,color=colors)\n",
    "\n",
    "yticks = np.arange(1, len(names[iminus]) + 1)\n",
    "plt.yticks(yticks, [nam for i,nam in enumerate(names[iminus])])\n",
    "ax[1].axes.yaxis.set_visible(False)\n",
    "ax[0].set_xlim(-2e-4*scale,0)\n",
    "ax[1].set_xlim(1e-5, 1.5e-4*scale)\n",
    "#plt.xscplusale('symlog')\n",
    "\n",
    "\n",
    "fig.text(0.5,0.01,r\"$10^4\\beta(M/M_\\odot)$\",ha='center')\n",
    "#plt.tight_layout()\n",
    "#plt.savefig(\"/Users/stiskalek/Downloads/A0s.png\", dpi=450)\n",
    "plt.show()"
   ]
  },
  {
   "cell_type": "code",
   "execution_count": 385,
   "id": "a88dd830",
   "metadata": {},
   "outputs": [
    {
     "data": {
      "text/plain": [
       "([<matplotlib.axis.YTick at 0x7fcf030b6460>,\n",
       "  <matplotlib.axis.YTick at 0x7fcf030b6e80>,\n",
       "  <matplotlib.axis.YTick at 0x7fcf03679a00>,\n",
       "  <matplotlib.axis.YTick at 0x7fcf036f07c0>,\n",
       "  <matplotlib.axis.YTick at 0x7fcf030ca4c0>,\n",
       "  <matplotlib.axis.YTick at 0x7fcf030ca6a0>,\n",
       "  <matplotlib.axis.YTick at 0x7fcf030ca8e0>,\n",
       "  <matplotlib.axis.YTick at 0x7fcf02c7bd90>,\n",
       "  <matplotlib.axis.YTick at 0x7fcf02c7bbe0>,\n",
       "  <matplotlib.axis.YTick at 0x7fcf02c7beb0>,\n",
       "  <matplotlib.axis.YTick at 0x7fcf030cabe0>,\n",
       "  <matplotlib.axis.YTick at 0x7fcf02c7ba30>],\n",
       " [Text(0, 0, 'S190630ag'),\n",
       "  Text(0, 0, 'S190706ai'),\n",
       "  Text(0, 0, 'S190707q'),\n",
       "  Text(0, 0, 'S190708ap'),\n",
       "  Text(0, 0, 'S190720a'),\n",
       "  Text(0, 0, 'S190727h'),\n",
       "  Text(0, 0, 'S190728q'),\n",
       "  Text(0, 0, 'S190814bv'),\n",
       "  Text(0, 0, 'S190828j'),\n",
       "  Text(0, 0, 'S190910s'),\n",
       "  Text(0, 0, 'S190915ak'),\n",
       "  Text(0, 0, 'S190924h')])"
      ]
     },
     "execution_count": 385,
     "metadata": {},
     "output_type": "execute_result"
    },
    {
     "data": {
      "image/png": "[encoded data removed]",
      "text/plain": [
       "<Figure size 432x288 with 1 Axes>"
      ]
     },
     "metadata": {
      "needs_background": "light"
     },
     "output_type": "display_data"
    }
   ],
   "source": [
    "yticks = np.arange(1, len(names[iminus]) + 1)\n",
    "plt.yticks(yticks, [nam for i,nam in enumerate(names[iminus])])"
   ]
  },
  {
   "cell_type": "code",
   "execution_count": 342,
   "id": "b2a61099",
   "metadata": {},
   "outputs": [
    {
     "data": {
      "text/plain": [
       "array(['liv_S190706ai_Aplus_alpha0.h5', 'liv_S190706ai_Aminus_alpha0.h5'],\n",
       "      dtype='<U30')"
      ]
     },
     "execution_count": 342,
     "metadata": {},
     "output_type": "execute_result"
    }
   ],
   "source": [
    "file_names[[2,1]]"
   ]
  },
  {
   "cell_type": "markdown",
   "id": "f71e8fd7",
   "metadata": {},
   "source": [
    "## Constraints"
   ]
  },
  {
   "cell_type": "markdown",
   "id": "8579fe04",
   "metadata": {},
   "source": [
    "For a given event, the probaility of detecting GSHE is given by\n",
    "\n",
    "$$p_i= f(M,r_{\\rm src}) P_{\\rm GSHE}(\\beta_{\\rm ex}^{i}(M),r_{\\rm src}) = f(M,r_{\\rm src}) $$\n",
    "\n",
    "$f$ is the fraction of mergers at a given radius of a BH of a given mass. The second factor is the probability of detecting GSHE, which we take as given by $\\frac{1}{2}\\Upsilon(\\beta_{\\rm ex}^i(M),r_{\\rm src})$, where $\\beta_{\\rm ex}^i(M)$ is the maximum allowed value of $\\beta$ given by the data (coefficient reflects that $\\Upsilon$ only counts the half sphere).\n",
    "\n",
    "**NOTES**\n",
    "* $\\checkmark$ parameterize $\\Upsilon \\propto \\beta_{\\rm min}^{-2/3}$ for $\\beta<1$\n",
    "* Include measurement uncertainty in $\\beta$ $\\to$ integrate against (cumulative) posterior?\n",
    "* need to consider positive and negative beta\n",
    "* could integrate up to a certain radius of the source (i.e. fraction of events for $r<XX$)\n",
    " "
   ]
  },
  {
   "cell_type": "markdown",
   "id": "05edf8f6",
   "metadata": {},
   "source": [
    "The probability of non-detection should be $\\prod_i (1-p_i)$, generalized to $P(U,D,\\vec p)=\\prod_u(1-p_u)\\prod_d p_d$ for $D$ detected events and $U$ undetected ones. When $p_i\\ll 1 \\Rightarrow (1-p_i)\\approx e^{-p_i}$ and we recover a Poisson distribution."
   ]
  },
  {
   "cell_type": "code",
   "execution_count": 45,
   "id": "0a7ce661",
   "metadata": {},
   "outputs": [
    {
     "data": {
      "text/plain": [
       "<matplotlib.legend.Legend at 0x7fa7cf3f1df0>"
      ]
     },
     "execution_count": 45,
     "metadata": {},
     "output_type": "execute_result"
    },
    {
     "data": {
      "image/png": "[encoded data removed]",
      "text/plain": [
       "<Figure size 432x288 with 1 Axes>"
      ]
     },
     "metadata": {
      "needs_background": "light"
     },
     "output_type": "display_data"
    }
   ],
   "source": [
    "bt90 = np.array([np.percentile(bt,90) for bt in beta_1Msun])\n",
    "bt95 = np.array([np.percentile(bt,95) for bt in beta_1Msun])\n",
    "\n",
    "plt.semilogy(bt90*1e4,'*',label='90%')\n",
    "plt.semilogy(bt95*1e4,'+',label='95%')\n",
    "\n",
    "plt.legend()"
   ]
  },
  {
   "cell_type": "code",
   "execution_count": 74,
   "id": "f1577da1",
   "metadata": {},
   "outputs": [
    {
     "data": {
      "image/png": "[encoded data removed]",
      "text/plain": [
       "<Figure size 432x288 with 1 Axes>"
      ]
     },
     "metadata": {
      "needs_background": "light"
     },
     "output_type": "display_data"
    }
   ],
   "source": [
    "def Upsilon(bt_min,r_src,n0=-2/3.,n1=-2,bt_cut = np.infty):\n",
    "    '''fraction of events with bt>bt_min\n",
    "        r_src = distance in r_s\n",
    "        approximated by min(1,A*bt_min^n0) (for bt_min <1)\n",
    "                            A*bt_min^n1 (bt_min>1)\n",
    "                        0 for bt_min>bt_cut ->TODO: replace by B_bt_min^-n1\n",
    "                        \n",
    "        TODO: coefficient computed by hand noticing that Upsilon(bt=1,r=7.5) = 1e-2\n",
    "    '''\n",
    "    A = 1e-2 #amplitude at bt_min = 1, r=7.5\n",
    "    Ups = np.where(bt_min<1,A*(bt_min/1)**n0, A*(bt_min/1)**n1)*(7.5/r_src)**2\n",
    "    Ups[Ups>=1] = 1\n",
    "    Ups[bt_min>bt_cut] = 0\n",
    "    \n",
    "    return Ups\n",
    "\n",
    "vUpsilon = np.vectorize(Upsilon)\n",
    "\n",
    "bt_min = np.geomspace(1e-4,1e1)\n",
    "for  rs in [5,7.5,10]:\n",
    "    plt.loglog(bt_min,Upsilon(bt_min,rs,bt_cut=10),label=rs)\n",
    "    \n",
    "plt.legend(title='r/rs')\n",
    "plt.xlabel('beta_min')\n",
    "plt.ylabel('Upsilon')\n",
    "plt.grid()"
   ]
  },
  {
   "cell_type": "code",
   "execution_count": 67,
   "id": "3206a457",
   "metadata": {},
   "outputs": [],
   "source": [
    "def P_undetected(bt_max,f,M,r_src):\n",
    "    '''probability of non-detection, multiplying individual calculations\n",
    "       bt_max = limit to observations, for 1 solar mass\n",
    "       M = mass [Msun]\n",
    "       r = source radius [rs]\n",
    "       f = fraction of events\n",
    "    '''\n",
    "    ups = Upsilon(bt_max*M, r_src)\n",
    "    pi = (1-0.5*ups*f) #TODO: extend upsilon to total probability\n",
    "    Ptot = np.prod(pi)#np.exp(np.sum(np.log(pi)))\n",
    "    return Ptot\n",
    "\n",
    "vP_undetected = np.vectorize(P_undetected)\n",
    "\n",
    "def rate_poisson(bt_max,M,r_src, bt_cut=np.infty):\n",
    "    '''\n",
    "       returns \\sum_i 0.5 Upsilon(bt_max*M, r_src) = f^-1 log(L_poisson)\n",
    "       poisson approximation for the probability (useful to solve for f)\n",
    "    '''\n",
    "    ups = Upsilon(bt_max*M, r_src,bt_cut=bt_cut)\n",
    "    return 0.5*np.sum(ups)\n",
    "\n",
    "v_rate_poisson=np.vectorize(rate_poisson)"
   ]
  },
  {
   "cell_type": "code",
   "execution_count": 68,
   "id": "35a1194f",
   "metadata": {},
   "outputs": [
    {
     "name": "stdout",
     "output_type": "stream",
     "text": [
      "52.76360962015129\n",
      "23\n"
     ]
    },
    {
     "data": {
      "text/plain": [
       "(None, None)"
      ]
     },
     "execution_count": 68,
     "metadata": {},
     "output_type": "execute_result"
    }
   ],
   "source": [
    "M,r=1e6,5\n",
    "rate_90 = np.abs(np.log(0.1))\n",
    "f = rate_90/rate_poisson(bt90,M,r)\n",
    "print(f), print(len(bt90))"
   ]
  },
  {
   "cell_type": "code",
   "execution_count": 72,
   "id": "f9caf88b",
   "metadata": {},
   "outputs": [
    {
     "data": {
      "image/png": "[encoded data removed]",
      "text/plain": [
       "<Figure size 432x288 with 2 Axes>"
      ]
     },
     "metadata": {
      "needs_background": "light"
     },
     "output_type": "display_data"
    }
   ],
   "source": [
    "Masses = np.logspace(3,8,30)\n",
    "radii = np.geomspace(1,1e3,20)\n",
    "\n",
    "import matplotlib.colors as colors\n",
    "\n",
    "X,Y = np.meshgrid(Masses,radii)\n",
    "\n",
    "#Factor 0.5 bc of double counting!\n",
    "Z = np.array([[2*rate_90/rate_poisson(bt90,M,r,bt_cut=np.infty) for M in Masses] for r in radii])\n",
    "\n",
    "c= plt.contourf(X,Y,Z,np.logspace(-1,5,7), norm=colors.LogNorm(),cmap='PuRd_r')#,cmap='inferno_r')\n",
    "c2 = plt.contour(X,Y,Z,[1],colors='w')\n",
    "plt.colorbar(c,label=r'$f$ (explain size sample)')\n",
    "\n",
    "plt.xscale('log')\n",
    "#plt.yscale('symlog',linthreshy=10)\n",
    "plt.yscale('log')\n",
    "plt.xlabel(r'$M \\, [M_\\odot]$')\n",
    "plt.ylabel(r'$r_{\\rm src} \\, [2GM]$')\n",
    "plt.title('Poission approximation!')\n",
    "plt.show()"
   ]
  },
  {
   "cell_type": "code",
   "execution_count": 51,
   "id": "094a215b",
   "metadata": {},
   "outputs": [
    {
     "data": {
      "text/plain": [
       "Text(0.5, 1.0, 'M=1.0e+04, r=5')"
      ]
     },
     "execution_count": 51,
     "metadata": {},
     "output_type": "execute_result"
    },
    {
     "data": {
      "image/png": "[encoded data removed]",
      "text/plain": [
       "<Figure size 432x288 with 1 Axes>"
      ]
     },
     "metadata": {
      "needs_background": "light"
     },
     "output_type": "display_data"
    }
   ],
   "source": [
    "M=1e4\n",
    "r = 5\n",
    "ups = Upsilon(bt90*M,r)\n",
    "\n",
    "#plt.scatter(bt90*M,ups)\n",
    "plt.plot(0.5*ups,'.')\n",
    "\n",
    "plt.xlabel(r'$p_i/f$')\n",
    "plt.title('M=%.1e, r=%g'%(M,r))\n",
    "\n",
    "#def Rate(bt_limits, M, r_src):\n",
    "    "
   ]
  },
  {
   "cell_type": "code",
   "execution_count": 52,
   "id": "92f707f0",
   "metadata": {},
   "outputs": [
    {
     "data": {
      "text/plain": [
       "Text(0.5, 1.0, 'M=1.00e+04 M_sun (preliminary!)')"
      ]
     },
     "execution_count": 52,
     "metadata": {},
     "output_type": "execute_result"
    },
    {
     "data": {
      "image/png": "[encoded data removed]",
      "text/plain": [
       "<Figure size 432x288 with 1 Axes>"
      ]
     },
     "metadata": {
      "needs_background": "light"
     },
     "output_type": "display_data"
    }
   ],
   "source": [
    "fs = np.linspace(0,1,20)\n",
    "\n",
    "M=1e4\n",
    "\n",
    "for r_src in [2,3,4,5]:\n",
    "#r_src=5\n",
    "\n",
    "    Ps = np.array([P_undetected(bt90,f,M,r_src) for f in fs])\n",
    "    plt.plot(fs,Ps,label=r_src)\n",
    "    \n",
    "plt.legend(title='r_src')\n",
    "plt.axhline(0.1,color='gray')\n",
    "plt.xlabel(r'$f(M,r_{\\rm src})$')\n",
    "plt.ylabel('Probability')\n",
    "plt.title('M=%.2e M_sun (preliminary!)'%M)"
   ]
  },
  {
   "cell_type": "code",
   "execution_count": null,
   "id": "632bdbf4",
   "metadata": {},
   "outputs": [],
   "source": [
    "def rate(beta_lim, M, r_src):\n",
    "    P_vect =  0.5*ups(beta_lim*M,r_src)\n",
    "    rate = np."
   ]
  },
  {
   "cell_type": "markdown",
   "id": "f3cc100d",
   "metadata": {},
   "source": [
    "## $A_0$ plots"
   ]
  },
  {
   "cell_type": "code",
   "execution_count": 48,
   "id": "91eaa6c4",
   "metadata": {
    "ExecuteTime": {
     "end_time": "2022-11-02T13:50:58.280504Z",
     "start_time": "2022-11-02T13:50:56.009607Z"
    }
   },
   "outputs": [
    {
     "name": "stdout",
     "output_type": "stream",
     "text": [
      "[array([2.97419674e-18, 1.02519884e-04, 1.80215789e-12, ...,\n",
      "       5.24229898e-16, 8.16633325e-20, 5.35169212e-09]), array([1.88698935e-13, 1.16064249e-19, 1.24887466e-18, ...,\n",
      "       9.48575958e-07, 6.72566760e-09, 1.52539346e-13]), array([8.71279935e-14, 2.05850009e-19, 8.18122981e-06, ...,\n",
      "       8.38579612e-18, 7.57799475e-09, 1.71554687e-18]), array([1.48367233e-11, 9.36446431e-03, 1.64083278e-09, ...,\n",
      "       1.01819035e-15, 1.82981716e-07, 1.75128325e-03]), array([5.61355514e-01, 4.62553557e-17, 1.00299593e-12, ...,\n",
      "       1.27441878e-06, 3.04635762e-17, 2.40629441e-15]), array([7.46857362e-07, 8.74882193e-04, 1.33851920e-11, ...,\n",
      "       1.16173120e-16, 9.32413498e-17, 1.79325763e-11]), array([1.41370110e-15, 1.09133073e-11, 7.98384648e-14, ...,\n",
      "       1.94034969e+00, 3.71875867e-12, 2.52371738e-05]), array([1.35070703e-19, 2.67038285e-15, 4.41323239e-12, ...,\n",
      "       9.32951109e-12, 1.53591531e-04, 3.58761737e-15]), array([8.03301510e+00, 4.66288964e-02, 3.90625471e-05, ...,\n",
      "       6.31833792e-09, 6.62177879e-02, 3.53378236e-06]), array([2.84505069e-02, 1.17157547e-06, 8.75510831e-20, ...,\n",
      "       8.29709301e-11, 1.78523649e-08, 2.87455030e-11]), array([1.98832086e-06, 7.65804091e-07, 2.71850630e-17, ...,\n",
      "       4.84746628e-17, 2.89998782e-09, 8.72341373e-12]), array([3.27647336e+00, 1.49688107e-03, 7.50279736e-15, ...,\n",
      "       2.48625568e-11, 1.40770982e-17, 1.13385853e-01]), array([1.36300467e-13, 1.86130363e-03, 1.95689868e-07, ...,\n",
      "       3.56865178e-11, 8.37291003e-07, 1.37727636e-11]), array([7.60074654e-09, 7.72858599e-20, 1.06006930e-08, ...,\n",
      "       3.61039201e-09, 2.23864623e-10, 1.71423570e-04]), array([1.72280982e-07, 2.05404691e-03, 4.23790021e-17, ...,\n",
      "       5.03603113e-15, 3.08690227e-16, 2.92723470e-01]), array([5.61659290e-11, 2.34949243e-19, 4.31584068e-02, ...,\n",
      "       8.74048803e-05, 6.08092965e-03, 4.46552456e-15]), array([9.45892216e-19, 6.64415659e-14, 4.78119121e-03, ...,\n",
      "       1.64401629e-14, 4.45074543e-06, 2.97111183e-11]), array([7.97870613e-07, 8.20407475e-16, 8.91196477e-13, ...,\n",
      "       2.30790014e-10, 8.93235762e-04, 1.01614141e-13]), array([7.75491943e-16, 1.80439094e-13, 2.01225553e-02, ...,\n",
      "       7.56046634e-16, 3.86644346e-19, 4.90108505e-06]), array([4.01556210e-06, 1.26178903e-11, 1.11345045e-18, ...,\n",
      "       6.15960791e-11, 2.61197820e-07, 8.07811323e-10]), array([6.23739498e-08, 3.75332205e-04, 4.47462295e-19, ...,\n",
      "       1.17671415e-02, 3.42925149e-19, 1.69300225e-11]), array([3.20091162e-15, 3.64776418e-13, 2.34656120e-16, ...,\n",
      "       2.38658704e-14, 2.49401526e-14, 5.22353121e-09]), array([1.70418307e-04, 7.95041474e-18, 7.87899740e-14, ...,\n",
      "       3.14809590e-10, 2.85640570e-17, 1.14555216e-10]), array([7.42341726e-03, 3.41280691e-16, 2.84791272e-20, ...,\n",
      "       1.87898323e-04, 4.30085631e-06, 1.80303561e-04]), array([1.55852362e-16, 1.11955453e-13, 2.71775231e+00, ...,\n",
      "       5.56200820e-14, 3.98563886e-18, 5.26135477e-03]), array([9.24033430e-19, 9.25357304e-07, 7.94869739e-04, ...,\n",
      "       2.13789532e-12, 3.89885630e-08, 4.40767745e-15]), array([4.55497218e+00, 1.93143693e-18, 4.93834726e-19, ...,\n",
      "       4.45450135e-09, 7.19237940e-11, 2.62364941e-18]), array([1.92071811e-18, 2.79575449e-15, 1.12720749e-12, ...,\n",
      "       1.48861374e-12, 2.48247667e-20, 1.65512916e-06]), array([3.52473359e-05, 4.39575095e-06, 4.89417759e-05, ...,\n",
      "       3.21550251e-13, 2.25214404e-10, 9.00525757e-15]), array([1.04886222e+01, 2.09209759e-12, 5.18098558e-12, ...,\n",
      "       2.34569792e-03, 1.19853661e-04, 1.31173134e-03]), array([1.50721138e-08, 3.06483987e-06, 2.14952025e-08, ...,\n",
      "       5.18056436e-20, 1.61311491e-08, 2.47386552e-14]), array([1.21602429e-17, 1.07718000e-11, 9.10071598e-05, ...,\n",
      "       1.86771457e-14, 8.00392219e-07, 1.41978605e-10]), array([6.50113911e-19, 6.91160846e-07, 5.02597232e-16, ...,\n",
      "       2.29216483e-18, 1.38715741e-11, 3.58099325e-15]), array([6.48690377e-09, 7.80870559e-12, 6.84403185e-04, ...,\n",
      "       2.14782031e-02, 3.48690668e-04, 3.36913706e-03]), array([6.22865952e-03, 1.07500784e-18, 4.35420579e-09, ...,\n",
      "       6.17521258e-20, 2.19242784e-15, 3.02879893e-02]), array([3.37166342e-17, 8.58361923e-13, 3.16187329e-11, ...,\n",
      "       9.74084334e-17, 3.00179756e-03, 2.56056579e-11]), array([3.10067692e-12, 3.22964055e-10, 1.93890841e-18, ...,\n",
      "       1.29060086e-08, 3.21176114e-15, 1.06550328e-17]), array([2.61795415e-03, 2.47267533e-08, 5.29643730e-10, ...,\n",
      "       7.06375566e-14, 4.24643609e-01, 3.86614339e-13]), array([1.75862896e-04, 3.59578781e-02, 2.64206716e-05, ...,\n",
      "       4.11310469e-11, 4.47260971e-14, 5.63916270e-10]), array([3.72515349e-18, 4.17955050e-20, 8.01375739e-02, ...,\n",
      "       4.50718326e-07, 3.58330016e-08, 2.50403909e-18]), array([1.87497615e-08, 2.66215612e-01, 1.08450582e-07, ...,\n",
      "       8.54681369e-03, 2.58709831e-19, 2.27695714e-15]), array([1.53510654e-16, 2.19251751e-19, 2.88819582e-08, ...,\n",
      "       2.11006627e-19, 4.82323793e-13, 1.14658786e-06]), array([1.68395755e-18, 1.08467644e-03, 3.42082842e-06, ...,\n",
      "       2.39636284e-19, 1.55283119e-04, 3.58265479e-01]), array([9.03483846e-15, 3.37180561e-13, 3.27079434e-16, ...,\n",
      "       1.25710896e-08, 9.42577076e-19, 1.27448268e-09]), array([3.12098076e-12, 2.12286097e-03, 2.76967645e-10, ...,\n",
      "       1.25960227e-06, 5.36432315e-19, 1.06791986e-03])]\n"
     ]
    }
   ],
   "source": [
    "A0s = []\n",
    "\n",
    "names = []\n",
    "file_names =[]\n",
    "for i, file in enumerate(files):\n",
    "    A0 = utils.A0_from_liv_samples(join(loaddir, file))\n",
    "    if A0 is not None:\n",
    "        A0s.append(A0 * 1e20)\n",
    "        names.append(names_all[i])\n",
    "        file_names.append(file)\n",
    "\n",
    "\n",
    "\n",
    "sort = np.argsort(names)\n",
    "names = [names[i] for i in sort]\n",
    "A0s = [A0s[i] for i in sort]\n",
    "file_names = [file_names[i] for i in sort]\n",
    "\n",
    "print(A0s)"
   ]
  },
  {
   "cell_type": "code",
   "execution_count": 49,
   "id": "e0e2e179",
   "metadata": {
    "ExecuteTime": {
     "end_time": "2022-11-02T13:51:15.583335Z",
     "start_time": "2022-11-02T13:51:12.932816Z"
    },
    "scrolled": false
   },
   "outputs": [
    {
     "ename": "ValueError",
     "evalue": "setting an array element with a sequence. The requested array has an inhomogeneous shape after 1 dimensions. The detected shape was (45,) + inhomogeneous part.",
     "output_type": "error",
     "traceback": [
      "\u001b[0;31m---------------------------------------------------------------------------\u001b[0m",
      "\u001b[0;31mValueError\u001b[0m                                Traceback (most recent call last)",
      "\u001b[0;32m<ipython-input-49-54c259843c06>\u001b[0m in \u001b[0;36m<module>\u001b[0;34m\u001b[0m\n\u001b[1;32m      1\u001b[0m \u001b[0mplt\u001b[0m\u001b[0;34m.\u001b[0m\u001b[0mfigure\u001b[0m\u001b[0;34m(\u001b[0m\u001b[0mfigsize\u001b[0m\u001b[0;34m=\u001b[0m\u001b[0;34m(\u001b[0m\u001b[0;36m9\u001b[0m \u001b[0;34m*\u001b[0m \u001b[0;36m0.75\u001b[0m\u001b[0;34m,\u001b[0m \u001b[0;36m9\u001b[0m\u001b[0;34m)\u001b[0m\u001b[0;34m)\u001b[0m\u001b[0;34m\u001b[0m\u001b[0;34m\u001b[0m\u001b[0m\n\u001b[1;32m      2\u001b[0m \u001b[0;34m\u001b[0m\u001b[0m\n\u001b[0;32m----> 3\u001b[0;31m \u001b[0mplt\u001b[0m\u001b[0;34m.\u001b[0m\u001b[0mviolinplot\u001b[0m\u001b[0;34m(\u001b[0m\u001b[0mnp\u001b[0m\u001b[0;34m.\u001b[0m\u001b[0mabs\u001b[0m\u001b[0;34m(\u001b[0m\u001b[0mA0s\u001b[0m\u001b[0;34m)\u001b[0m\u001b[0;34m,\u001b[0m \u001b[0mshowmeans\u001b[0m\u001b[0;34m=\u001b[0m\u001b[0;32mTrue\u001b[0m\u001b[0;34m,\u001b[0m \u001b[0mvert\u001b[0m\u001b[0;34m=\u001b[0m\u001b[0;32mFalse\u001b[0m\u001b[0;34m,\u001b[0m \u001b[0mshowextrema\u001b[0m\u001b[0;34m=\u001b[0m\u001b[0;32mFalse\u001b[0m\u001b[0;34m,\u001b[0m \u001b[0mwidths\u001b[0m\u001b[0;34m=\u001b[0m\u001b[0;36m1\u001b[0m\u001b[0;34m)\u001b[0m\u001b[0;34m\u001b[0m\u001b[0;34m\u001b[0m\u001b[0m\n\u001b[0m\u001b[1;32m      4\u001b[0m \u001b[0myticks\u001b[0m \u001b[0;34m=\u001b[0m \u001b[0mnp\u001b[0m\u001b[0;34m.\u001b[0m\u001b[0marange\u001b[0m\u001b[0;34m(\u001b[0m\u001b[0;36m1\u001b[0m\u001b[0;34m,\u001b[0m \u001b[0mlen\u001b[0m\u001b[0;34m(\u001b[0m\u001b[0mnames\u001b[0m\u001b[0;34m)\u001b[0m \u001b[0;34m+\u001b[0m \u001b[0;36m1\u001b[0m\u001b[0;34m)\u001b[0m\u001b[0;34m\u001b[0m\u001b[0;34m\u001b[0m\u001b[0m\n\u001b[1;32m      5\u001b[0m \u001b[0mplt\u001b[0m\u001b[0;34m.\u001b[0m\u001b[0myticks\u001b[0m\u001b[0;34m(\u001b[0m\u001b[0myticks\u001b[0m\u001b[0;34m,\u001b[0m \u001b[0mfile_names\u001b[0m\u001b[0;34m)\u001b[0m\u001b[0;34m\u001b[0m\u001b[0;34m\u001b[0m\u001b[0m\n",
      "\u001b[0;31mValueError\u001b[0m: setting an array element with a sequence. The requested array has an inhomogeneous shape after 1 dimensions. The detected shape was (45,) + inhomogeneous part."
     ]
    },
    {
     "data": {
      "text/plain": [
       "<Figure size 486x648 with 0 Axes>"
      ]
     },
     "metadata": {},
     "output_type": "display_data"
    }
   ],
   "source": [
    "plt.figure(figsize=(9 * 0.75, 9))\n",
    "\n",
    "plt.violinplot(np.abs(A0s), showmeans=True, vert=False, showextrema=False, widths=1)\n",
    "yticks = np.arange(1, len(names) + 1)\n",
    "plt.yticks(yticks, file_names)\n",
    "plt.xlim(-.01, 0.5)\n",
    "\n",
    "plt.xlabel(r\"$A_0 \\times 10^{-20}~\\mathrm{peV}^2$\")\n",
    "plt.tight_layout()\n",
    "#plt.savefig(\"/Users/stiskalek/Downloads/A0s.png\", dpi=450)\n",
    "plt.show()"
   ]
  },
  {
   "cell_type": "code",
   "execution_count": null,
   "id": "2c03e797",
   "metadata": {
    "ExecuteTime": {
     "end_time": "2022-10-23T08:44:59.728652Z",
     "start_time": "2022-10-23T08:44:59.679461Z"
    }
   },
   "outputs": [],
   "source": [
    "Mpc"
   ]
  },
  {
   "cell_type": "code",
   "execution_count": null,
   "id": "90f62c39",
   "metadata": {
    "ExecuteTime": {
     "end_time": "2022-10-23T08:42:18.473268Z",
     "start_time": "2022-10-23T08:42:18.445231Z"
    }
   },
   "outputs": [],
   "source": [
    "from scipy.constants import e"
   ]
  },
  {
   "cell_type": "code",
   "execution_count": null,
   "id": "4decb055",
   "metadata": {
    "ExecuteTime": {
     "end_time": "2022-10-23T08:42:47.525933Z",
     "start_time": "2022-10-23T08:42:47.492577Z"
    }
   },
   "outputs": [],
   "source": [
    "1 * e "
   ]
  },
  {
   "cell_type": "code",
   "execution_count": null,
   "id": "1e16fd4a",
   "metadata": {},
   "outputs": [],
   "source": []
  }
 ],
 "metadata": {
  "kernelspec": {
   "display_name": "Python 3",
   "language": "python",
   "name": "python3"
  },
  "language_info": {
   "codemirror_mode": {
    "name": "ipython",
    "version": 3
   },
   "file_extension": ".py",
   "mimetype": "text/x-python",
   "name": "python",
   "nbconvert_exporter": "python",
   "pygments_lexer": "ipython3",
   "version": "3.8.10"
  }
 },
 "nbformat": 4,
 "nbformat_minor": 5
}
