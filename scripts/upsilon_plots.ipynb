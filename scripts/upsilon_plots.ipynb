{
 "cells": [
  {
   "cell_type": "code",
   "execution_count": 1,
   "id": "5471bf74",
   "metadata": {
    "ExecuteTime": {
     "end_time": "2023-03-29T11:08:45.954760Z",
     "start_time": "2023-03-29T11:08:43.914420Z"
    }
   },
   "outputs": [],
   "source": [
    "import sys\n",
    "from os.path import join\n",
    "\n",
    "import numpy as np\n",
    "import matplotlib.pyplot as plt\n",
    "import matplotlib as mpl\n",
    "from tqdm import tqdm\n",
    "\n",
    "sys.path.append(\"../\")\n",
    "import GSHEWaveform\n",
    "\n",
    "\n",
    "%load_ext autoreload\n",
    "%autoreload 2\n",
    "# %matplotlib notebook\n",
    "%matplotlib inline\n",
    "tosave = True\n",
    "fout = \"/Users/richard/Downloads/\"\n",
    "fout = \"/home/miguel/code/notebooks/GSHE/plots/\""
   ]
  },
  {
   "cell_type": "code",
   "execution_count": 2,
   "id": "f2c81a3b",
   "metadata": {
    "ExecuteTime": {
     "end_time": "2023-03-29T11:17:07.568589Z",
     "start_time": "2023-03-29T11:17:07.103492Z"
    }
   },
   "outputs": [
    {
     "ename": "NameError",
     "evalue": "name 'betalims' is not defined",
     "output_type": "error",
     "traceback": [
      "\u001b[0;31m---------------------------------------------------------------------------\u001b[0m",
      "\u001b[0;31mNameError\u001b[0m                                 Traceback (most recent call last)",
      "\u001b[0;32m<ipython-input-2-591155fbbc4a>\u001b[0m in \u001b[0;36m<module>\u001b[0;34m\u001b[0m\n\u001b[1;32m      1\u001b[0m \u001b[0mplt\u001b[0m\u001b[0;34m.\u001b[0m\u001b[0mfigure\u001b[0m\u001b[0;34m(\u001b[0m\u001b[0;34m)\u001b[0m\u001b[0;34m\u001b[0m\u001b[0;34m\u001b[0m\u001b[0m\n\u001b[1;32m      2\u001b[0m \u001b[0mplt\u001b[0m\u001b[0;34m.\u001b[0m\u001b[0mtitle\u001b[0m\u001b[0;34m(\u001b[0m\u001b[0;34mr\"$N_{\\rm loops} = 0$\"\u001b[0m\u001b[0;34m)\u001b[0m\u001b[0;34m\u001b[0m\u001b[0;34m\u001b[0m\u001b[0m\n\u001b[0;32m----> 3\u001b[0;31m \u001b[0mplt\u001b[0m\u001b[0;34m.\u001b[0m\u001b[0mplot\u001b[0m\u001b[0;34m(\u001b[0m\u001b[0mbetalims\u001b[0m\u001b[0;34m,\u001b[0m \u001b[0mups_unsign\u001b[0m\u001b[0;34m,\u001b[0m \u001b[0mlabel\u001b[0m\u001b[0;34m=\u001b[0m\u001b[0;34mr\"All $\\beta$\"\u001b[0m\u001b[0;34m)\u001b[0m\u001b[0;31m#MZ: changed ups->ups_unsign\u001b[0m\u001b[0;34m\u001b[0m\u001b[0;34m\u001b[0m\u001b[0m\n\u001b[0m\u001b[1;32m      4\u001b[0m \u001b[0mplt\u001b[0m\u001b[0;34m.\u001b[0m\u001b[0mplot\u001b[0m\u001b[0;34m(\u001b[0m\u001b[0mbetalims\u001b[0m\u001b[0;34m,\u001b[0m \u001b[0mups_plus\u001b[0m\u001b[0;34m,\u001b[0m \u001b[0mlabel\u001b[0m\u001b[0;34m=\u001b[0m\u001b[0;34mr\"$\\beta > 0$\"\u001b[0m\u001b[0;34m)\u001b[0m\u001b[0;34m\u001b[0m\u001b[0;34m\u001b[0m\u001b[0m\n\u001b[1;32m      5\u001b[0m \u001b[0mplt\u001b[0m\u001b[0;34m.\u001b[0m\u001b[0mplot\u001b[0m\u001b[0;34m(\u001b[0m\u001b[0mbetalims\u001b[0m\u001b[0;34m,\u001b[0m \u001b[0mups_minus\u001b[0m\u001b[0;34m,\u001b[0m \u001b[0mlabel\u001b[0m\u001b[0;34m=\u001b[0m\u001b[0;34mr\"$\\beta < 0$\"\u001b[0m\u001b[0;34m)\u001b[0m\u001b[0;34m\u001b[0m\u001b[0;34m\u001b[0m\u001b[0m\n",
      "\u001b[0;31mNameError\u001b[0m: name 'betalims' is not defined"
     ]
    },
    {
     "data": {
      "image/png": "[encoded data removed]",
      "text/plain": [
       "<Figure size 432x288 with 1 Axes>"
      ]
     },
     "metadata": {
      "needs_background": "light"
     },
     "output_type": "display_data"
    }
   ],
   "source": [
    "plt.figure()\n",
    "plt.title(r\"$N_{\\rm loops} = 0$\")\n",
    "plt.plot(betalims, ups_unsign, label=r\"All $\\beta$\")#MZ: changed ups->ups_unsign\n",
    "plt.plot(betalims, ups_plus, label=r\"$\\beta > 0$\")\n",
    "plt.plot(betalims, ups_minus, label=r\"$\\beta < 0$\")\n",
    "\n",
    "\n",
    "plt.xscale(\"log\")\n",
    "plt.yscale(\"log\")\n",
    "\n",
    "plt.legend()\n",
    "plt.ylabel(r\"$\\Upsilon_{\\rm obs}(\\beta_{\\rm min})$\")\n",
    "plt.xlabel(r\"$\\beta_{\\rm min}$\")\n",
    "plt.grid(alpha=0.1)\n",
    "plt.tight_layout()\n",
    "# plt.savefig(\"/Users/richard/Downloads/res.png\", dpi=300)\n",
    "plt.show()"
   ]
  },
  {
   "cell_type": "code",
   "execution_count": null,
   "id": "54e374b7",
   "metadata": {},
   "outputs": [],
   "source": []
  },
  {
   "cell_type": "code",
   "execution_count": null,
   "id": "2dce00b1",
   "metadata": {},
   "outputs": [],
   "source": []
  },
  {
   "cell_type": "markdown",
   "id": "fe6738ef",
   "metadata": {},
   "source": [
    "# Sign dependence of $\\Upsilon_{\\rm src}$"
   ]
  },
  {
   "cell_type": "code",
   "execution_count": null,
   "id": "db0b2562",
   "metadata": {
    "ExecuteTime": {
     "end_time": "2023-03-29T10:55:48.612304Z",
     "start_time": "2023-03-29T10:55:37.991837Z"
    }
   },
   "outputs": [],
   "source": [
    "def get_beta(run):\n",
    "    data = GSHEWaveform.read_shooting(run, \"../data\", 0.2)\n",
    "    betas = GSHEWaveform.read_signed_beta(data)\n",
    "    hull = GSHEWaveform.build_shadowhull(data[\"grid\"], betas, N=200)\n",
    "    betas = GSHEWaveform.fillshadow(data[\"grid\"], betas, hull)\n",
    "    return data, betas\n",
    "\n",
    "\n",
    "betalims = np.logspace(-2.5, 1.5, 1000)\n",
    "dists = {13: 5, 14: 7.5, 15: 10}\n",
    "GSHEWaveform.setmplstyle(\"../plot_style.txt\")\n",
    "cols = plt.rcParams[\"axes.prop_cycle\"].by_key()[\"color\"]\n",
    "plt.figure()\n",
    "# plt.title(r\"Dependence of $\\Upsilon_{\\rm src}$ on $\\mathrm{sign}(\\beta)$\")\n",
    "for i, run in enumerate([13, 15]):\n",
    "    data, betas = get_beta(run)\n",
    "    ups_unsign = GSHEWaveform.get_upsilon_src(data[\"grid\"], betas, betalims, dk=data[\"xs\"][1] - data[\"xs\"][0])\n",
    "    ups_plus = GSHEWaveform.get_upsilon_src(data[\"grid\"], betas, betalims, dk=data[\"xs\"][1] - data[\"xs\"][0], beta_sign=1)\n",
    "    ups_minus = GSHEWaveform.get_upsilon_src(data[\"grid\"], betas, betalims, dk=data[\"xs\"][1] - data[\"xs\"][0], beta_sign=-1)\n",
    "    plt.plot(betalims, ups_unsign, c=cols[i],\n",
    "             label=r\"$r_{{\\rm src}} = {} R_{{\\rm s}}$\".format(dists[run]))\n",
    "    plt.plot(betalims, ups_plus, c=cols[i], ls=\"dotted\",\n",
    "             label=r\"$\\beta > 0$\")\n",
    "    plt.plot(betalims, ups_minus, c=cols[i], ls=\"dashed\",\n",
    "             label=r\"$\\beta < 0$\")\n",
    "\n",
    "\n",
    "\n",
    "\n",
    "plt.xscale(\"log\")\n",
    "plt.yscale(\"log\")\n",
    "plt.ylabel(r\"$\\Upsilon_{\\rm src}(\\beta_{\\rm min})$\")\n",
    "plt.xlabel(r\"$\\beta_{\\rm min}$\")\n",
    "plt.grid(alpha=0.1)\n",
    "plt.legend()\n",
    "plt.tight_layout()\n",
    "\n",
    "if tosave:\n",
    "    plt.savefig(join(fout, \"ups_source.pdf\"), dpi=450)\n",
    "plt.show()"
   ]
  },
  {
   "cell_type": "code",
   "execution_count": 10,
   "id": "58634a8d",
   "metadata": {
    "ExecuteTime": {
     "end_time": "2023-03-29T10:56:10.295776Z",
     "start_time": "2023-03-29T10:55:57.296743Z"
    },
    "scrolled": false
   },
   "outputs": [
    {
     "name": "stdout",
     "output_type": "stream",
     "text": [
      "Eliminating 147 point due to beta with average 0.9592 loops.\n"
     ]
    },
    {
     "name": "stderr",
     "output_type": "stream",
     "text": [
      "/home/miguel/code/GSHE/scripts/../GSHEWaveform/shadow.py:213: RuntimeWarning: invalid value encountered in sqrt\n",
      "  area = numpy.sqrt(1 / (1 - radius2)) / numpy.abs(magnification)\n"
     ]
    },
    {
     "data": {
      "image/png": "[encoded data removed]",
      "text/plain": [
       "<Figure size 248.4x185.76 with 1 Axes>"
      ]
     },
     "metadata": {
      "needs_background": "light"
     },
     "output_type": "display_data"
    }
   ],
   "source": [
    "def get_beta_mu(run):\n",
    "    data = GSHEWaveform.read_shooting(run, \"../data\", 0.2)\n",
    "    betas = GSHEWaveform.read_signed_beta(data)\n",
    "    hull = GSHEWaveform.build_shadowhull(data[\"grid\"], betas, N=200)\n",
    "    betas = GSHEWaveform.fillshadow(data[\"grid\"], betas, hull)\n",
    "    \n",
    "    mu = np.abs(data[\"Xgeo\"][:, 8])\n",
    "    hull = GSHEWaveform.build_shadowhull(data[\"grid\"], mu, N=200)\n",
    "    mu = GSHEWaveform.fillshadow(data[\"grid\"], mu, hull)\n",
    "\n",
    "    return data, betas, mu\n",
    "\n",
    "\n",
    "betalims = np.logspace(-2.5, 1.5, 1000)\n",
    "dists = {13: 5, 14: 7.5, 15: 10}\n",
    "ls = [\"solid\", \"dotted\"]\n",
    "cols = plt.rcParams[\"axes.prop_cycle\"].by_key()[\"color\"]\n",
    "plt.figure()\n",
    "data, betas, mu = get_beta_mu(13)\n",
    "GSHEWaveform.setmplstyle(\"../plot_style.txt\")\n",
    "for j, nloop_max in enumerate([0, 1, 2, 3, None]):\n",
    "    ups = GSHEWaveform.get_upsilon_obs(\n",
    "            data[\"grid\"], betas, betalims, dk=data[\"xs\"][1] - data[\"xs\"][0],\n",
    "            magnification=mu, nloops=data[\"Xgeo\"][:, 5], nloop_max=nloop_max)\n",
    "    label=r\"$N_{{\\rm loops}} \\leq {}$\".format(nloop_max) if nloop_max is not None else \"All\"\n",
    "    plt.plot(betalims, ups,label=label, c=cols[j])\n",
    "\n",
    "plt.xscale(\"log\")\n",
    "plt.yscale(\"log\")\n",
    "plt.ylabel(r\"$\\Upsilon_{\\rm obs}(\\beta_{\\rm min})$\")\n",
    "plt.xlabel(r\"$\\beta_{\\rm min}$\")\n",
    "plt.grid(alpha=0.1)\n",
    "plt.legend()\n",
    "plt.tight_layout()\n",
    "if tosave:\n",
    "    plt.savefig(join(fout, \"ups_obs_loops.pdf\"), dpi=450)\n",
    "plt.show()"
   ]
  },
  {
   "cell_type": "code",
   "execution_count": null,
   "id": "70406b61",
   "metadata": {},
   "outputs": [],
   "source": []
  },
  {
   "cell_type": "code",
   "execution_count": 19,
   "id": "9f385baf",
   "metadata": {
    "ExecuteTime": {
     "end_time": "2023-03-29T10:57:39.397406Z",
     "start_time": "2023-03-29T10:57:26.925562Z"
    }
   },
   "outputs": [
    {
     "name": "stdout",
     "output_type": "stream",
     "text": [
      "Eliminating 147 point due to beta with average 0.9592 loops.\n"
     ]
    },
    {
     "name": "stderr",
     "output_type": "stream",
     "text": [
      "/home/miguel/code/GSHE/scripts/../GSHEWaveform/shadow.py:213: RuntimeWarning: invalid value encountered in sqrt\n",
      "  area = numpy.sqrt(1 / (1 - radius2)) / numpy.abs(magnification)\n"
     ]
    },
    {
     "data": {
      "image/png": "[encoded data removed]",
      "text/plain": [
       "<Figure size 248.4x185.76 with 1 Axes>"
      ]
     },
     "metadata": {
      "needs_background": "light"
     },
     "output_type": "display_data"
    }
   ],
   "source": [
    "data = GSHEWaveform.read_shooting(13, \"../data\", 0.2)\n",
    "\n",
    "betas = GSHEWaveform.read_signed_beta(data)\n",
    "hull = GSHEWaveform.build_shadowhull(data[\"grid\"], betas, N=200)\n",
    "betas = GSHEWaveform.fillshadow(data[\"grid\"], betas, hull)\n",
    "\n",
    "\n",
    "mu = np.abs(data[\"Xgeo\"][:, 8])\n",
    "hull = GSHEWaveform.build_shadowhull(data[\"grid\"], mu, N=200)\n",
    "mu = GSHEWaveform.fillshadow(data[\"grid\"], mu, hull)\n",
    "betalims = np.logspace(-2.5, 1.5, 1000)\n",
    "\n",
    "GSHEWaveform.setmplstyle(\"../plot_style.txt\")\n",
    "plt.figure()\n",
    "for th in [0, 0.01, 0.1, 1]:\n",
    "    ups = GSHEWaveform.get_upsilon_obs(\n",
    "            data[\"grid\"], betas, betalims, dk=data[\"xs\"][1] - data[\"xs\"][0],\n",
    "            magnification=mu, nloops=data[\"Xgeo\"][:, 5], min_magnification=th, nloop_max=0)\n",
    "    plt.plot(betalims, ups, label=r\"$|\\mu_{{\\rm geo}}| > {}$\".format(th))\n",
    "\n",
    "\n",
    "plt.xscale(\"log\")\n",
    "plt.yscale(\"log\")\n",
    "# plt.title(r\"Dependence of $\\Upsilon_{\\rm src}$ on $|\\mu|$ for $N_{\\rm loops} = 0$\")\n",
    "plt.ylabel(r\"$\\Upsilon_{\\rm obs}(\\beta_{\\rm min})$\")\n",
    "plt.xlabel(r\"$\\beta_{\\rm min}$\")\n",
    "plt.grid(alpha=0.1)\n",
    "plt.legend()\n",
    "plt.tight_layout()\n",
    "if tosave:\n",
    "    plt.savefig(join(fout, \"ups_obs_magnif.pdf\"), dpi=450)\n",
    "plt.show()"
   ]
  },
  {
   "cell_type": "code",
   "execution_count": 4,
   "id": "3d8281e3",
   "metadata": {
    "ExecuteTime": {
     "end_time": "2023-03-29T10:57:39.397406Z",
     "start_time": "2023-03-29T10:57:26.925562Z"
    }
   },
   "outputs": [
    {
     "name": "stdout",
     "output_type": "stream",
     "text": [
      "Eliminating 147 point due to beta with average 0.9592 loops.\n"
     ]
    },
    {
     "name": "stderr",
     "output_type": "stream",
     "text": [
      "/home/miguel/code/GSHE/scripts/../GSHEWaveform/shadow.py:213: RuntimeWarning: invalid value encountered in sqrt\n",
      "  area = numpy.sqrt(1 / (1 - radius2)) / numpy.abs(magnification)\n"
     ]
    },
    {
     "data": {
      "image/png": "[encoded data removed]",
      "text/plain": [
       "<Figure size 248.4x185.76 with 1 Axes>"
      ]
     },
     "metadata": {
      "needs_background": "light"
     },
     "output_type": "display_data"
    }
   ],
   "source": [
    "data = GSHEWaveform.read_shooting(13, \"../data\", 0.2)\n",
    "\n",
    "betas = GSHEWaveform.read_signed_beta(data)\n",
    "hull = GSHEWaveform.build_shadowhull(data[\"grid\"], betas, N=200)\n",
    "betas = GSHEWaveform.fillshadow(data[\"grid\"], betas, hull)\n",
    "\n",
    "\n",
    "mu = np.abs(data[\"Xgeo\"][:, 8])\n",
    "hull = GSHEWaveform.build_shadowhull(data[\"grid\"], mu, N=200)\n",
    "mu = GSHEWaveform.fillshadow(data[\"grid\"], mu, hull)\n",
    "betalims = np.logspace(-2.5, 1.5, 1000)\n",
    "\n",
    "GSHEWaveform.setmplstyle(\"../plot_style.txt\")\n",
    "plt.figure()\n",
    "for th in [0, 0.01, 0.1, 1]:\n",
    "    ups = GSHEWaveform.get_upsilon_obs(\n",
    "            data[\"grid\"], betas, betalims, dk=data[\"xs\"][1] - data[\"xs\"][0],\n",
    "            magnification=mu, nloops=data[\"Xgeo\"][:, 5], min_magnification=th, nloop_max=0)\n",
    "    plt.plot(betalims, ups, label=r\"$|\\mu_{{\\rm geo}}| > {}$\".format(th))\n",
    "\n",
    "\n",
    "plt.xscale(\"log\")\n",
    "plt.yscale(\"log\")\n",
    "# plt.title(r\"Dependence of $\\Upsilon_{\\rm src}$ on $|\\mu|$ for $N_{\\rm loops} = 0$\")\n",
    "plt.ylabel(r\"$\\Upsilon_{\\rm obs}(\\beta_{\\rm min})$\")\n",
    "plt.xlabel(r\"$\\beta_{\\rm min}$\")\n",
    "plt.grid(alpha=0.1)\n",
    "plt.legend()\n",
    "plt.tight_layout()\n",
    "# if tosave:\n",
    "#     plt.savefig(join(fout, \"ups_obs_magnif.pdf\"), dpi=450)\n",
    "plt.show()"
   ]
  },
  {
   "cell_type": "markdown",
   "id": "d5d0cc10",
   "metadata": {},
   "source": [
    "# Generate output for forecast"
   ]
  },
  {
   "cell_type": "code",
   "execution_count": 20,
   "id": "6cb19182",
   "metadata": {},
   "outputs": [
    {
     "data": {
      "text/plain": [
       "'_all'"
      ]
     },
     "execution_count": 20,
     "metadata": {},
     "output_type": "execute_result"
    }
   ],
   "source": [
    "np.sqrt(0.1), np.sqrt(0.05)\n",
    "Nmax = 7\n",
    "loop_name = '' if Nmax == 0 else ( '_all' if Nmax==7 else '_%i'%n)\n",
    "loop_name"
   ]
  },
  {
   "cell_type": "code",
   "execution_count": null,
   "id": "90098a89",
   "metadata": {},
   "outputs": [
    {
     "name": "stdout",
     "output_type": "stream",
     "text": [
      "120 _all\n",
      "Eliminating 147 point due to beta with average 0.9592 loops.\n",
      "1e-05\n",
      "1.2278110934542724e-05\n",
      "1.5075200812093729e-05\n",
      "1.8509498793139535e-05\n",
      "2.272616795249514e-05\n",
      "2.79034411237785e-05\n",
      "3.426015455732339e-05\n",
      "4.2064997828939513e-05\n",
      "5.164787098050182e-05\n",
      "6.341382894315512e-05\n",
      "7.786020265481731e-05\n",
      "9.559762055818249e-05\n",
      "0.00011737581902916854\n",
      "0.00014411533270729406\n",
      "0.00017694640423486898\n",
      "0.00021725675806641596\n",
      "0.0002667502576818562\n",
      "0.00032751892556356845\n",
      "0.000402131370123173\n",
      "0.0004937413572631978\n",
      "0.0006062211157449228\n",
      "0.0007443250109978419\n",
      "0.0009138905056386234\n",
      "0.001122084901025635\n",
      "0.0013777082892768124\n",
      "0.0016915655211179762\n",
      "0.0020769229121334063\n",
      "0.0025500689917667494\n",
      "0.003131002997164963\n",
      "0.003844280213557713\n",
      "0.004720049892552919\n",
      "0.005795329619734115\n",
      "0.007115569997333668\n",
      "0.008736575778976656\n",
      "0.01072686466023143\n",
      "0.013170563427814742\n",
      "0.01617096388371405\n",
      "0.019854888848272474\n",
      "0.024378052787210468\n",
      "0.029931643648950824\n"
     ]
    }
   ],
   "source": [
    "#store as a function of the minimum magnification\n",
    "\n",
    "r_src = 120\n",
    "Nmax = 7\n",
    "loop_name = '' if Nmax == 0 else ( '_all' if Nmax==7 else '_%i'%n)\n",
    "print(r_src,loop_name)\n",
    "\n",
    "#rescaling of mu and Upsilon by 1/r^2\n",
    "r2_factor = (r_src/5.)**2\n",
    "\n",
    "mu_min_arr = np.geomspace(1e-5,1.1e2,80)\n",
    "\n",
    "data = GSHEWaveform.read_shooting(13, \"../data\", 0.2)\n",
    "\n",
    "ups_obs_arr = []\n",
    "\n",
    "for mu_min in mu_min_arr:\n",
    "    mu = np.abs(data[\"Xgeo\"][:, 8])\n",
    "    mu/= r2_factor\n",
    "    ups = GSHEWaveform.get_upsilon_obs(\n",
    "            data[\"grid\"], betas, betalims, dk=data[\"xs\"][1] - data[\"xs\"][0],\n",
    "            magnification=mu, nloops=data[\"Xgeo\"][:, 5], min_magnification=mu_min, nloop_max=Nmax)\n",
    "    ups/= r2_factor\n",
    "    print(mu_min)\n",
    "    ups_obs_arr.append(ups)"
   ]
  },
  {
   "cell_type": "code",
   "execution_count": null,
   "id": "e0ff7e27",
   "metadata": {},
   "outputs": [],
   "source": [
    "ups_obs_arr = np.array(ups_obs_arr)\n",
    "for i,mu_min in enumerate(mu_min_arr):\n",
    "    plt.loglog(betalims,ups_obs_arr[i,:],label='%g'%mu_min)\n",
    "    \n",
    "# plt.legend()"
   ]
  },
  {
   "cell_type": "code",
   "execution_count": null,
   "id": "772bc5be",
   "metadata": {},
   "outputs": [],
   "source": [
    "import matplotlib.pyplot as plt\n",
    "import numpy as np\n",
    "from matplotlib import colors\n",
    "\n",
    "ups_obs_arr = np.array(ups_obs_arr)\n",
    "\n",
    "\n",
    "fig, ax = plt.subplots()\n",
    "lines = []\n",
    "\n",
    "mu_min_norm = colors.LogNorm(vmin=min(mu_min_arr), vmax=max(mu_min_arr))\n",
    "cbar = fig.colorbar(plt.cm.ScalarMappable(norm=mu_min_norm, cmap='viridis'), ax=ax)\n",
    "cmap = plt.cm.get_cmap('viridis')\n",
    "\n",
    "for i, mu_min in enumerate(mu_min_arr):\n",
    "    line, = ax.loglog(betalims, ups_obs_arr[i, :], c=cmap(mu_min_norm(mu_min)))\n",
    "    lines.append(line)\n",
    "\n",
    "cbar.set_label(r'$\\mu_{\\rm min}$')\n",
    "\n",
    "\n",
    "\n",
    "ax.set_ylabel(r\"$\\Upsilon_{\\rm obs}(\\beta_{\\rm min},\\mu_{\\rm min})$\")\n",
    "ax.set_xlabel(r\"$\\beta_{\\rm min}$\")\n",
    "ax.set_ylim(1e-6,)\n",
    "# ax.legend()\n",
    "# plt.show()\n",
    "ax.grid(alpha=0.3)\n",
    "fig.tight_layout()\n",
    "if False:\n",
    "    fig.savefig(join(fout, \"ups_obs_magnif_many_%g_%s.pdf\")%(r_src,loop_name), dpi=450)"
   ]
  },
  {
   "cell_type": "code",
   "execution_count": null,
   "id": "bf79be1a",
   "metadata": {},
   "outputs": [],
   "source": [
    "#save file\n",
    "data_dict = {\"betalims\": betalims, \"mu_min_arr\": mu_min_arr, \"ups_obs_arr\": ups_obs_arr}\n",
    "header = \" \".join(data_dict.keys())\n",
    "np.save(\"../data/Ups_obs_mu_min_%g%s\"%(r_src,loop_name), data_dict, allow_pickle=True)"
   ]
  },
  {
   "cell_type": "code",
   "execution_count": 94,
   "id": "dc9d961a",
   "metadata": {},
   "outputs": [
    {
     "data": {
      "text/plain": [
       "'../data/Ups_obs_mu_min_90_all'"
      ]
     },
     "execution_count": 94,
     "metadata": {},
     "output_type": "execute_result"
    }
   ],
   "source": [
    "\"../data/Ups_obs_mu_min_%g%s\"%(r_src,loop_name)"
   ]
  },
  {
   "cell_type": "code",
   "execution_count": null,
   "id": "c81dc77e",
   "metadata": {},
   "outputs": [],
   "source": []
  }
 ],
 "metadata": {
  "kernelspec": {
   "display_name": "Python 3",
   "language": "python",
   "name": "python3"
  },
  "language_info": {
   "codemirror_mode": {
    "name": "ipython",
    "version": 3
   },
   "file_extension": ".py",
   "mimetype": "text/x-python",
   "name": "python",
   "nbconvert_exporter": "python",
   "pygments_lexer": "ipython3",
   "version": "3.8.10"
  }
 },
 "nbformat": 4,
 "nbformat_minor": 5
}
