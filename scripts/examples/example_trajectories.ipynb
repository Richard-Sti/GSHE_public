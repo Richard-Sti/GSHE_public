{
 "cells": [
  {
   "cell_type": "code",
   "execution_count": 2,
   "id": "42241df5",
   "metadata": {
    "ExecuteTime": {
     "end_time": "2022-04-10T01:12:45.645000+02:00",
     "start_time": "2022-04-09T23:12:10.428Z"
    }
   },
   "outputs": [],
   "source": [
    "using GSHEIntegrator"
   ]
  },
  {
   "cell_type": "markdown",
   "id": "c7438f4e",
   "metadata": {},
   "source": [
    "### Trajectories given an initial direction"
   ]
  },
  {
   "cell_type": "code",
   "execution_count": 3,
   "id": "e2eff7a0",
   "metadata": {
    "ExecuteTime": {
     "end_time": "2022-04-10T01:12:49.750000+02:00",
     "start_time": "2022-04-09T23:12:22.203Z"
    }
   },
   "outputs": [
    {
     "data": {
      "text/plain": [
       "2-element Vector{Float64}:\n",
       " 0.2\n",
       " 0.3"
      ]
     },
     "metadata": {},
     "output_type": "display_data"
    }
   ],
   "source": [
    "# Solve the GSHE equations for a range of ϵs\n",
    "ϵs = (10).^LinRange(-3, -1, 20)\n",
    "\n",
    "# Geometry of the problem: position of the source, observer, and the black hole spin.\n",
    "# Optionally contains other useful flags, see its definition.\n",
    "geometry = setup_geometry(\n",
    "   rsource=5, θsource=0.5π, ϕsource=0.0π,\n",
    "   robs=25, θobs=0.4π, ϕobs=π,\n",
    "   a=0.99)\n",
    "\n",
    "\n",
    "# Initial direction psi, rho\n",
    "p0 = [0.2, 0.3]"
   ]
  },
  {
   "cell_type": "code",
   "execution_count": 4,
   "id": "fc6e7b9c",
   "metadata": {},
   "outputs": [
    {
     "data": {
      "text/plain": [
       "retcode: Terminated\n",
       "Interpolation: specialized 9th order lazy interpolation\n",
       "t: 78-element Vector{Float64}:\n",
       "  0.0\n",
       "  0.018235197957354923\n",
       "  0.03904833132176877\n",
       "  0.06461468163573669\n",
       "  0.09240258026233944\n",
       "  0.12281602317205653\n",
       "  0.1620956657710384\n",
       "  0.20311150845303805\n",
       "  0.2526264901365703\n",
       "  0.31056229928746104\n",
       "  ⋮\n",
       " 29.358125561918673\n",
       " 29.67562718894594\n",
       " 29.95045985911681\n",
       " 30.217981181848014\n",
       " 30.485298352400196\n",
       " 30.7514994928346\n",
       " 30.99130568572259\n",
       " 31.234605284780095\n",
       " 31.251036958884768\n",
       "u: 78-element Vector{Vector{Float64}}:\n",
       " [0.0, 5.0, 1.5707963267948966, 0.0, 0.23739275077208705, 0.2935540084691326, 4.546659929083022]\n",
       " [0.02125282465195659, 5.0027836748576355, 1.5709804907863674, 0.003462739454690314, 0.23995929029458965, 0.2936406407267646, 4.546654474358974]\n",
       " [0.04550518749214242, 5.0059983285679035, 1.5711905382455773, 0.0074102606745321655, 0.24288202233469647, 0.2937372320974729, 4.546648139988765]\n",
       " [0.07528881736191147, 5.010001681606506, 1.5714483307456182, 0.012252293971906553, 0.24646244942769424, 0.29385254600961924, 4.5466401988647736]\n",
       " [0.10765108913381331, 5.01442098308909, 1.571728238860052, 0.017506200563723325, 0.25034162204278415, 0.2939737107068684, 4.546631364835681]\n",
       " [0.14305977360785654, 5.019338960590054, 1.572034249190668, 0.02324579305310676, 0.25457237255605236, 0.29410134940938487, 4.546621450305897]\n",
       " [0.18877304435125392, 5.025815782361055, 1.572428927011536, 0.03064175611018708, 0.2600130534349435, 0.2942585107135003, 4.546608258759622]\n",
       " [0.23648502477305358, 5.0327290145648815, 1.572840389154285, 0.038344015163156206, 0.2656656145107079, 0.2944133783991703, 4.546594009864182]\n",
       " [0.2940532962935028, 5.041278426069644, 1.5733362004610172, 0.047613711518108344, 0.2724498954626027, 0.29458777089030647, 4.546576148264819]\n",
       " [0.36136877841021353, 5.051563495432565, 1.5739150492367462, 0.05841932398871796, 0.2803319882038027, 0.2947743846431847, 4.54655430889094]\n",
       " ⋮\n",
       " [27.801296997834015, 23.573853180350934, 1.6426161434494537, 1.516882302702654, 0.8202912573957163, 0.10608010562181898, 4.541977650213854]\n",
       " [28.069624030735483, 23.812734801126506, 1.6426250606018742, 1.5194994830455295, 0.8200388512190471, 0.10622447310338676, 4.541994825605784]\n",
       " [28.301696972793756, 24.01962590371091, 1.642616481432694, 1.521722652217269, 0.8198207161536586, 0.10664766296572493, 4.542014983949604]\n",
       " [28.527426657674294, 24.221110591822885, 1.64259702285754, 1.5238499819018378, 0.8196087933899675, 0.10727036180500427, 4.542038121936888]\n",
       " [28.752819995800245, 24.422534304199605, 1.642574389855434, 1.5259404187436214, 0.8193975411643515, 0.10796269415213079, 4.542061984852109]\n",
       " [28.977112094350538, 24.623205642130785, 1.6425595654965246, 1.5279879405428072, 0.8191877900200857, 0.10852114343602925, 4.542082671742457]\n",
       " [29.179030017437345, 24.80405224623609, 1.6425621722621742, 1.5298039102733083, 0.8189994568846889, 0.10873384145997035, 4.542095401393103]\n",
       " [29.383760984521114, 24.987601270426776, 1.6425868447804732, 1.5316193143983474, 0.818809052001373, 0.10853751837377974, 4.5421003074655095]\n",
       " [29.39758324268104, 24.999999999999996, 1.642589394898868, 1.531740954488808, 0.818796218342544, 0.1085074695412629, 4.542100319006852]"
      ]
     },
     "metadata": {},
     "output_type": "display_data"
    }
   ],
   "source": [
    "# Geodesic, specified because ϵ = 0. The solution is integrated until the ray reaches r = robs.\n",
    "geodesic_sol = solve_problem(p0, geometry, 0, 2; save_everystep=true)\n",
    "\n",
    "# GSHE at ϵ=0.1 for s=2\n",
    "gshe_sol = GSHEIntegrator.solve_problem(p0, geometry, 0.1, 2; save_everystep=true)"
   ]
  },
  {
   "cell_type": "code",
   "execution_count": 5,
   "id": "041a21d8",
   "metadata": {
    "scrolled": true
   },
   "outputs": [],
   "source": [
    "# TODO: add plot\n",
    "\n",
    "# transform(x::Vector{<:Real}) = GSHEIntegrator.spherical_to_cartesian(x, geometry.a)\n",
    "# geodesic_trajectory = mapslices(transform, geodesic_sol[2:4, :], dims=1)\n",
    "# gshe_trajectory = mapslices(transform, gshe_sol[2:4, :], dims=1)\n",
    "\n",
    "# fig = Plots.plot()\n",
    "# Plots.plot!(fig, [geodesic_trajectory[i, :] for i in 1:3]..., label=\"Geodesic\")\n",
    "# Plots.plot!(fig, [gshe_trajectory[i, :] for i in 1:3]..., label=\"GSHE\")\n",
    "\n",
    "# # GSHEIntegrator.plot_start_end!(fig, geometry)\n",
    "# # GSHEIntegrator.plotbh!(fig)"
   ]
  },
  {
   "cell_type": "markdown",
   "id": "27562e98",
   "metadata": {},
   "source": [
    "### Trajectories between source and observer"
   ]
  },
  {
   "cell_type": "code",
   "execution_count": 6,
   "id": "b62d6f6e",
   "metadata": {},
   "outputs": [
    {
     "data": {
      "text/plain": [
       "2×9 Matrix{Float64}:\n",
       " 0.968614  4.13096  36.1165  1.23829  3.67716e-15  0.0   2.41204  2.0  NaN\n",
       " 2.34158   1.99183  41.186   1.23829  1.48701e-14  0.0  -4.10671  2.0  NaN"
      ]
     },
     "metadata": {},
     "output_type": "display_data"
    }
   ],
   "source": [
    "Nsols = 2\n",
    "\n",
    "# Each row contains:\n",
    "# [init_angle_1, init_angle_2, arrival_time, grav_redshift, optimizer_minimum, nloops, phi_killing, initial_attempt, magnification]\n",
    "Xgeo = solve_initial(geometry, 0, Nsols)"
   ]
  },
  {
   "cell_type": "code",
   "execution_count": 7,
   "id": "a609501a",
   "metadata": {},
   "outputs": [
    {
     "name": "stdout",
     "output_type": "stream",
     "text": [
      "Calculating 1-th bundle.\n",
      "5.0%, ϵ=0.001\n",
      "10.0%, ϵ=0.0013\n",
      "15.0%, ϵ=0.0016\n",
      "20.0%, ϵ=0.0021\n",
      "25.0%, ϵ=0.0026\n",
      "30.0%, ϵ=0.0034\n",
      "35.0%, ϵ=0.0043\n",
      "40.0%, ϵ=0.0055\n",
      "45.0%, ϵ=0.007\n",
      "50.0%, ϵ=0.0089\n",
      "55.0%, ϵ=0.011\n",
      "60.0%, ϵ=0.014\n",
      "65.0%, ϵ=0.018\n",
      "70.0%, ϵ=0.023\n",
      "75.0%, ϵ=0.03\n",
      "80.0%, ϵ=0.038\n",
      "85.0%, ϵ=0.048\n",
      "90.0%, ϵ=0.062\n",
      "95.0%, ϵ=0.078\n",
      "100.0%, ϵ=0.1\n",
      "5.0%, ϵ=0.001\n",
      "10.0%, ϵ=0.0013\n",
      "15.0%, ϵ=0.0016\n",
      "20.0%, ϵ=0.0021\n",
      "25.0%, ϵ=0.0026\n",
      "30.0%, ϵ=0.0034\n",
      "35.0%, ϵ=0.0043\n",
      "40.0%, ϵ=0.0055\n",
      "45.0%, ϵ=0.007\n",
      "50.0%, ϵ=0.0089\n",
      "55.0%, ϵ=0.011\n",
      "60.0%, ϵ=0.014\n",
      "65.0%, ϵ=0.018\n",
      "70.0%, ϵ=0.023\n",
      "75.0%, ϵ=0.03\n",
      "80.0%, ϵ=0.038\n",
      "85.0%, ϵ=0.048\n",
      "90.0%, ϵ=0.062\n",
      "95.0%, ϵ=0.078\n",
      "100.0%, ϵ=0.1\n",
      "Calculating 2-th bundle.\n",
      "5.0%, ϵ=0.001\n",
      "10.0%, ϵ=0.0013\n",
      "15.0%, ϵ=0.0016\n",
      "20.0%, ϵ=0.0021\n",
      "25.0%, ϵ=0.0026\n",
      "30.0%, ϵ=0.0034\n",
      "35.0%, ϵ=0.0043\n",
      "40.0%, ϵ=0.0055\n",
      "45.0%, ϵ=0.007\n",
      "50.0%, ϵ=0.0089\n",
      "55.0%, ϵ=0.011\n",
      "60.0%, ϵ=0.014\n",
      "65.0%, ϵ=0.018\n",
      "70.0%, ϵ=0.023\n",
      "75.0%, ϵ=0.03\n",
      "80.0%, ϵ=0.038\n",
      "85.0%, ϵ=0.048\n",
      "90.0%, ϵ=0.062\n",
      "95.0%, ϵ=0.078\n",
      "100.0%, ϵ=0.1\n",
      "5.0%, ϵ=0.001\n",
      "10.0%, ϵ=0.0013\n",
      "15.0%, ϵ=0.0016\n",
      "20.0%, ϵ=0.0021\n",
      "25.0%, ϵ=0.0026\n",
      "30.0%, ϵ=0.0034\n",
      "35.0%, ϵ=0.0043\n",
      "40.0%, ϵ=0.0055\n",
      "45.0%, ϵ=0.007\n",
      "50.0%, ϵ=0.0089\n",
      "55.0%, ϵ=0.011\n",
      "60.0%, ϵ=0.014\n",
      "65.0%, ϵ=0.018\n",
      "70.0%, ϵ=0.023\n",
      "75.0%, ϵ=0.03\n",
      "80.0%, ϵ=0.038\n",
      "85.0%, ϵ=0.048\n",
      "90.0%, ϵ=0.062\n",
      "95.0%, ϵ=0.078\n",
      "100.0%, ϵ=0.1\n"
     ]
    }
   ],
   "source": [
    "# Shape is  (Nsols, s = ± 2, Nϵs, 9). Last index same as above\n",
    "Xgshe = solve_increasing(Xgeo, geometry, ϵs; verbose=true);"
   ]
  },
  {
   "cell_type": "code",
   "execution_count": 20,
   "id": "8f9bb3cb",
   "metadata": {},
   "outputs": [],
   "source": [
    "# fig = Plots.plot()\n",
    "# for i in 1:2\n",
    "#     geodesic_sol = GSHEIntegrator.solve_problem(Xgeo[i, 1:2], geometry, 0, 2; save_everystep=true)\n",
    "#     geodesic_trajectory = mapslices(transform, geodesic_sol[2:4, :], dims=1)\n",
    "#     Plots.plot!(fig, [geodesic_trajectory[i, :] for i in 1:3]..., label=\"Geodesic $i\")\n",
    "# end\n",
    "# GSHEIntegrator.plot_start_end!(fig, geometry)\n",
    "# GSHEIntegrator.plotbh!(fig)\n",
    "# display(fig)"
   ]
  },
  {
   "cell_type": "code",
   "execution_count": null,
   "id": "9603d578",
   "metadata": {
    "scrolled": true
   },
   "outputs": [],
   "source": [
    "# # Each row contains ψ, ρ, t, z, Δσmin, nloops\n",
    "# # Xgeo = GSHEIntegrator.solve_initial(geometry, 0.0, Nsols)\n",
    "# # Shape is  (Nsols, s = ± 2, Nϵs, 6). Last index same as above\n",
    "# Xgshe = GSHEIntegrator.solve_increasing(Xgeo, geometry, ϵs; verbose=false);\n",
    "\n",
    "\n",
    "# fig = Plots.plot(xlabel=L\"\\epsilon\", ylabel=L\"|\\Delta t|\", scale=:log10, yscale=:log10, legend=:topleft)\n",
    "# for i in 1:Nsols, (s, slabel) in enumerate([2, -2])\n",
    "#     dt = abs.(Xgshe[i,  s, :, 3] .- Xgeo[i, 3])\n",
    "#     Plots.plot!(fig, ϵs, dt, label=\"GSHE to geo: i=$i, s=$slabel\")\n",
    "# end\n",
    "\n",
    "# for i in 1:Nsols\n",
    "#     dt = abs.(Xgshe[i,  1, :, 3] .- Xgshe[i, 2, :, 3])\n",
    "#     Plots.plot!(fig, ϵs, dt, label=\"GSHE to GSHE: i=$i\")\n",
    "# end\n",
    "\n",
    "# display(fig)"
   ]
  },
  {
   "cell_type": "code",
   "execution_count": 190,
   "id": "85fbfb63",
   "metadata": {},
   "outputs": [],
   "source": [
    "# transform(x::Vector{<:Real}) = GSHEIntegrator.spherical_to_cartesian(x, geometry.a)\n",
    "# geodesic_trajectory = mapslices(transform, geodesic_sol[2:4, :], dims=1)\n",
    "# gshe_trajectory = mapslices(transform, gshe_sol[2:4, :], dims=1)\n",
    "\n",
    "# fig = Plots.plot()\n",
    "# Plots.plot!(fig, [geodesic_trajectory[i, :] for i in 1:3]..., label=\"Geodesic\")\n",
    "# Plots.plot!(fig, [gshe_trajectory[i, :] for i in 1:3]..., label=\"GSHE\")"
   ]
  },
  {
   "cell_type": "code",
   "execution_count": 201,
   "id": "d30612ac",
   "metadata": {},
   "outputs": [
    {
     "name": "stdout",
     "output_type": "stream",
     "text": [
      "αs and βs, rows solutions and columns GSHE to GEO, GSHE to GEO and GSHE to GSHE\n"
     ]
    },
    {
     "data": {
      "text/plain": [
       "2×3 Matrix{Float64}:\n",
       " 1.99795  2.00214  2.99506\n",
       " 1.98457  2.01557  2.9999"
      ]
     },
     "metadata": {},
     "output_type": "display_data"
    },
    {
     "data": {
      "text/plain": [
       "2×3 Matrix{Float64}:\n",
       " 0.0422383  0.0433   0.0099852\n",
       " 0.0930454  0.11178  0.17918"
      ]
     },
     "metadata": {},
     "output_type": "display_data"
    }
   ],
   "source": [
    "# αs, βs = GSHEIntegrator.fit_timing(ϵs, Xgeo, Xgshe, geometry; fit_gshe_gshe=true);\n",
    "# println(\"αs and βs, rows solutions and columns GSHE to GEO, GSHE to GEO and GSHE to GSHE\")\n",
    "# flush(stdout)\n",
    "\n",
    "# display(αs[..,1])\n",
    "# display(βs[..,1])"
   ]
  },
  {
   "cell_type": "code",
   "execution_count": 9,
   "id": "06551083",
   "metadata": {},
   "outputs": [
    {
     "name": "stdout",
     "output_type": "stream",
     "text": [
      "αs and βs, rows solutions and columns GSHE to GEO, GSHE to GEO and GSHE to GSHE\n"
     ]
    }
   ],
   "source": [
    "αs, βs = fit_timing(ϵs, Xgeo, Xgshe, geometry; fit_gshe_gshe=true);\n",
    "println(\"αs and βs, rows solutions and columns GSHE to GEO, GSHE to GEO and GSHE to GSHE\")\n",
    "flush(stdout)\n",
    "\n",
    "# display(αs[..,1])\n",
    "# display(βs[..,1])"
   ]
  }
 ],
 "metadata": {
  "interpreter": {
   "hash": "dbd280339a87294cb3b17083353fcfaf1c3d9ae0d07611c3a87490c645f5314b"
  },
  "kernelspec": {
   "display_name": "Julia 1.10.4",
   "language": "julia",
   "name": "julia-1.10"
  },
  "language_info": {
   "file_extension": ".jl",
   "mimetype": "application/julia",
   "name": "julia",
   "version": "1.10.4"
  }
 },
 "nbformat": 4,
 "nbformat_minor": 5
}
